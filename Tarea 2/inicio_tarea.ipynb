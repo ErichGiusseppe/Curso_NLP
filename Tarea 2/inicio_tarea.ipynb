{
 "cells": [
  {
   "cell_type": "code",
   "execution_count": 5,
   "id": "1d1cfe31",
   "metadata": {},
   "outputs": [],
   "source": [
    "import nltk \n",
    "import re\n",
    "from nltk.stem import PorterStemmer\n",
    "STEMMER = PorterStemmer()"
   ]
  },
  {
   "cell_type": "code",
   "execution_count": null,
   "id": "cbbbcfb1",
   "metadata": {},
   "outputs": [],
   "source": [
    "def preprocess_text(text:str) -> list[str]:\n",
    "\n",
    "    text = text.lower()\n",
    "    text = re.sub(r\"[^a-zA-Z1-9\\s]\", \" \", text, flags=re.I | re.A | re.MULTILINE)\n",
    "    text = re.sub(r\"\\d\", \"NUM\", text)\n",
    "    text = \"<s> \" + text\n",
    "    text = text + \" </s>\"\n",
    "    text = text.strip().split()\n",
    "    tokens = [STEMMER.stem(word) for word in text]\n",
    "    return tokens\n",
    "    \n",
    "def get_sentences(text:str, k: int) -> list[list]:\n",
    "    sentences_list = []\n",
    "    text = text.split()\n",
    "    last = 0\n",
    "    for i in range(k,len(text)):\n",
    "        sentences = text[last:i]\n",
    "        last +=1\n",
    "        text_slice = \" \".join(sentences)\n",
    "        text_slice_token = preprocess_text(text_slice)\n",
    "        sentences_list.append(text_slice_token)\n",
    "    return sentences_list\n",
    "    "
   ]
  },
  {
   "cell_type": "code",
   "execution_count": null,
   "id": "35bd948b",
   "metadata": {},
   "outputs": [
    {
     "name": "stdout",
     "output_type": "stream",
     "text": [
      "['hello', 'how', 'are', 'you', 'playing', 'pong', 'and', 'pong', 'your', 'mom']\n"
     ]
    }
   ],
   "source": [
    "get_sentences(\"hello how are you playing pong and pong your mom\", k=2)"
   ]
  },
  {
   "cell_type": "code",
   "execution_count": 2,
   "id": "6fb127f0",
   "metadata": {},
   "outputs": [],
   "source": [
    "import xml.etree.ElementTree as ET\n",
    "import os"
   ]
  },
  {
   "cell_type": "code",
   "execution_count": null,
   "id": "d027006b",
   "metadata": {},
   "outputs": [],
   "source": [
    "import pandas as pd \n",
    "\n",
    "file "
   ]
  }
 ],
 "metadata": {
  "kernelspec": {
   "display_name": ".venv",
   "language": "python",
   "name": "python3"
  },
  "language_info": {
   "codemirror_mode": {
    "name": "ipython",
    "version": 3
   },
   "file_extension": ".py",
   "mimetype": "text/x-python",
   "name": "python",
   "nbconvert_exporter": "python",
   "pygments_lexer": "ipython3",
   "version": "3.10.12"
  }
 },
 "nbformat": 4,
 "nbformat_minor": 5
}
