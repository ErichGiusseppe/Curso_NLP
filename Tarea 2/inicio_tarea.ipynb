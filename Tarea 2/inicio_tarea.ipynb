{
 "cells": [
  {
   "cell_type": "code",
   "execution_count": 19,
   "id": "1d1cfe31",
   "metadata": {},
   "outputs": [],
   "source": [
    "import nltk \n",
    "import re\n",
    "from nltk.stem import PorterStemmer\n",
    "import os \n",
    "STEMMER = PorterStemmer()"
   ]
  },
  {
   "cell_type": "markdown",
   "id": "02d444fb",
   "metadata": {},
   "source": [
    "## I. Read the files and build two large consolidate files that are the union of all the documents in 20N and BAC."
   ]
  },
  {
   "cell_type": "code",
   "execution_count": 20,
   "id": "83a770d0",
   "metadata": {},
   "outputs": [
    {
     "data": {
      "text/plain": [
       "'/home/erich/dev/Curso_NLP/Tarea 2'"
      ]
     },
     "execution_count": 20,
     "metadata": {},
     "output_type": "execute_result"
    }
   ],
   "source": [
    "os.getcwd()"
   ]
  },
  {
   "cell_type": "code",
   "execution_count": null,
   "id": "1bae8220",
   "metadata": {},
   "outputs": [],
   "source": [
    "ACTUAL_PATH = os.getcwd()\n",
    "PATH_20N = os.path.join(ACTUAL_PATH, \"data/20news-18828\")\n",
    "PATH_BAC = os.path.join(ACTUAL_PATH, \"data/BAC\")"
   ]
  },
  {
   "cell_type": "markdown",
   "id": "bb246615",
   "metadata": {},
   "source": [
    "### UPLOAD_FILES"
   ]
  },
  {
   "cell_type": "markdown",
   "id": "b60c7d5b",
   "metadata": {},
   "source": [
    "#### UPLOADING 20N "
   ]
  },
  {
   "cell_type": "code",
   "execution_count": null,
   "id": "789767b8",
   "metadata": {},
   "outputs": [],
   "source": []
  },
  {
   "cell_type": "markdown",
   "id": "64ff5851",
   "metadata": {},
   "source": [
    "#### UPLOADING BAC"
   ]
  },
  {
   "cell_type": "markdown",
   "id": "a5688cb7",
   "metadata": {},
   "source": [
    "## II. Tokenize by sentence"
   ]
  },
  {
   "cell_type": "code",
   "execution_count": 17,
   "id": "cbbbcfb1",
   "metadata": {},
   "outputs": [],
   "source": [
    "def preprocess_text(text:str) -> list[str]:\n",
    "\n",
    "    text = text.lower()\n",
    "    text = re.sub(r\"[^a-zA-Z1-9\\s]\", \" \", text, flags=re.I | re.A | re.MULTILINE)\n",
    "    text = re.sub(r\"\\d\", \"NUM\", text)\n",
    "    text = \"<s> \" + text\n",
    "    text = text + \" </s>\"\n",
    "    text = text.strip().split()\n",
    "    tokens = [STEMMER.stem(word) for word in text]\n",
    "    return tokens\n",
    "    \n",
    "def get_sentences(text:str, k: int) -> list[list]:\n",
    "    sentences_list = []\n",
    "    text = text.split()\n",
    "    last = 0\n",
    "    for i in range(k,len(text)+1):\n",
    "        sentences = text[last:i]\n",
    "        last +=1\n",
    "        text_slice = \" \".join(sentences)\n",
    "        text_slice_token = preprocess_text(text_slice)\n",
    "        sentences_list.append(text_slice_token)\n",
    "    return sentences_list\n",
    "    "
   ]
  },
  {
   "cell_type": "code",
   "execution_count": 12,
   "id": "f4530297",
   "metadata": {},
   "outputs": [
    {
     "data": {
      "text/plain": [
       "['<s>',\n",
       " 'hello',\n",
       " 'how',\n",
       " 'are',\n",
       " 'you',\n",
       " 'play',\n",
       " 'pong',\n",
       " 'and',\n",
       " 'pong',\n",
       " 'your',\n",
       " 'mom',\n",
       " '</s>']"
      ]
     },
     "execution_count": 12,
     "metadata": {},
     "output_type": "execute_result"
    }
   ],
   "source": [
    "preprocess_text(\"hello how are you playing pong and pong your mom\")"
   ]
  },
  {
   "cell_type": "code",
   "execution_count": 18,
   "id": "1aea6892",
   "metadata": {},
   "outputs": [
    {
     "data": {
      "text/plain": [
       "[['<s>', 'hello', 'how', '</s>'],\n",
       " ['<s>', 'how', 'are', '</s>'],\n",
       " ['<s>', 'are', 'you', '</s>'],\n",
       " ['<s>', 'you', 'play', '</s>'],\n",
       " ['<s>', 'play', 'pong', '</s>'],\n",
       " ['<s>', 'pong', 'and', '</s>'],\n",
       " ['<s>', 'and', 'pong', '</s>'],\n",
       " ['<s>', 'pong', 'your', '</s>'],\n",
       " ['<s>', 'your', 'mom', '</s>']]"
      ]
     },
     "execution_count": 18,
     "metadata": {},
     "output_type": "execute_result"
    }
   ],
   "source": [
    "get_sentences(\"hello how are you playing pong and pong your mom\", k=2)"
   ]
  }
 ],
 "metadata": {
  "kernelspec": {
   "display_name": ".venv",
   "language": "python",
   "name": "python3"
  },
  "language_info": {
   "codemirror_mode": {
    "name": "ipython",
    "version": 3
   },
   "file_extension": ".py",
   "mimetype": "text/x-python",
   "name": "python",
   "nbconvert_exporter": "python",
   "pygments_lexer": "ipython3",
   "version": "3.10.12"
  }
 },
 "nbformat": 4,
 "nbformat_minor": 5
}
