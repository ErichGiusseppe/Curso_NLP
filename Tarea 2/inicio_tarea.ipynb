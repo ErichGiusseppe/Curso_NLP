{
 "cells": [
  {
   "cell_type": "code",
   "execution_count": 2,
   "id": "1d1cfe31",
   "metadata": {},
   "outputs": [],
   "source": [
    "import nltk \n",
    "import re\n",
    "from nltk.stem import PorterStemmer\n",
    "import os \n",
    "import json\n",
    "from charset_normalizer import from_path\n",
    "STEMMER = PorterStemmer()"
   ]
  },
  {
   "cell_type": "markdown",
   "id": "02d444fb",
   "metadata": {},
   "source": [
    "## I. Read the files and build two large consolidate files that are the union of all the documents in 20N and BAC."
   ]
  },
  {
   "cell_type": "code",
   "execution_count": 3,
   "id": "1bae8220",
   "metadata": {},
   "outputs": [],
   "source": [
    "ACTUAL_PATH = os.getcwd()\n",
    "PATH_20N = os.path.join(ACTUAL_PATH, \"data/20news-18828\")\n",
    "PATH_BAC = os.path.join(ACTUAL_PATH, \"data/BAC/blogs\")\n",
    "PATH_FINAL_FILES = os.path.join(ACTUAL_PATH,\"data/final_files\")\n",
    "GRUPO = \"03\""
   ]
  },
  {
   "cell_type": "markdown",
   "id": "bb246615",
   "metadata": {},
   "source": [
    "### UPLOAD_FILES"
   ]
  },
  {
   "cell_type": "markdown",
   "id": "b60c7d5b",
   "metadata": {},
   "source": [
    "#### UPLOADING 20N "
   ]
  },
  {
   "cell_type": "code",
   "execution_count": null,
   "id": "789767b8",
   "metadata": {},
   "outputs": [],
   "source": [
    "NEW_20N_FILE = os.path.join(PATH_FINAL_FILES, \"20N.jsonl\")\n",
    "\n",
    "mayor_folders_20N = os.listdir(PATH_20N)\n",
    "dictionary = {}\n",
    "\n",
    "with open(NEW_20N_FILE, \"w\", encoding=\"utf-8\", errors=\"replace\") as f_n:\n",
    "    for folder in mayor_folders_20N:\n",
    "        minor_files_path = os.path.join(PATH_20N, folder)\n",
    "        minor_files = os.listdir(minor_files_path)\n",
    "        for file in minor_files:\n",
    "            file_path = os.path.join(minor_files_path, file)\n",
    "            with open(file_path, \"r\", encoding=\"utf-8\", errors=\"replace\") as f:\n",
    "                text = f.read().strip()\n",
    "\n",
    "            record = {\n",
    "                \"id\": file,\n",
    "                \"theme\": folder,\n",
    "                \"source\": \"20N\",\n",
    "                \"text\": text\n",
    "            }\n",
    "            unit = folder + file\n",
    "            if file in dictionary.keys():\n",
    "                dictionary[unit] += 1\n",
    "            else: \n",
    "                dictionary[unit] = 1\n",
    "            f_n.write(json.dumps(record, ensure_ascii=False) + \"\\n\")"
   ]
  },
  {
   "cell_type": "code",
   "execution_count": null,
   "id": "1b30d6f1",
   "metadata": {},
   "outputs": [],
   "source": [
    "## TODO: Verificar si los encodings estan bien"
   ]
  },
  {
   "cell_type": "markdown",
   "id": "64ff5851",
   "metadata": {},
   "source": [
    "#### UPLOADING BAC"
   ]
  },
  {
   "cell_type": "code",
   "execution_count": null,
   "id": "55eae228",
   "metadata": {},
   "outputs": [],
   "source": [
    "NEW_BAC_FILE = os.path.join(PATH_FINAL_FILES, \"BAC.jsonl\")\n",
    "mayor_folders_BAC = os.listdir(PATH_BAC)\n",
    "with open(NEW_BAC_FILE, \"w\", encoding=\"utf-8\", errors=\"replace\") as f_n:\n",
    "    for file in mayor_folders_BAC:\n",
    "        post_num = 0\n",
    "        file_path = os.path.join(PATH_BAC, file)\n",
    "        with open(file_path, \"r\", encoding=\"utf-8\", errors=\"replace\") as f:\n",
    "            text = f.read().strip()\n",
    "            text = re.sub(r\"</?Blog>\", \"\", text)\n",
    "        post_list = text.split(\"<post>\")\n",
    "        for post in post_list:\n",
    "            post = post.strip().replace(\"</post>\", \"\")\n",
    "            record = {\n",
    "                \"id\": file,\n",
    "                \"post_num\": post_num,\n",
    "                \"source\": \"BAC\",\n",
    "                \"text\": post\n",
    "            }\n",
    "            f_n.write(json.dumps(record, ensure_ascii=False) + \"\\n\")\n",
    "            post_num +=1"
   ]
  },
  {
   "cell_type": "markdown",
   "id": "a5688cb7",
   "metadata": {},
   "source": [
    "## II. Tokenize by sentence"
   ]
  },
  {
   "cell_type": "code",
   "execution_count": 4,
   "id": "4d32b615",
   "metadata": {},
   "outputs": [],
   "source": [
    "import nltk\n",
    "import re"
   ]
  },
  {
   "cell_type": "code",
   "execution_count": 5,
   "id": "cbbbcfb1",
   "metadata": {},
   "outputs": [],
   "source": [
    "# def get_sentences(text:str, k: int) -> list[list]:\n",
    "#     sentences_list = []\n",
    "#     text = text.split()\n",
    "#     last = 0\n",
    "#     for i in range(k,len(text)+1):\n",
    "#         sentences = text[last:i]\n",
    "#         last +=1\n",
    "#         text_slice = \" \".join(sentences)\n",
    "#         text_slice_token = preprocess_text(text_slice)\n",
    "#         sentences_list.append(text_slice_token)\n",
    "#     return sentences_list\n",
    "def preprocess_text(text:str) -> list[str]:\n",
    "\n",
    "    text = text.lower() \n",
    "    text = re.sub(r\"[^a-zA-Z0-9\\s]\", \" \", text, flags=re.I | re.A | re.MULTILINE)\n",
    "    text = re.sub(r\"\\d\", \"NUM\", text)\n",
    "    text = \"<s> \" + text\n",
    "    text = text + \" </s>\"\n",
    "    text = text.strip().split()\n",
    "    #tokens = [STEMMER.stem(word) for word in text]\n",
    "    return text\n",
    "def divide_sentences(text:str)->list[str]:\n",
    "    sentences = nltk.sent_tokenize(text)\n",
    "    return sentences\n",
    "\n",
    "    "
   ]
  },
  {
   "cell_type": "markdown",
   "id": "e4bea1e5",
   "metadata": {},
   "source": [
    "### Examples"
   ]
  },
  {
   "cell_type": "code",
   "execution_count": 12,
   "id": "f4530297",
   "metadata": {},
   "outputs": [
    {
     "data": {
      "text/plain": [
       "['This is sentence one.', 'Here is another!', 'And number 123.']"
      ]
     },
     "execution_count": 12,
     "metadata": {},
     "output_type": "execute_result"
    }
   ],
   "source": [
    "text = \"This is sentence one. Here is another! And number 123.\"\n",
    "sentences = divide_sentences(text)\n",
    "sentences"
   ]
  },
  {
   "cell_type": "code",
   "execution_count": 13,
   "id": "1aea6892",
   "metadata": {},
   "outputs": [
    {
     "name": "stdout",
     "output_type": "stream",
     "text": [
      "[['<s>', 'this', 'is', 'sentence', 'one', '</s>'], ['<s>', 'here', 'is', 'another', '</s>'], ['<s>', 'and', 'number', 'NUMNUMNUM', '</s>']]\n"
     ]
    }
   ],
   "source": [
    "processed = [preprocess_text(s) for s in sentences]\n",
    "\n",
    "print(processed)"
   ]
  },
  {
   "cell_type": "markdown",
   "id": "32526084",
   "metadata": {},
   "source": [
    "### Tokenizing_full_text"
   ]
  },
  {
   "cell_type": "code",
   "execution_count": 26,
   "id": "a47f3e4e",
   "metadata": {},
   "outputs": [
    {
     "name": "stdout",
     "output_type": "stream",
     "text": [
      "417365863 bytes\n"
     ]
    }
   ],
   "source": [
    "import sys\n",
    "\n",
    "def deep_getsizeof(obj):\n",
    "    \"\"\"Calcula tamaño total de una lista de strings.\"\"\"\n",
    "    if isinstance(obj, list):\n",
    "        return sys.getsizeof(obj) + sum(deep_getsizeof(x) for x in obj)\n",
    "    elif isinstance(obj, str):\n",
    "        return sys.getsizeof(obj)\n",
    "    else:\n",
    "        return sys.getsizeof(obj)\n",
    "\n",
    "print(deep_getsizeof(sentencias), \"bytes\")"
   ]
  },
  {
   "cell_type": "code",
   "execution_count": 27,
   "id": "622fe36e",
   "metadata": {},
   "outputs": [
    {
     "name": "stdout",
     "output_type": "stream",
     "text": [
      "Now using node v22.17.0 (npm v10.9.2)\n",
      "Collecting pympler\n",
      "  Downloading Pympler-1.1-py3-none-any.whl.metadata (3.6 kB)\n",
      "Downloading Pympler-1.1-py3-none-any.whl (165 kB)\n",
      "Installing collected packages: pympler\n",
      "Successfully installed pympler-1.1\n",
      "Note: you may need to restart the kernel to use updated packages.\n"
     ]
    }
   ],
   "source": [
    "pip install pympler"
   ]
  },
  {
   "cell_type": "code",
   "execution_count": null,
   "id": "42f6782c",
   "metadata": {},
   "outputs": [],
   "source": [
    "import random\n",
    "import pickle\n",
    "\n",
    "def save_pickle(data, filename):\n",
    "    filepath = os.path.join(PATH_FINAL_FILES, filename)\n",
    "    with open(filepath, \"wb\") as f:\n",
    "        pickle.dump(data, f, protocol=pickle.HIGHEST_PROTOCOL)\n",
    "\n",
    "sentencias = []\n",
    "with open(os.path.join(PATH_FINAL_FILES, \"20N.jsonl\"),\"r\") as f:\n",
    "    for line in f:\n",
    "        line = json.loads(line)\n",
    "        sentences = divide_sentences(line[\"text\"])\n",
    "        for sentence in sentences:\n",
    "            pre_process = preprocess_text(sentence)\n",
    "            sentencias.append(pre_process)\n",
    "            #print(sentence, pre_process)\n",
    "random.seed(42)\n",
    "random.shuffle(sentencias)\n",
    "index_to_split = int(0.8 * len(sentencias))\n",
    "train_sentences = sentencias[:index_to_split]\n",
    "test_sentences = sentencias[index_to_split:]\n",
    "save_pickle(train_sentences, f\"20N_{GRUPO}_training.pkl\")\n",
    "save_pickle(test_sentences, f\"20N_{GRUPO}_testing.pkl\")"
   ]
  },
  {
   "cell_type": "code",
   "execution_count": null,
   "id": "2ea5c54c",
   "metadata": {},
   "outputs": [],
   "source": [
    "import random\n",
    "import pickle\n",
    "\n",
    "def save_pickle(data, filename):\n",
    "    filepath = os.path.join(PATH_FINAL_FILES, filename)\n",
    "    with open(filepath, \"wb\") as f:\n",
    "        pickle.dump(data, f, protocol=pickle.HIGHEST_PROTOCOL)\n",
    "\n",
    "sentencias = []\n",
    "with open(os.path.join(PATH_FINAL_FILES, \"BAC.jsonl\"),\"r\") as f:\n",
    "    for line in f:\n",
    "        line = json.loads(line)\n",
    "        sentences = divide_sentences(line[\"text\"])\n",
    "        for sentence in sentences:\n",
    "            pre_process = preprocess_text(sentence)\n",
    "            sentencias.append(pre_process)\n",
    "            #print(sentence, pre_process)\n",
    "random.seed(42)\n",
    "random.shuffle(sentencias)\n",
    "split_idx = int(0.8 * len(sentencias))\n",
    "train_sentences = sentencias[:split_idx]\n",
    "test_sentences = sentencias[split_idx:]\n",
    "save_pickle(train_sentences, f\"BAC_{GRUPO}_training.pkl\")\n",
    "save_pickle(test_sentences, f\"BAC_{GRUPO}_testing.pkl\")"
   ]
  }
 ],
 "metadata": {
  "kernelspec": {
   "display_name": ".venv",
   "language": "python",
   "name": "python3"
  },
  "language_info": {
   "codemirror_mode": {
    "name": "ipython",
    "version": 3
   },
   "file_extension": ".py",
   "mimetype": "text/x-python",
   "name": "python",
   "nbconvert_exporter": "python",
   "pygments_lexer": "ipython3",
   "version": "3.10.12"
  }
 },
 "nbformat": 4,
 "nbformat_minor": 5
}
