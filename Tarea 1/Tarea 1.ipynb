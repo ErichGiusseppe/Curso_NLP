{
 "cells": [
  {
   "cell_type": "code",
   "execution_count": 3,
   "id": "d3879f22",
   "metadata": {},
   "outputs": [],
   "source": [
    "import numpy as np"
   ]
  },
  {
   "cell_type": "code",
   "execution_count": 58,
   "id": "6a5898a9",
   "metadata": {},
   "outputs": [],
   "source": [
    "def precision(relevance_arr: np.array) -> float:\n",
    "    return np.mean(relevance_arr)\n",
    "\n",
    "\n",
    "def precision_at_k(relevance_arr: np.array, k: int) -> float:\n",
    "    return np.mean(relevance_arr[0:k])\n",
    "\n",
    "def recall_at_k(relevance_arr: np.array, number_relevant_doc: int, k: int) -> float:\n",
    "    return relevance_arr[0:k].sum()/number_relevant_doc\n",
    "\n",
    "def average_precision(relevance_arr: np.array):\n",
    "    \"\"\"Calcula la presicion promedio, recuerda que solo se calcula donde\n",
    "    hay documentos relevantes\n",
    "\n",
    "    Args:\n",
    "        relevance_arr (np.array): _description_\n",
    "\n",
    "    Returns:\n",
    "        _type_: _description_\n",
    "    \"\"\"\n",
    "\n",
    "    precisiones = [\n",
    "        precision_at_k(relevance_arr, k+1)\n",
    "        for k in range(len(relevance_arr))\n",
    "        if relevance_arr[k] == 1\n",
    "    ]\n",
    "    if len(precisiones) == 0:\n",
    "        return np.float64(0)\n",
    "    else:\n",
    "        return np.mean(precisiones)\n",
    "\n",
    "\n"
   ]
  },
  {
   "cell_type": "code",
   "execution_count": 59,
   "id": "376cffa5",
   "metadata": {},
   "outputs": [
    {
     "name": "stdout",
     "output_type": "stream",
     "text": [
      "Se paso la prueba de precision\n",
      "Se paso la prueba de precision at k\n",
      "Se paso la prueba de recall at k\n",
      "se paso la prueba de average precision\n"
     ]
    }
   ],
   "source": [
    "# Pruebas\n",
    "\n",
    "def test_precision():\n",
    "    assert precision(np.array([0, 0, 0, 1])) == np.float64(0.25)\n",
    "    assert precision(np.array([1, 1, 1, 1])) == np.float64(1.0)\n",
    "    assert precision(np.array([0, 0, 0, 0])) == np.float64(0.0)\n",
    "    assert precision(np.array([1, 0, 1, 0])) == np.float64(0.5)\n",
    "\n",
    "def test_precision_at_k():\n",
    "    assert precision_at_k(np.array([0, 0, 0, 1]), 2) == np.float64(0.0)\n",
    "    assert precision_at_k(np.array([1, 1, 1, 1]), 2) == np.float64(1.0)\n",
    "    assert precision_at_k(np.array([1, 0, 1, 0]), 2) == np.float64(0.5)\n",
    "    assert precision_at_k(np.array([1, 0, 1, 0]), 3) == np.float64(2/3)\n",
    "\n",
    "def test_recall_at_k():\n",
    "    arr = np.array([0, 0, 0, 1])\n",
    "    assert recall_at_k(arr, number_relevant_doc=1, k=2) == 0.0     \n",
    "    assert recall_at_k(arr, number_relevant_doc=1, k=4) == 1.0\n",
    "    assert recall_at_k(arr, number_relevant_doc=4, k=1) == 0     \n",
    "\n",
    "    arr = np.array([1, 1, 1, 1])\n",
    "    assert recall_at_k(arr, number_relevant_doc=4, k=2) == 0.5     \n",
    "    assert recall_at_k(arr, number_relevant_doc=4, k=4) == 1.0     \n",
    "\n",
    "    arr = np.array([1, 0, 1, 0])\n",
    "    assert recall_at_k(arr, number_relevant_doc=2, k=2) == 0.5     \n",
    "    assert recall_at_k(arr, number_relevant_doc=2, k=3) == 1.0     \n",
    "\n",
    "def test_average_precision():\n",
    "\n",
    "    relevance_query_2 = [0, 1, 0, 1, 1, 1, 1]\n",
    "    result = average_precision(relevance_query_2)\n",
    "    assert np.isclose(result, 0.5961904, atol=1e-6)\n",
    "\n",
    "    relevance_all = [1, 1, 1, 1]\n",
    "    assert average_precision(relevance_all) == 1.0\n",
    "\n",
    "    relevance_none = [0, 0, 0, 0]\n",
    "    assert average_precision(relevance_none) == 0.0\n",
    "\n",
    "    relevance_last = [0, 0, 0, 1]\n",
    "    assert average_precision(relevance_last) == 0.25\n",
    "\n",
    "test_precision()\n",
    "print(\"Se paso la prueba de precision\")\n",
    "test_precision_at_k()\n",
    "print(\"Se paso la prueba de precision at k\")\n",
    "test_recall_at_k()\n",
    "print(\"Se paso la prueba de recall at k\")\n",
    "test_average_precision()\n",
    "print(\"se paso la prueba de average precision\")\n"
   ]
  },
  {
   "cell_type": "code",
   "execution_count": 57,
   "id": "33dcd6a1",
   "metadata": {},
   "outputs": [],
   "source": [
    "relevance_query_2 = [0, 1, 0, 1, 1, 1, 1]\n",
    "average_precision(relevance_query_2)"
   ]
  },
  {
   "cell_type": "code",
   "execution_count": 42,
   "id": "52eefbe9",
   "metadata": {},
   "outputs": [
    {
     "name": "stdout",
     "output_type": "stream",
     "text": [
      "0\n",
      "1\n",
      "2\n",
      "3\n",
      "4\n",
      "5\n",
      "6\n",
      "[0.         0.5        0.33333333 0.5        0.6        0.66666667\n",
      " 0.71428571]\n"
     ]
    },
    {
     "data": {
      "text/plain": [
       "np.float64(0.473469387755102)"
      ]
     },
     "execution_count": 42,
     "metadata": {},
     "output_type": "execute_result"
    }
   ],
   "source": [
    "relevance_query_2 = [0, 1, 0, 1, 1, 1, 1]\n",
    "average_precision(relevance_query_2)"
   ]
  },
  {
   "cell_type": "code",
   "execution_count": 39,
   "id": "d928b762",
   "metadata": {},
   "outputs": [
    {
     "data": {
      "text/plain": [
       "[0]"
      ]
     },
     "execution_count": 39,
     "metadata": {},
     "output_type": "execute_result"
    }
   ],
   "source": [
    "relevance_query_2[0:1]"
   ]
  },
  {
   "cell_type": "code",
   "execution_count": null,
   "id": "15557fd5",
   "metadata": {},
   "outputs": [],
   "source": [
    "np.mean(relevance_query_2[0:k])\n"
   ]
  },
  {
   "cell_type": "code",
   "execution_count": 30,
   "id": "7e074a9f",
   "metadata": {},
   "outputs": [
    {
     "data": {
      "text/plain": [
       "7"
      ]
     },
     "execution_count": 30,
     "metadata": {},
     "output_type": "execute_result"
    }
   ],
   "source": [
    "len(relevance_query_2)"
   ]
  }
 ],
 "metadata": {
  "kernelspec": {
   "display_name": ".venv",
   "language": "python",
   "name": "python3"
  },
  "language_info": {
   "codemirror_mode": {
    "name": "ipython",
    "version": 3
   },
   "file_extension": ".py",
   "mimetype": "text/x-python",
   "name": "python",
   "nbconvert_exporter": "python",
   "pygments_lexer": "ipython3",
   "version": "3.10.12"
  }
 },
 "nbformat": 4,
 "nbformat_minor": 5
}
