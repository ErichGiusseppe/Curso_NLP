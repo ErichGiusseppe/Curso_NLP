{
 "cells": [
  {
   "cell_type": "code",
   "execution_count": 3,
   "id": "d3879f22",
   "metadata": {},
   "outputs": [],
   "source": [
    "import numpy as np"
   ]
  },
  {
   "cell_type": "code",
   "execution_count": 14,
   "id": "6a5898a9",
   "metadata": {},
   "outputs": [],
   "source": [
    "def precision(relevance_arr: np.array) -> float:\n",
    "    return relevance_arr.sum()/len(relevance_arr)\n",
    "\n",
    "\n",
    "def precision_at_k(relevance_arr: np.array, k: int) -> float:\n",
    "    return relevance_arr[0:k].sum()/k\n"
   ]
  },
  {
   "cell_type": "code",
   "execution_count": 15,
   "id": "376cffa5",
   "metadata": {},
   "outputs": [
    {
     "name": "stdout",
     "output_type": "stream",
     "text": [
      "Se paso la prueba de precision\n",
      "Se paso la prueba de precision at k\n"
     ]
    }
   ],
   "source": [
    "# Pruebas\n",
    "\n",
    "def test_precision():\n",
    "    assert precision(np.array([0, 0, 0, 1])) == np.float64(0.25)\n",
    "    assert precision(np.array([1, 1, 1, 1])) == np.float64(1.0)\n",
    "    assert precision(np.array([0, 0, 0, 0])) == np.float64(0.0)\n",
    "    assert precision(np.array([1, 0, 1, 0])) == np.float64(0.5)\n",
    "\n",
    "def test_precision_at_k():\n",
    "    assert precision_at_k(np.array([0, 0, 0, 1]), 2) == np.float64(0.0)\n",
    "    assert precision_at_k(np.array([1, 1, 1, 1]), 2) == np.float64(1.0)\n",
    "    assert precision_at_k(np.array([1, 0, 1, 0]), 2) == np.float64(0.5)\n",
    "    assert precision_at_k(np.array([1, 0, 1, 0]), 3) == np.float64(2/3)\n",
    "\n",
    "test_precision()\n",
    "print(\"Se paso la prueba de precision\")\n",
    "test_precision_at_k()\n",
    "print(\"Se paso la prueba de precision at k\")\n"
   ]
  }
 ],
 "metadata": {
  "kernelspec": {
   "display_name": ".venv",
   "language": "python",
   "name": "python3"
  },
  "language_info": {
   "codemirror_mode": {
    "name": "ipython",
    "version": 3
   },
   "file_extension": ".py",
   "mimetype": "text/x-python",
   "name": "python",
   "nbconvert_exporter": "python",
   "pygments_lexer": "ipython3",
   "version": "3.10.12"
  }
 },
 "nbformat": 4,
 "nbformat_minor": 5
}
