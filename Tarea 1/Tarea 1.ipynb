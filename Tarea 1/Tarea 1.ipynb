{
 "cells": [
  {
   "cell_type": "code",
   "execution_count": 66,
   "id": "d3879f22",
   "metadata": {},
   "outputs": [],
   "source": [
    "import numpy as np"
   ]
  },
  {
   "cell_type": "code",
   "execution_count": null,
   "id": "6a5898a9",
   "metadata": {},
   "outputs": [],
   "source": [
    "def precision(relevance_arr: np.array) -> float:\n",
    "    return np.mean(relevance_arr)\n",
    "\n",
    "\n",
    "def precision_at_k(relevance_arr: np.array, k: int) -> float:\n",
    "    return np.mean(relevance_arr[0:k])\n",
    "\n",
    "\n",
    "def recall_at_k(relevance_arr: np.array, number_relevant_doc: int, k: int) -> float:\n",
    "    return relevance_arr[0:k].sum() / number_relevant_doc\n",
    "\n",
    "\n",
    "def average_precision(relevance_arr: np.array):\n",
    "    \"\"\"Calcula la presicion promedio, recuerda que solo se calcula donde\n",
    "    hay documentos relevantes\n",
    "\n",
    "    Args:\n",
    "        relevance_arr (np.array): _description_\n",
    "\n",
    "    Returns:\n",
    "        _type_: _description_\n",
    "    \"\"\"\n",
    "\n",
    "    precisiones = [\n",
    "        precision_at_k(relevance_arr, k + 1)\n",
    "        for k in range(len(relevance_arr))\n",
    "        if relevance_arr[k] == 1\n",
    "    ]\n",
    "    if len(precisiones) == 0:\n",
    "        return np.float64(0)\n",
    "    else:\n",
    "        return np.mean(precisiones)\n",
    "\n",
    "\n",
    "def mean_average_precision(querys_matrix: np.ndarray) -> float:\n",
    "\n",
    "    # scores = [average_precision(querys_matrix) for row in querys_matrix]\n",
    "    querys_matrix = np.array(querys_matrix, dtype=object)\n",
    "    arr_result = np.zeros(len(querys_matrix))\n",
    "    for i, row in enumerate(querys_matrix):\n",
    "        arr_result[i] = average_precision(row)  # cada row puede tener tamaño distinto\n",
    "    return np.mean(arr_result)\n",
    "def dct_at_one_k(relevance_arr: np.array, k:int) -> float:\n",
    "\n",
    "    gain = np.sum(relevance_arr)\n",
    "    discount_factor = np.log2(max(k,2))\n",
    "    return gain/discount_factor\n",
    "\n",
    "def dcg_at_k(relevance_arr: np.array, k:int) -> float:\n",
    "    sum = 0\n",
    "    for i in range(1,k+1):\n",
    "        sum+=dct_at_one_k(relevance_arr[0:i],k)\n",
    "    print(sum)\n",
    "    return sum\n",
    "def ndcg_at_k(relevance_arr: np.array, k:int) -> float:\n",
    "    dcg = dcg_at_k(relevance_arr, k)\n",
    "    ideal_dcg = dcg_at_k(sorted(relevance_arr, reverse=True), k)\n",
    "    return dcg / ideal_dcg\n"
   ]
  },
  {
   "cell_type": "code",
   "execution_count": null,
   "id": "1508f2cf",
   "metadata": {},
   "outputs": [],
   "source": [
    "def test_dcg_at_k():\n",
    "    rels1 = np.array([1, 1, 1, 1])\n",
    "    expected1 = 1/1 + 1/1.585 + 1/2 + 1/2.322\n",
    "    assert np.isclose(dcg_at_k(rels1, 4), expected1, atol=1e-6)\n",
    "\n",
    "    rels2 = np.array([1, 0, 0, 0])\n",
    "    assert np.isclose(dcg_at_k(rels2, 4), 1.0, atol=1e-6)\n",
    "\n",
    "    rels3 = np.array([3, 2, 3, 0, 1])\n",
    "    expected3 = 3/1 + 2/1.585 + 3/2 + 0 + 1/2.585\n",
    "    assert np.isclose(dcg_at_k(rels3, 5), expected3, atol=1e-6)"
   ]
  },
  {
   "cell_type": "code",
   "execution_count": null,
   "id": "19e4e466",
   "metadata": {},
   "outputs": [],
   "source": []
  },
  {
   "cell_type": "code",
   "execution_count": 89,
   "id": "86b332ce",
   "metadata": {},
   "outputs": [],
   "source": [
    "rels1 = np.array([1, 1, 1, 1])"
   ]
  },
  {
   "cell_type": "code",
   "execution_count": 95,
   "id": "65b38e3b",
   "metadata": {},
   "outputs": [],
   "source": [
    "expected1 = 1/1 + 1/1.585 + 1/2 + 1/2.322"
   ]
  },
  {
   "cell_type": "code",
   "execution_count": 96,
   "id": "4e3a9e43",
   "metadata": {},
   "outputs": [
    {
     "data": {
      "text/plain": [
       "2.5615780478593186"
      ]
     },
     "execution_count": 96,
     "metadata": {},
     "output_type": "execute_result"
    }
   ],
   "source": [
    "expected1"
   ]
  },
  {
   "cell_type": "code",
   "execution_count": 87,
   "id": "d96960f8",
   "metadata": {},
   "outputs": [
    {
     "ename": "TypeError",
     "evalue": "unsupported operand type(s) for -: 'NoneType' and 'float'",
     "output_type": "error",
     "traceback": [
      "\u001b[0;31m---------------------------------------------------------------------------\u001b[0m",
      "\u001b[0;31mTypeError\u001b[0m                                 Traceback (most recent call last)",
      "Cell \u001b[0;32mIn[87], line 1\u001b[0m\n\u001b[0;32m----> 1\u001b[0m \u001b[43mtest_dcg_at_k\u001b[49m\u001b[43m(\u001b[49m\u001b[43m)\u001b[49m\n",
      "Cell \u001b[0;32mIn[86], line 6\u001b[0m, in \u001b[0;36mtest_dcg_at_k\u001b[0;34m()\u001b[0m\n\u001b[1;32m      4\u001b[0m \u001b[38;5;66;03m# DCG@4 = 1/log2(2) + 1/log2(3) + 1/log2(4) + 1/log2(5)\u001b[39;00m\n\u001b[1;32m      5\u001b[0m expected1 \u001b[38;5;241m=\u001b[39m \u001b[38;5;241m1\u001b[39m\u001b[38;5;241m/\u001b[39m\u001b[38;5;241m1\u001b[39m \u001b[38;5;241m+\u001b[39m \u001b[38;5;241m1\u001b[39m\u001b[38;5;241m/\u001b[39m\u001b[38;5;241m1.585\u001b[39m \u001b[38;5;241m+\u001b[39m \u001b[38;5;241m1\u001b[39m\u001b[38;5;241m/\u001b[39m\u001b[38;5;241m2\u001b[39m \u001b[38;5;241m+\u001b[39m \u001b[38;5;241m1\u001b[39m\u001b[38;5;241m/\u001b[39m\u001b[38;5;241m2.322\u001b[39m\n\u001b[0;32m----> 6\u001b[0m \u001b[38;5;28;01massert\u001b[39;00m \u001b[43mnp\u001b[49m\u001b[38;5;241;43m.\u001b[39;49m\u001b[43misclose\u001b[49m\u001b[43m(\u001b[49m\u001b[43mdcg_at_k\u001b[49m\u001b[43m(\u001b[49m\u001b[43mrels1\u001b[49m\u001b[43m,\u001b[49m\u001b[43m \u001b[49m\u001b[38;5;241;43m4\u001b[39;49m\u001b[43m)\u001b[49m\u001b[43m,\u001b[49m\u001b[43m \u001b[49m\u001b[43mexpected1\u001b[49m\u001b[43m,\u001b[49m\u001b[43m \u001b[49m\u001b[43matol\u001b[49m\u001b[38;5;241;43m=\u001b[39;49m\u001b[38;5;241;43m1e-6\u001b[39;49m\u001b[43m)\u001b[49m\n\u001b[1;32m      8\u001b[0m \u001b[38;5;66;03m# Ejemplo 2: sólo el primero relevante\u001b[39;00m\n\u001b[1;32m      9\u001b[0m rels2 \u001b[38;5;241m=\u001b[39m np\u001b[38;5;241m.\u001b[39marray([\u001b[38;5;241m1\u001b[39m, \u001b[38;5;241m0\u001b[39m, \u001b[38;5;241m0\u001b[39m, \u001b[38;5;241m0\u001b[39m])\n",
      "File \u001b[0;32m~/dev/Curso_NLP/.venv/lib/python3.10/site-packages/numpy/_core/numeric.py:2447\u001b[0m, in \u001b[0;36misclose\u001b[0;34m(a, b, rtol, atol, equal_nan)\u001b[0m\n\u001b[1;32m   2444\u001b[0m     y \u001b[38;5;241m=\u001b[39m \u001b[38;5;28mfloat\u001b[39m(y)\n\u001b[1;32m   2446\u001b[0m \u001b[38;5;28;01mwith\u001b[39;00m errstate(invalid\u001b[38;5;241m=\u001b[39m\u001b[38;5;124m'\u001b[39m\u001b[38;5;124mignore\u001b[39m\u001b[38;5;124m'\u001b[39m):\n\u001b[0;32m-> 2447\u001b[0m     result \u001b[38;5;241m=\u001b[39m (less_equal(\u001b[38;5;28mabs\u001b[39m(\u001b[43mx\u001b[49m\u001b[38;5;241;43m-\u001b[39;49m\u001b[43my\u001b[49m), atol \u001b[38;5;241m+\u001b[39m rtol \u001b[38;5;241m*\u001b[39m \u001b[38;5;28mabs\u001b[39m(y))\n\u001b[1;32m   2448\u001b[0m               \u001b[38;5;241m&\u001b[39m isfinite(y)\n\u001b[1;32m   2449\u001b[0m               \u001b[38;5;241m|\u001b[39m (x \u001b[38;5;241m==\u001b[39m y))\n\u001b[1;32m   2450\u001b[0m     \u001b[38;5;28;01mif\u001b[39;00m equal_nan:\n\u001b[1;32m   2451\u001b[0m         result \u001b[38;5;241m|\u001b[39m\u001b[38;5;241m=\u001b[39m isnan(x) \u001b[38;5;241m&\u001b[39m isnan(y)\n",
      "\u001b[0;31mTypeError\u001b[0m: unsupported operand type(s) for -: 'NoneType' and 'float'"
     ]
    }
   ],
   "source": [
    "test_dcg_at_k()"
   ]
  },
  {
   "cell_type": "code",
   "execution_count": null,
   "id": "376cffa5",
   "metadata": {},
   "outputs": [
    {
     "name": "stdout",
     "output_type": "stream",
     "text": [
      "Se paso la prueba de precision\n",
      "Se paso la prueba de precision at k\n",
      "Se paso la prueba de recall at k\n",
      "se paso la prueba de average precision\n",
      "Se paso el test de mean average precision\n"
     ]
    }
   ],
   "source": [
    "# Pruebas\n",
    "\n",
    "\n",
    "def test_precision():\n",
    "    assert precision(np.array([0, 0, 0, 1])) == np.float64(0.25)\n",
    "    assert precision(np.array([1, 1, 1, 1])) == np.float64(1.0)\n",
    "    assert precision(np.array([0, 0, 0, 0])) == np.float64(0.0)\n",
    "    assert precision(np.array([1, 0, 1, 0])) == np.float64(0.5)\n",
    "\n",
    "\n",
    "def test_precision_at_k():\n",
    "    assert precision_at_k(np.array([0, 0, 0, 1]), 2) == np.float64(0.0)\n",
    "    assert precision_at_k(np.array([1, 1, 1, 1]), 2) == np.float64(1.0)\n",
    "    assert precision_at_k(np.array([1, 0, 1, 0]), 2) == np.float64(0.5)\n",
    "    assert precision_at_k(np.array([1, 0, 1, 0]), 3) == np.float64(2 / 3)\n",
    "\n",
    "\n",
    "def test_recall_at_k():\n",
    "    arr = np.array([0, 0, 0, 1])\n",
    "    assert recall_at_k(arr, number_relevant_doc=1, k=2) == 0.0\n",
    "    assert recall_at_k(arr, number_relevant_doc=1, k=4) == 1.0\n",
    "    assert recall_at_k(arr, number_relevant_doc=4, k=1) == 0\n",
    "\n",
    "    arr = np.array([1, 1, 1, 1])\n",
    "    assert recall_at_k(arr, number_relevant_doc=4, k=2) == 0.5\n",
    "    assert recall_at_k(arr, number_relevant_doc=4, k=4) == 1.0\n",
    "\n",
    "    arr = np.array([1, 0, 1, 0])\n",
    "    assert recall_at_k(arr, number_relevant_doc=2, k=2) == 0.5\n",
    "    assert recall_at_k(arr, number_relevant_doc=2, k=3) == 1.0\n",
    "\n",
    "\n",
    "def test_average_precision():\n",
    "\n",
    "    relevance_query_2 = [0, 1, 0, 1, 1, 1, 1]\n",
    "    result = average_precision(relevance_query_2)\n",
    "    assert np.isclose(result, 0.5961904, atol=1e-6)\n",
    "\n",
    "    relevance_all = [1, 1, 1, 1]\n",
    "    assert average_precision(relevance_all) == 1.0\n",
    "\n",
    "    relevance_none = [0, 0, 0, 0]\n",
    "    assert average_precision(relevance_none) == 0.0\n",
    "\n",
    "    relevance_last = [0, 0, 0, 1]\n",
    "    assert average_precision(relevance_last) == 0.25\n",
    "\n",
    "\n",
    "def test_mean_average_precision():\n",
    "    querys_matrix = np.array([\n",
    "        [0, 1, 0, 1, 1, 1, 1], \n",
    "        [1, 1, 1, 1], \n",
    "        [0, 0, 0, 0], \n",
    "        [0, 0, 0, 1]\n",
    "        ], dtype=object\n",
    "    )\n",
    "\n",
    "    result = mean_average_precision(querys_matrix)\n",
    "    expected = np.mean([0.5961904, 1.0, 0.0, 0.25])\n",
    "    assert np.isclose(result, expected, atol=1e-6)\n",
    "    querys_matrix = [\n",
    "        [0, 1, 0, 1, 1, 1, 1],\n",
    "        [1, 1, 1, 1],\n",
    "        [0, 0, 0, 0],\n",
    "        [0, 0, 0, 1, 0, 1],\n",
    "    ]\n",
    "    result = mean_average_precision(querys_matrix)\n",
    "    assert np.isclose(result, np.float64(0.471964285714), atol=1e-6)\n",
    "\n",
    "\n",
    "test_precision()\n",
    "print(\"Se paso la prueba de precision\")\n",
    "test_precision_at_k()\n",
    "print(\"Se paso la prueba de precision at k\")\n",
    "test_recall_at_k()\n",
    "print(\"Se paso la prueba de recall at k\")\n",
    "test_average_precision()\n",
    "print(\"se paso la prueba de average precision\")\n",
    "test_mean_average_precision()\n",
    "print(\"Se paso el test de mean average precision\")"
   ]
  }
 ],
 "metadata": {
  "kernelspec": {
   "display_name": ".venv",
   "language": "python",
   "name": "python3"
  },
  "language_info": {
   "codemirror_mode": {
    "name": "ipython",
    "version": 3
   },
   "file_extension": ".py",
   "mimetype": "text/x-python",
   "name": "python",
   "nbconvert_exporter": "python",
   "pygments_lexer": "ipython3",
   "version": "3.10.12"
  }
 },
 "nbformat": 4,
 "nbformat_minor": 5
}
