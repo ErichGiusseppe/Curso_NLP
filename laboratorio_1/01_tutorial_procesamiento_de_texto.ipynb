{
 "cells": [
  {
   "cell_type": "markdown",
   "id": "fgceKXIl8vFV",
   "metadata": {
    "id": "fgceKXIl8vFV"
   },
   "source": [
    "# Introducción"
   ]
  },
  {
   "cell_type": "markdown",
   "id": "zy2uppDH8wXE",
   "metadata": {
    "id": "zy2uppDH8wXE"
   },
   "source": [
    "## Descripción\n",
    "Con este notebook de Python se busca introducir las técnicas de procesamiento de texto más comunes con 4 de las librerías más populares en la actualidad. El estudiante podrá aprender a realizar diferentes transformaciones sobre el texto que serán útiles para la creación de modelos que resuelvan tareas de PLN como la clasificación y la generación de texto.\n",
    "\n",
    "Las técnicas de procesamiento de texto que se verán, son:\n",
    "* Tokenización\n",
    "* Eliminación de palabras de parada\n",
    "* Lematización\n",
    "* Stemming\n",
    "\n",
    "Las librerías de PLN que se revisarán, son:\n",
    "* NLTK\n",
    "* TextBlob\n",
    "* Stanza\n",
    "* spaCy\n",
    "\n",
    "**Los objetivos de aprendizaje son**:\n",
    "\n",
    "1. Poner en práctica técnicas de procesamiento de texto.\n",
    "2. Conocer las librerías más populares actualmente en el área.\n",
    "\n",
    "## Metodología\n",
    "Este notebook será un tutorial para aprender a instalar y usar algunas librerías de Python que permitan aplicar diferentes técnicas de procesamiento de texto.\n",
    "Con este fin se verán ejemplos de uso de las librerías con los mismos textos de muestra para comparar los resultados obtenidos, y se referirá al estudiante a la documentación de las librerías y de los métodos vistos para que pueda ampliar la información sobre su uso."
   ]
  },
  {
   "cell_type": "markdown",
   "id": "-RDq0fC7QHOF",
   "metadata": {
    "id": "-RDq0fC7QHOF"
   },
   "source": [
    "# Librerías populares para realizar el procesamiento de texto"
   ]
  },
  {
   "cell_type": "markdown",
   "id": "UKLH5YqoRAMU",
   "metadata": {
    "id": "UKLH5YqoRAMU"
   },
   "source": [
    "## Textos de ejemplo a procesar"
   ]
  },
  {
   "cell_type": "code",
   "execution_count": 1,
   "id": "regional-radius",
   "metadata": {
    "executionInfo": {
     "elapsed": 12,
     "status": "ok",
     "timestamp": 1695506523966,
     "user": {
      "displayName": "Ruben Manrique",
      "userId": "08867017342124303328"
     },
     "user_tz": 300
    },
    "id": "regional-radius"
   },
   "outputs": [],
   "source": [
    "# Ejemplos en inglés\n",
    "\n",
    "text_corpus_en = [\n",
    "    \"Human machine interface for lab abc computer applications\",\n",
    "    \"A survey of user opinion of computer system response time\",\n",
    "    \"The EPS user interface management system\",\n",
    "    \"System and human system engineering testing of EPS\",\n",
    "    \"Relation of user perceived response time to error measurement\",\n",
    "    \"The generation of random binary unordered trees\",\n",
    "    \"The intersection graph of paths in trees\",\n",
    "    \"Graph minors IV Widths of trees and well quasi ordering\",\n",
    "    \"Graph minors A survey\",\n",
    "]"
   ]
  },
  {
   "cell_type": "code",
   "execution_count": 2,
   "id": "false-forest",
   "metadata": {
    "executionInfo": {
     "elapsed": 232,
     "status": "ok",
     "timestamp": 1695506542526,
     "user": {
      "displayName": "Ruben Manrique",
      "userId": "08867017342124303328"
     },
     "user_tz": 300
    },
    "id": "false-forest"
   },
   "outputs": [],
   "source": [
    "# Ejemplos en español\n",
    "\n",
    "text_corpus_es = [\n",
    "    \"Colombia, oficialmente República de Colombia, es un país soberano situado en la región noroccidental de América del Sur\",\n",
    "    \"Es la única nación de América del Sur que tiene costas en el océano Pacífico y acceso al Atlántico a través del mar Caribe\",\n",
    "    \"Es el vigesimoctavo país más poblado del mundo, con una población de 51 millones de habitantes\",\n",
    "    \"La presencia humana en Colombia se remonta a más de 10.000 años\",\n",
    "    \"Colombia tiene una economía diversificada y posee un importante componente de servicios\",\n",
    "    \"Es la segunda nación más biodiversa del mundo, contando con 54871 especies registradas\",\n",
    "    \"La denominación de Colombia proviene del apellido del explorador genovés del siglo XV Cristóbal Colón (en italiano: Cristoforo Colombo, en latín Christophorus Columbus)\",\n",
    "    \"El estudio de los primeros pobladores del territorio que hoy comprende la Nación se ha dividido en tres etapas de la época precolombina\",\n",
    "]"
   ]
  },
  {
   "cell_type": "markdown",
   "id": "greek-colonial",
   "metadata": {
    "id": "greek-colonial"
   },
   "source": [
    "# NLTK Library"
   ]
  },
  {
   "cell_type": "markdown",
   "id": "hrnPHsXSU3Ng",
   "metadata": {
    "id": "hrnPHsXSU3Ng"
   },
   "source": [
    "**NLTK** es una librería para trabajar con lenguaje natural. Es comunmente utilizada para realizar procesamiento de texto, ya que su suite soporta clasificación de texto, tokenización, stemming, tagging, parsing, entre otros.\n",
    "\n",
    "Puede ver la documentación [aquí](https://www.nltk.org/) <br>\n",
    "O aprender más sobre cómo procesar texto con su [libro](https://www.nltk.org/book/ch03.html)"
   ]
  },
  {
   "cell_type": "code",
   "execution_count": 3,
   "id": "vtMDSGHaRVcp",
   "metadata": {
    "colab": {
     "base_uri": "https://localhost:8080/"
    },
    "executionInfo": {
     "elapsed": 226,
     "status": "ok",
     "timestamp": 1695506551259,
     "user": {
      "displayName": "Ruben Manrique",
      "userId": "08867017342124303328"
     },
     "user_tz": 300
    },
    "id": "vtMDSGHaRVcp",
    "outputId": "ec1d0b06-1684-4675-e2ed-719a0f5726b6"
   },
   "outputs": [
    {
     "name": "stderr",
     "output_type": "stream",
     "text": [
      "[nltk_data] Downloading package punkt to /home/erich/nltk_data...\n",
      "[nltk_data]   Package punkt is already up-to-date!\n",
      "[nltk_data] Downloading package stopwords to /home/erich/nltk_data...\n",
      "[nltk_data]   Package stopwords is already up-to-date!\n",
      "[nltk_data] Downloading package wordnet to /home/erich/nltk_data...\n"
     ]
    },
    {
     "data": {
      "text/plain": [
       "True"
      ]
     },
     "execution_count": 3,
     "metadata": {},
     "output_type": "execute_result"
    }
   ],
   "source": [
    "import nltk\n",
    "\n",
    "# Descargar corpus de texto y modelos entrenados\n",
    "nltk.download('punkt') # Modelo para tokenizar por oraciones basado en caracteres de puntuación\n",
    "nltk.download('stopwords') # Corpus con palabras de parada para cada lenguaje\n",
    "nltk.download('wordnet') # Gran base de datos léxica en inglés con las relaciones entre palabras"
   ]
  },
  {
   "cell_type": "markdown",
   "id": "nsajrKcfCarz",
   "metadata": {
    "id": "nsajrKcfCarz"
   },
   "source": [
    "Puede ver todos los corpus y modelos entrenados disponibles para descargar [aquí](https://www.nltk.org/nltk_data/)."
   ]
  },
  {
   "cell_type": "markdown",
   "id": "SmN8RrbXDHm_",
   "metadata": {
    "id": "SmN8RrbXDHm_"
   },
   "source": [
    "## Tokenización"
   ]
  },
  {
   "cell_type": "markdown",
   "id": "og6KeVRmFG5T",
   "metadata": {
    "id": "og6KeVRmFG5T"
   },
   "source": [
    "El método word_tokenize nos permite tokenizar texto en palabras, separando las contracciones de texto, los signos de puntuación, entre otros.\n",
    "Más información en la [documentación](https://www.nltk.org/api/nltk.tokenize.word_tokenize.html)."
   ]
  },
  {
   "cell_type": "code",
   "execution_count": 4,
   "id": "spare-maker",
   "metadata": {
    "colab": {
     "base_uri": "https://localhost:8080/"
    },
    "executionInfo": {
     "elapsed": 6,
     "status": "ok",
     "timestamp": 1695506551511,
     "user": {
      "displayName": "Ruben Manrique",
      "userId": "08867017342124303328"
     },
     "user_tz": 300
    },
    "id": "spare-maker",
    "outputId": "0d5419d7-dbf4-4209-c361-ba6bf4a5af45"
   },
   "outputs": [
    {
     "name": "stdout",
     "output_type": "stream",
     "text": [
      "[['Human', 'machine', 'interface', 'for', 'lab', 'abc', 'computer', 'applications'], ['A', 'survey', 'of', 'user', 'opinion', 'of', 'computer', 'system', 'response', 'time'], ['The', 'EPS', 'user', 'interface', 'management', 'system'], ['System', 'and', 'human', 'system', 'engineering', 'testing', 'of', 'EPS'], ['Relation', 'of', 'user', 'perceived', 'response', 'time', 'to', 'error', 'measurement'], ['The', 'generation', 'of', 'random', 'binary', 'unordered', 'trees'], ['The', 'intersection', 'graph', 'of', 'paths', 'in', 'trees'], ['Graph', 'minors', 'IV', 'Widths', 'of', 'trees', 'and', 'well', 'quasi', 'ordering'], ['Graph', 'minors', 'A', 'survey']]\n"
     ]
    }
   ],
   "source": [
    "word_tok_nltk_en = [nltk.word_tokenize(doc) for doc in text_corpus_en]\n",
    "print(word_tok_nltk_en)"
   ]
  },
  {
   "cell_type": "code",
   "execution_count": 5,
   "id": "separate-pressing",
   "metadata": {
    "colab": {
     "base_uri": "https://localhost:8080/"
    },
    "executionInfo": {
     "elapsed": 5,
     "status": "ok",
     "timestamp": 1695506551511,
     "user": {
      "displayName": "Ruben Manrique",
      "userId": "08867017342124303328"
     },
     "user_tz": 300
    },
    "id": "separate-pressing",
    "outputId": "a1f4dbe0-163f-4890-f0cf-c670ff98aa16"
   },
   "outputs": [
    {
     "name": "stdout",
     "output_type": "stream",
     "text": [
      "[['Colombia', ',', 'oficialmente', 'República', 'de', 'Colombia', ',', 'es', 'un', 'país', 'soberano', 'situado', 'en', 'la', 'región', 'noroccidental', 'de', 'América', 'del', 'Sur'], ['Es', 'la', 'única', 'nación', 'de', 'América', 'del', 'Sur', 'que', 'tiene', 'costas', 'en', 'el', 'océano', 'Pacífico', 'y', 'acceso', 'al', 'Atlántico', 'a', 'través', 'del', 'mar', 'Caribe'], ['Es', 'el', 'vigesimoctavo', 'país', 'más', 'poblado', 'del', 'mundo', ',', 'con', 'una', 'población', 'de', '51', 'millones', 'de', 'habitantes'], ['La', 'presencia', 'humana', 'en', 'Colombia', 'se', 'remonta', 'a', 'más', 'de', '10.000', 'años'], ['Colombia', 'tiene', 'una', 'economía', 'diversificada', 'y', 'posee', 'un', 'importante', 'componente', 'de', 'servicios'], ['Es', 'la', 'segunda', 'nación', 'más', 'biodiversa', 'del', 'mundo', ',', 'contando', 'con', '54871', 'especies', 'registradas'], ['La', 'denominación', 'de', 'Colombia', 'proviene', 'del', 'apellido', 'del', 'explorador', 'genovés', 'del', 'siglo', 'XV', 'Cristóbal', 'Colón', '(', 'en', 'italiano', ':', 'Cristoforo', 'Colombo', ',', 'en', 'latín', 'Christophorus', 'Columbus', ')'], ['El', 'estudio', 'de', 'los', 'primeros', 'pobladores', 'del', 'territorio', 'que', 'hoy', 'comprende', 'la', 'Nación', 'se', 'ha', 'dividido', 'en', 'tres', 'etapas', 'de', 'la', 'época', 'precolombina']]\n"
     ]
    }
   ],
   "source": [
    "word_tok_nltk_es = [nltk.word_tokenize(doc) for doc in text_corpus_es]\n",
    "print(word_tok_nltk_es)\n",
    "\n",
    "# Notese que preserva los signos de puntuacion - lo cual está bien"
   ]
  },
  {
   "cell_type": "markdown",
   "id": "YQB9odt4GaLK",
   "metadata": {
    "id": "YQB9odt4GaLK"
   },
   "source": [
    "Se puede tokenizar el texto usando una expresión regular personalizada según las necesidades que se tengan.\n",
    "[Aquí](https://www.nltk.org/api/nltk.tokenize.RegexpTokenizer.html) puede consultar la documentación de la clase RegexpTokenizer.\n"
   ]
  },
  {
   "cell_type": "code",
   "execution_count": 6,
   "id": "practical-bulletin",
   "metadata": {
    "colab": {
     "base_uri": "https://localhost:8080/"
    },
    "executionInfo": {
     "elapsed": 5,
     "status": "ok",
     "timestamp": 1695506551512,
     "user": {
      "displayName": "Ruben Manrique",
      "userId": "08867017342124303328"
     },
     "user_tz": 300
    },
    "id": "practical-bulletin",
    "outputId": "130f9485-6848-4f9b-ad7f-d193cd8131fc"
   },
   "outputs": [
    {
     "name": "stdout",
     "output_type": "stream",
     "text": [
      "[['Colombia', 'oficialmente', 'República', 'de', 'Colombia', 'es', 'un', 'país', 'soberano', 'situado', 'en', 'la', 'región', 'noroccidental', 'de', 'América', 'del', 'Sur'], ['Es', 'la', 'única', 'nación', 'de', 'América', 'del', 'Sur', 'que', 'tiene', 'costas', 'en', 'el', 'océano', 'Pacífico', 'y', 'acceso', 'al', 'Atlántico', 'a', 'través', 'del', 'mar', 'Caribe'], ['Es', 'el', 'vigesimoctavo', 'país', 'más', 'poblado', 'del', 'mundo', 'con', 'una', 'población', 'de', '51', 'millones', 'de', 'habitantes'], ['La', 'presencia', 'humana', 'en', 'Colombia', 'se', 'remonta', 'a', 'más', 'de', '10', '000', 'años'], ['Colombia', 'tiene', 'una', 'economía', 'diversificada', 'y', 'posee', 'un', 'importante', 'componente', 'de', 'servicios'], ['Es', 'la', 'segunda', 'nación', 'más', 'biodiversa', 'del', 'mundo', 'contando', 'con', '54871', 'especies', 'registradas'], ['La', 'denominación', 'de', 'Colombia', 'proviene', 'del', 'apellido', 'del', 'explorador', 'genovés', 'del', 'siglo', 'XV', 'Cristóbal', 'Colón', 'en', 'italiano', 'Cristoforo', 'Colombo', 'en', 'latín', 'Christophorus', 'Columbus'], ['El', 'estudio', 'de', 'los', 'primeros', 'pobladores', 'del', 'territorio', 'que', 'hoy', 'comprende', 'la', 'Nación', 'se', 'ha', 'dividido', 'en', 'tres', 'etapas', 'de', 'la', 'época', 'precolombina']]\n"
     ]
    }
   ],
   "source": [
    "# Remover signos de puntuación\n",
    "\n",
    "tokenizer = nltk.RegexpTokenizer(r'\\w+') # Se pasa el regex que identifica los tokens en el texto como un secuencia de caractateres alfanúmericos, los demás caracteres son ignorados.\n",
    "word_tok_nltk_es_2 = [tokenizer.tokenize(doc) for doc in text_corpus_es]\n",
    "print(word_tok_nltk_es_2)"
   ]
  },
  {
   "cell_type": "markdown",
   "id": "E9wipHjaI8G7",
   "metadata": {
    "id": "E9wipHjaI8G7"
   },
   "source": [
    "## Eliminación de palabras de parada\n",
    "\n",
    "Este paso de procesamiento de texto es útil para remover palabras que no cargan con significado (aunque son palabras importantes estructuralmente) y que tienen poca relevancia su inclusión para algunas tareas, como por ejemplo, clasificación de texto."
   ]
  },
  {
   "cell_type": "code",
   "execution_count": 8,
   "id": "organic-celebration",
   "metadata": {
    "colab": {
     "base_uri": "https://localhost:8080/"
    },
    "executionInfo": {
     "elapsed": 224,
     "status": "ok",
     "timestamp": 1695506551731,
     "user": {
      "displayName": "Ruben Manrique",
      "userId": "08867017342124303328"
     },
     "user_tz": 300
    },
    "id": "organic-celebration",
    "outputId": "219fdb0e-e167-44f0-dc38-b54f6bdd30c2"
   },
   "outputs": [
    {
     "name": "stdout",
     "output_type": "stream",
     "text": [
      "Stopwords removal English\n",
      "[['Human', 'machine', 'interface', 'lab', 'abc', 'computer', 'applications'], ['A', 'survey', 'user', 'opinion', 'computer', 'system', 'response', 'time'], ['The', 'EPS', 'user', 'interface', 'management', 'system'], ['System', 'human', 'system', 'engineering', 'testing', 'EPS'], ['Relation', 'user', 'perceived', 'response', 'time', 'error', 'measurement'], ['The', 'generation', 'random', 'binary', 'unordered', 'trees'], ['The', 'intersection', 'graph', 'paths', 'trees'], ['Graph', 'minors', 'IV', 'Widths', 'trees', 'well', 'quasi', 'ordering'], ['Graph', 'minors', 'A', 'survey']]\n",
      "Stopwords removal Spanish\n",
      "[['Colombia', 'oficialmente', 'República', 'Colombia', 'país', 'soberano', 'situado', 'región', 'noroccidental', 'América', 'Sur'], ['Es', 'única', 'nación', 'América', 'Sur', 'costas', 'océano', 'Pacífico', 'acceso', 'Atlántico', 'través', 'mar', 'Caribe'], ['Es', 'vigesimoctavo', 'país', 'poblado', 'mundo', 'población', '51', 'millones', 'habitantes'], ['La', 'presencia', 'humana', 'Colombia', 'remonta', '10', '000', 'años'], ['Colombia', 'economía', 'diversificada', 'posee', 'importante', 'componente', 'servicios'], ['Es', 'segunda', 'nación', 'biodiversa', 'mundo', 'contando', '54871', 'especies', 'registradas'], ['La', 'denominación', 'Colombia', 'proviene', 'apellido', 'explorador', 'genovés', 'siglo', 'XV', 'Cristóbal', 'Colón', 'italiano', 'Cristoforo', 'Colombo', 'latín', 'Christophorus', 'Columbus'], ['El', 'estudio', 'primeros', 'pobladores', 'territorio', 'hoy', 'comprende', 'Nación', 'dividido', 'tres', 'etapas', 'época', 'precolombina']]\n"
     ]
    }
   ],
   "source": [
    "nltk_stop_words_en = set(nltk.corpus.stopwords.words(\"english\")) # Palabras de parada como you, are, is, ...\n",
    "word_tok_nltk_en_sw = [[token for token in doc if token not in nltk_stop_words_en] for doc in word_tok_nltk_en]\n",
    "print(\"Stopwords removal English\")\n",
    "print(word_tok_nltk_en_sw)\n",
    "\n",
    "nltk_stop_words_es = set(nltk.corpus.stopwords.words(\"spanish\")) # Palabras de parada como de, la, que, ...\n",
    "word_tok_nltk_es_sw = [[token for token in doc if token not in nltk_stop_words_es] for doc in word_tok_nltk_es_2 ]\n",
    "print(\"Stopwords removal Spanish\")\n",
    "print(word_tok_nltk_es_sw)"
   ]
  },
  {
   "cell_type": "markdown",
   "id": "p5LQCJajL-Aj",
   "metadata": {
    "id": "p5LQCJajL-Aj"
   },
   "source": [
    "## Stemming\n",
    "Stemming consiste en recortar las palabras mediante unas reglas que se construyen para cada lenguaje, lo que nos permiten reducir el tamaño del vocabulario."
   ]
  },
  {
   "cell_type": "markdown",
   "id": "3-2U8m2HN50c",
   "metadata": {
    "id": "3-2U8m2HN50c"
   },
   "source": [
    "La clase PorterStemmer nos permite usar el álgoritmo creado por Martin Porter para realizar stemming.<br>Para más información sobre la clase vaya al siguiente [enlace](https://www.nltk.org/api/nltk.stem.porter.html) o consulte información sobre el álgoritmo en [esta página](https://tartarus.org/martin/PorterStemmer/)"
   ]
  },
  {
   "cell_type": "code",
   "execution_count": 9,
   "id": "stopped-president",
   "metadata": {
    "colab": {
     "base_uri": "https://localhost:8080/"
    },
    "executionInfo": {
     "elapsed": 5,
     "status": "ok",
     "timestamp": 1695506551732,
     "user": {
      "displayName": "Ruben Manrique",
      "userId": "08867017342124303328"
     },
     "user_tz": 300
    },
    "id": "stopped-president",
    "outputId": "51756474-891f-4185-bd77-96828d5f5a08"
   },
   "outputs": [
    {
     "name": "stdout",
     "output_type": "stream",
     "text": [
      "[['human', 'machin', 'interfac', 'lab', 'abc', 'comput', 'applic'], ['a', 'survey', 'user', 'opinion', 'comput', 'system', 'respons', 'time'], ['the', 'ep', 'user', 'interfac', 'manag', 'system'], ['system', 'human', 'system', 'engin', 'test', 'ep'], ['relat', 'user', 'perceiv', 'respons', 'time', 'error', 'measur'], ['the', 'gener', 'random', 'binari', 'unord', 'tree'], ['the', 'intersect', 'graph', 'path', 'tree'], ['graph', 'minor', 'iv', 'width', 'tree', 'well', 'quasi', 'order'], ['graph', 'minor', 'a', 'survey']]\n"
     ]
    }
   ],
   "source": [
    "p_stemmer = nltk.stem.porter.PorterStemmer()\n",
    "nltk_stemedList_en = [[p_stemmer.stem(word) for word in doc] for doc in word_tok_nltk_en_sw]\n",
    "\n",
    "print(nltk_stemedList_en)"
   ]
  },
  {
   "cell_type": "markdown",
   "id": "zhg5TokQQhxr",
   "metadata": {
    "id": "zhg5TokQQhxr"
   },
   "source": [
    "La clase SnowballStemmer es una versión mejorada del algoritmo PorterStemmer también creado por Martin Porter, que además soporta varios lenguajes. La documentación de la clase la encuentra en [este enlace](https://www.nltk.org/api/nltk.stem.SnowballStemmer.html), y más información del algoritmo puede hayarla [aquí](https://snowballstem.org/algorithms/)."
   ]
  },
  {
   "cell_type": "code",
   "execution_count": 10,
   "id": "pharmaceutical-arena",
   "metadata": {
    "colab": {
     "base_uri": "https://localhost:8080/"
    },
    "executionInfo": {
     "elapsed": 4,
     "status": "ok",
     "timestamp": 1695506551732,
     "user": {
      "displayName": "Ruben Manrique",
      "userId": "08867017342124303328"
     },
     "user_tz": 300
    },
    "id": "pharmaceutical-arena",
    "outputId": "538b27f3-22b2-4d6f-9b37-82b18106cdcc"
   },
   "outputs": [
    {
     "name": "stdout",
     "output_type": "stream",
     "text": [
      "[['colombi', 'oficial', 'republ', 'colombi', 'pais', 'soberan', 'situ', 'region', 'noroccidental', 'amer', 'sur'], ['es', 'unic', 'nacion', 'amer', 'sur', 'cost', 'ocean', 'pacif', 'acces', 'atlant', 'traves', 'mar', 'carib'], ['es', 'vigesimoctav', 'pais', 'pobl', 'mund', 'poblacion', '51', 'millon', 'habit'], ['la', 'presenci', 'human', 'colombi', 'remont', '10', '000', 'años'], ['colombi', 'econom', 'diversific', 'pose', 'import', 'component', 'servici'], ['es', 'segund', 'nacion', 'biodivers', 'mund', 'cont', '54871', 'especi', 'registr'], ['la', 'denomin', 'colombi', 'provien', 'apell', 'explor', 'genoves', 'sigl', 'xv', 'cristobal', 'colon', 'italian', 'cristofor', 'colomb', 'latin', 'christophorus', 'columbus'], ['el', 'estudi', 'primer', 'poblador', 'territori', 'hoy', 'comprend', 'nacion', 'divid', 'tres', 'etap', 'epoc', 'precolombin']]\n"
     ]
    }
   ],
   "source": [
    "stemmer_es = nltk.stem.SnowballStemmer(\"spanish\")\n",
    "nltk_stemedList_es = [[stemmer_es.stem(word) for word in doc] for doc in word_tok_nltk_es_sw]\n",
    "\n",
    "print(nltk_stemedList_es)"
   ]
  },
  {
   "cell_type": "markdown",
   "id": "LIdi2i95V9-E",
   "metadata": {
    "id": "LIdi2i95V9-E"
   },
   "source": [
    "## Lematizacion\n",
    "La lematización permite reducir las formas flexivas/variantes de las palabras a su forma base."
   ]
  },
  {
   "cell_type": "markdown",
   "id": "8h3m4W-3UF9o",
   "metadata": {
    "id": "8h3m4W-3UF9o"
   },
   "source": [
    "La clase WordNetLemmatizer hace uso de las reglas de desacople desarrolladas por WordNet de la Universidad de Princeton.<br>\n",
    "La documentación de la clase puede hayarla [aquí](https://www.nltk.org/api/nltk.stem.WordNetLemmatizer.html), y más información sobre las reglas de desacople usadas por WordNet puede verlas en [este enlace](https://wordnet.princeton.edu/documentation/morphy7wn)."
   ]
  },
  {
   "cell_type": "code",
   "execution_count": 11,
   "id": "bronze-pollution",
   "metadata": {
    "colab": {
     "base_uri": "https://localhost:8080/"
    },
    "executionInfo": {
     "elapsed": 4,
     "status": "ok",
     "timestamp": 1695506551733,
     "user": {
      "displayName": "Ruben Manrique",
      "userId": "08867017342124303328"
     },
     "user_tz": 300
    },
    "id": "bronze-pollution",
    "outputId": "8b2e60d2-791e-4bdd-d8d7-93364d97149e"
   },
   "outputs": [
    {
     "name": "stdout",
     "output_type": "stream",
     "text": [
      "[['Human', 'machine', 'interface', 'lab', 'abc', 'computer', 'application'], ['A', 'survey', 'user', 'opinion', 'computer', 'system', 'response', 'time'], ['The', 'EPS', 'user', 'interface', 'management', 'system'], ['System', 'human', 'system', 'engineering', 'testing', 'EPS'], ['Relation', 'user', 'perceived', 'response', 'time', 'error', 'measurement'], ['The', 'generation', 'random', 'binary', 'unordered', 'tree'], ['The', 'intersection', 'graph', 'path', 'tree'], ['Graph', 'minor', 'IV', 'Widths', 'tree', 'well', 'quasi', 'ordering'], ['Graph', 'minor', 'A', 'survey']]\n"
     ]
    }
   ],
   "source": [
    "wordnet_lemmatizer = nltk.stem.WordNetLemmatizer()\n",
    "nltk_lemmaList = [[wordnet_lemmatizer.lemmatize(word) for word in doc] for doc in word_tok_nltk_en_sw]\n",
    "\n",
    "print(nltk_lemmaList)"
   ]
  },
  {
   "cell_type": "markdown",
   "id": "forty-fairy",
   "metadata": {
    "id": "forty-fairy"
   },
   "source": [
    "# TextBlob"
   ]
  },
  {
   "cell_type": "markdown",
   "id": "lWjWa4QRWb3I",
   "metadata": {
    "id": "lWjWa4QRWb3I"
   },
   "source": [
    "**TextBlob** es una librería para procesar texto. Provee un API para realizar tareas comunes de PLN como tagging, análisis de sentimientos, y traducción.\n",
    "\n",
    "Puede ver la documentación [aquí](https://textblob.readthedocs.io/en/dev/)"
   ]
  },
  {
   "cell_type": "code",
   "execution_count": 16,
   "id": "wIOG-nJCX2-f",
   "metadata": {
    "executionInfo": {
     "elapsed": 306,
     "status": "ok",
     "timestamp": 1695506754952,
     "user": {
      "displayName": "Ruben Manrique",
      "userId": "08867017342124303328"
     },
     "user_tz": 300
    },
    "id": "wIOG-nJCX2-f"
   },
   "outputs": [],
   "source": [
    "import textblob"
   ]
  },
  {
   "cell_type": "markdown",
   "id": "jowrsVxg9WS1",
   "metadata": {
    "id": "jowrsVxg9WS1"
   },
   "source": [
    "## Tokenización"
   ]
  },
  {
   "cell_type": "markdown",
   "id": "tg15M8B__Kj1",
   "metadata": {
    "id": "tg15M8B__Kj1"
   },
   "source": [
    "La clase [TextBlob](https://textblob.readthedocs.io/en/dev/api_reference.html#textblob.blob.TextBlob) se incializa con un texto y te da acceso a diferentes métodos y atributos útiles.\n",
    "\n",
    "Para tokenizar el texto en palabras puedes acceder al atributo words y obtienes una [WordList](https://textblob.readthedocs.io/en/dev/api_reference.html#textblob.blob.WordList)."
   ]
  },
  {
   "cell_type": "code",
   "execution_count": 17,
   "id": "5MzAn7eM9Zs9",
   "metadata": {
    "colab": {
     "base_uri": "https://localhost:8080/"
    },
    "executionInfo": {
     "elapsed": 9,
     "status": "ok",
     "timestamp": 1695506754953,
     "user": {
      "displayName": "Ruben Manrique",
      "userId": "08867017342124303328"
     },
     "user_tz": 300
    },
    "id": "5MzAn7eM9Zs9",
    "outputId": "407d80d5-7195-4063-d937-3cc9dcea0f10"
   },
   "outputs": [
    {
     "data": {
      "text/plain": [
       "WordList(['Human', 'machine', 'interface', 'for', 'lab', 'abc', 'computer', 'applications'])"
      ]
     },
     "execution_count": 17,
     "metadata": {},
     "output_type": "execute_result"
    }
   ],
   "source": [
    "text_block_en = textblob.TextBlob(text_corpus_en[0])\n",
    "text_block_en.words"
   ]
  },
  {
   "cell_type": "code",
   "execution_count": 18,
   "id": "-AaEQBmCAVa6",
   "metadata": {
    "colab": {
     "base_uri": "https://localhost:8080/"
    },
    "executionInfo": {
     "elapsed": 7,
     "status": "ok",
     "timestamp": 1695506754953,
     "user": {
      "displayName": "Ruben Manrique",
      "userId": "08867017342124303328"
     },
     "user_tz": 300
    },
    "id": "-AaEQBmCAVa6",
    "outputId": "fbf62a89-89ca-4413-ef16-ff38cdf80361"
   },
   "outputs": [
    {
     "data": {
      "text/plain": [
       "WordList(['Colombia', 'oficialmente', 'República', 'de', 'Colombia', 'es', 'un', 'país', 'soberano', 'situado', 'en', 'la', 'región', 'noroccidental', 'de', 'América', 'del', 'Sur'])"
      ]
     },
     "execution_count": 18,
     "metadata": {},
     "output_type": "execute_result"
    }
   ],
   "source": [
    "text_block_es = textblob.TextBlob(text_corpus_es[0])\n",
    "text_block_es.words"
   ]
  },
  {
   "cell_type": "markdown",
   "id": "-7DSnvMCAwQq",
   "metadata": {
    "id": "-7DSnvMCAwQq"
   },
   "source": [
    "Para tokenizar por oraciones puede usar el atributo sentences de TextBlob, este atributo retorna una lista de objetos tipo [Sentence](https://textblob.readthedocs.io/en/dev/api_reference.html#textblob.blob.Sentence)"
   ]
  },
  {
   "cell_type": "code",
   "execution_count": 19,
   "id": "vwfYstSiBKFK",
   "metadata": {
    "colab": {
     "base_uri": "https://localhost:8080/"
    },
    "executionInfo": {
     "elapsed": 6,
     "status": "ok",
     "timestamp": 1695506754953,
     "user": {
      "displayName": "Ruben Manrique",
      "userId": "08867017342124303328"
     },
     "user_tz": 300
    },
    "id": "vwfYstSiBKFK",
    "outputId": "49f699f6-80fa-4122-a793-6d826d0e7c4e"
   },
   "outputs": [
    {
     "data": {
      "text/plain": [
       "[Sentence(\"Human machine interface for lab abc computer applications.\"),\n",
       " Sentence(\"A survey of user opinion of computer system response time.\"),\n",
       " Sentence(\"The EPS user interface management system.\"),\n",
       " Sentence(\"System and human system engineering testing of EPS.\"),\n",
       " Sentence(\"Relation of user perceived response time to error measurement.\"),\n",
       " Sentence(\"The generation of random binary unordered trees.\"),\n",
       " Sentence(\"The intersection graph of paths in trees.\"),\n",
       " Sentence(\"Graph minors IV Widths of trees and well quasi ordering.\"),\n",
       " Sentence(\"Graph minors A survey\")]"
      ]
     },
     "execution_count": 19,
     "metadata": {},
     "output_type": "execute_result"
    }
   ],
   "source": [
    "text_block_en = textblob.TextBlob('. '.join(text_corpus_en)) # Se une la lista de textos con un punto y un espacio para simular un parrafo de texto.\n",
    "text_block_en.sentences"
   ]
  },
  {
   "cell_type": "code",
   "execution_count": 20,
   "id": "jH6NXxEYBjzJ",
   "metadata": {
    "colab": {
     "base_uri": "https://localhost:8080/"
    },
    "executionInfo": {
     "elapsed": 6,
     "status": "ok",
     "timestamp": 1695506754954,
     "user": {
      "displayName": "Ruben Manrique",
      "userId": "08867017342124303328"
     },
     "user_tz": 300
    },
    "id": "jH6NXxEYBjzJ",
    "outputId": "c6c507d8-b6da-4d7b-dc86-3d362cfd5c2f"
   },
   "outputs": [
    {
     "data": {
      "text/plain": [
       "[Sentence(\"Colombia, oficialmente República de Colombia, es un país soberano situado en la región noroccidental de América del Sur.\"),\n",
       " Sentence(\"Es la única nación de América del Sur que tiene costas en el océano Pacífico y acceso al Atlántico a través del mar Caribe.\"),\n",
       " Sentence(\"Es el vigesimoctavo país más poblado del mundo, con una población de 51 millones de habitantes.\"),\n",
       " Sentence(\"La presencia humana en Colombia se remonta a más de 10.000 años.\"),\n",
       " Sentence(\"Colombia tiene una economía diversificada y posee un importante componente de servicios.\"),\n",
       " Sentence(\"Es la segunda nación más biodiversa del mundo, contando con 54871 especies registradas.\"),\n",
       " Sentence(\"La denominación de Colombia proviene del apellido del explorador genovés del siglo XV Cristóbal Colón (en italiano: Cristoforo Colombo, en latín Christophorus Columbus).\"),\n",
       " Sentence(\"El estudio de los primeros pobladores del territorio que hoy comprende la Nación se ha dividido en tres etapas de la época precolombina\")]"
      ]
     },
     "execution_count": 20,
     "metadata": {},
     "output_type": "execute_result"
    }
   ],
   "source": [
    "text_block_es = textblob.TextBlob('. '.join(text_corpus_es)) # Se une la lista de textos con un punto y un espacio para simular un parrafo de texto.\n",
    "text_block_es.sentences"
   ]
  },
  {
   "cell_type": "markdown",
   "id": "ikO_Me3zG3B3",
   "metadata": {
    "id": "ikO_Me3zG3B3"
   },
   "source": [
    "## Stemming\n",
    "\n",
    "El objeto WordList nos da acceso al algoritmo de stemming (PorterStemmer de **nltk** por defecto) mediante el metodo **stem**."
   ]
  },
  {
   "cell_type": "code",
   "execution_count": 21,
   "id": "UfBN8ryJG5ui",
   "metadata": {
    "colab": {
     "base_uri": "https://localhost:8080/"
    },
    "executionInfo": {
     "elapsed": 6,
     "status": "ok",
     "timestamp": 1695506754954,
     "user": {
      "displayName": "Ruben Manrique",
      "userId": "08867017342124303328"
     },
     "user_tz": 300
    },
    "id": "UfBN8ryJG5ui",
    "outputId": "462f6940-fc70-4d7d-909b-fca222a2e1ce"
   },
   "outputs": [
    {
     "data": {
      "text/plain": [
       "WordList(['human', 'machin', 'interfac', 'for', 'lab', 'abc', 'comput', 'applic', 'a', 'survey', 'of', 'user', 'opinion', 'of', 'comput', 'system', 'respons', 'time', 'the', 'ep', 'user', 'interfac', 'manag', 'system', 'system', 'and', 'human', 'system', 'engin', 'test', 'of', 'ep', 'relat', 'of', 'user', 'perceiv', 'respons', 'time', 'to', 'error', 'measur', 'the', 'gener', 'of', 'random', 'binari', 'unord', 'tree', 'the', 'intersect', 'graph', 'of', 'path', 'in', 'tree', 'graph', 'minor', 'iv', 'width', 'of', 'tree', 'and', 'well', 'quasi', 'order', 'graph', 'minor', 'a', 'survey'])"
      ]
     },
     "execution_count": 21,
     "metadata": {},
     "output_type": "execute_result"
    }
   ],
   "source": [
    "text_block_en.words.stem()"
   ]
  },
  {
   "cell_type": "code",
   "execution_count": 22,
   "id": "SlvrB6cnHay-",
   "metadata": {
    "colab": {
     "base_uri": "https://localhost:8080/"
    },
    "executionInfo": {
     "elapsed": 310,
     "status": "ok",
     "timestamp": 1695506755259,
     "user": {
      "displayName": "Ruben Manrique",
      "userId": "08867017342124303328"
     },
     "user_tz": 300
    },
    "id": "SlvrB6cnHay-",
    "outputId": "0bb182e5-17a4-4d18-b070-c744a72ec1f0"
   },
   "outputs": [
    {
     "data": {
      "text/plain": [
       "WordList(['colombi', 'oficial', 'republ', 'de', 'colombi', 'es', 'un', 'pais', 'soberan', 'situ', 'en', 'la', 'region', 'noroccidental', 'de', 'amer', 'del', 'sur', 'es', 'la', 'unic', 'nacion', 'de', 'amer', 'del', 'sur', 'que', 'tien', 'cost', 'en', 'el', 'ocean', 'pacif', 'y', 'acces', 'al', 'atlant', 'a', 'traves', 'del', 'mar', 'carib', 'es', 'el', 'vigesimoctav', 'pais', 'mas', 'pobl', 'del', 'mund', 'con', 'una', 'poblacion', 'de', '51', 'millon', 'de', 'habit', 'la', 'presenci', 'human', 'en', 'colombi', 'se', 'remont', 'a', 'mas', 'de', '10.000', 'años', 'colombi', 'tien', 'una', 'econom', 'diversific', 'y', 'pose', 'un', 'import', 'component', 'de', 'servici', 'es', 'la', 'segund', 'nacion', 'mas', 'biodivers', 'del', 'mund', 'cont', 'con', '54871', 'especi', 'registr', 'la', 'denomin', 'de', 'colombi', 'provien', 'del', 'apell', 'del', 'explor', 'genoves', 'del', 'sigl', 'xv', 'cristobal', 'colon', 'en', 'italian', 'cristofor', 'colomb', 'en', 'latin', 'christophorus', 'columbus', 'el', 'estudi', 'de', 'los', 'primer', 'poblador', 'del', 'territori', 'que', 'hoy', 'comprend', 'la', 'nacion', 'se', 'ha', 'divid', 'en', 'tres', 'etap', 'de', 'la', 'epoc', 'precolombin'])"
      ]
     },
     "execution_count": 22,
     "metadata": {},
     "output_type": "execute_result"
    }
   ],
   "source": [
    "SnowballStemmer = nltk.stem.snowball.SnowballStemmer(\"spanish\") # Se debe buscar un stemmer que soporte el lenguaje de español\n",
    "text_block_es.words.stem(stemmer=SnowballStemmer)"
   ]
  },
  {
   "cell_type": "markdown",
   "id": "P14rraX_X9dZ",
   "metadata": {
    "id": "P14rraX_X9dZ"
   },
   "source": [
    "## Lematización\n",
    "\n",
    "Cada palabra en TextBlob.words es un objeto [Word](https://textblob.readthedocs.io/en/dev/api_reference.html#textblob.blob.Word) (una subclase de unicode) con métodos últiles como lematización.\n",
    "\n",
    "La lematización en TextBlob hace uso de WordNet al igual que WordNetLemmatizer de NLTK."
   ]
  },
  {
   "cell_type": "code",
   "execution_count": 23,
   "id": "statewide-orange",
   "metadata": {
    "colab": {
     "base_uri": "https://localhost:8080/"
    },
    "executionInfo": {
     "elapsed": 4,
     "status": "ok",
     "timestamp": 1695506755259,
     "user": {
      "displayName": "Ruben Manrique",
      "userId": "08867017342124303328"
     },
     "user_tz": 300
    },
    "id": "statewide-orange",
    "outputId": "8b134b93-d8cf-4b43-90c3-d53500732292"
   },
   "outputs": [
    {
     "name": "stdout",
     "output_type": "stream",
     "text": [
      "[['Human', 'machine', 'interface', 'lab', 'abc', 'computer', 'application'], ['A', 'survey', 'user', 'opinion', 'computer', 'system', 'response', 'time'], ['The', 'EPS', 'user', 'interface', 'management', 'system'], ['System', 'human', 'system', 'engineering', 'testing', 'EPS'], ['Relation', 'user', 'perceived', 'response', 'time', 'error', 'measurement'], ['The', 'generation', 'random', 'binary', 'unordered', 'tree'], ['The', 'intersection', 'graph', 'path', 'tree'], ['Graph', 'minor', 'IV', 'Widths', 'tree', 'well', 'quasi', 'ordering'], ['Graph', 'minor', 'A', 'survey']]\n"
     ]
    }
   ],
   "source": [
    "textblob_lemmaList = [[textblob.Word(word).lemmatize() for word in doc] for doc in word_tok_nltk_en_sw]\n",
    "print(textblob_lemmaList)"
   ]
  },
  {
   "cell_type": "code",
   "execution_count": 24,
   "id": "3OHdPxrjb6OU",
   "metadata": {
    "colab": {
     "base_uri": "https://localhost:8080/"
    },
    "executionInfo": {
     "elapsed": 4,
     "status": "ok",
     "timestamp": 1695506755260,
     "user": {
      "displayName": "Ruben Manrique",
      "userId": "08867017342124303328"
     },
     "user_tz": 300
    },
    "id": "3OHdPxrjb6OU",
    "outputId": "673d3bbd-c904-46d3-9700-67f673d440fb"
   },
   "outputs": [
    {
     "data": {
      "text/plain": [
       "True"
      ]
     },
     "execution_count": 24,
     "metadata": {},
     "output_type": "execute_result"
    }
   ],
   "source": [
    "nltk_lemmaList == textblob_lemmaList"
   ]
  },
  {
   "cell_type": "markdown",
   "id": "prepared-classroom",
   "metadata": {
    "id": "prepared-classroom"
   },
   "source": [
    "# Stanza\n",
    "\n",
    "**Stanza** es una librería creada por la Universidad de Standford, con herramientas eficientes para realizar análisis lingüístico de lenguaje natural. Stanza permite realizar tareas de PLN como análisis sintáctico, y reconocimiento de entidades en varios lenguajes.\n",
    "\n",
    "Puede consultar su documentación [aquí](https://stanfordnlp.github.io/stanza/)\n",
    "\n",
    "![Estructura de la librería](https://stanfordnlp.github.io/stanza/assets/images/pipeline.png)"
   ]
  },
  {
   "cell_type": "code",
   "execution_count": 26,
   "id": "PxeelNqQcjeG",
   "metadata": {
    "executionInfo": {
     "elapsed": 7566,
     "status": "ok",
     "timestamp": 1695506803053,
     "user": {
      "displayName": "Ruben Manrique",
      "userId": "08867017342124303328"
     },
     "user_tz": 300
    },
    "id": "PxeelNqQcjeG"
   },
   "outputs": [
    {
     "name": "stderr",
     "output_type": "stream",
     "text": [
      "/home/erich/dev/Curso_NLP/.venv/lib/python3.10/site-packages/tqdm/auto.py:21: TqdmWarning: IProgress not found. Please update jupyter and ipywidgets. See https://ipywidgets.readthedocs.io/en/stable/user_install.html\n",
      "  from .autonotebook import tqdm as notebook_tqdm\n"
     ]
    }
   ],
   "source": [
    "import stanza"
   ]
  },
  {
   "cell_type": "code",
   "execution_count": 27,
   "id": "geographic-tongue",
   "metadata": {
    "colab": {
     "base_uri": "https://localhost:8080/",
     "height": 392,
     "referenced_widgets": [
      "e6e60958c9a34c5f84f2a29544064a03",
      "00dd5a1bd13c4e44975e797e5cc14137",
      "dcd5601658eb4e34bd140dc644fad96d",
      "a42a782898b04603ba916545396d80e1",
      "80c5fd80565c4f23a077b5a9cf8c5662",
      "86cea9da41974e31af9d59905cc8f85a",
      "363509da3e5445a6a7a8fe5f3258aad0",
      "bfd4a83d688d4485a4d6ab5ecad1226f",
      "830a20b012214f5a9b637ae3081e1bd3",
      "7ef374cdbb76462b85c36ad3f430fef7",
      "2d103866bc1d440981c038f3feb243a1",
      "0debc7a8384a46e0be3e786804425c6d",
      "b637d4c55f2048a98a4e3d4fb7f59e37",
      "ac56b9054df44483b413ff629f6ac93e",
      "fed3f1a360034eb6ad2abf80bd159b86",
      "aa12e97a8caa4fa0a493a097c3603219",
      "59149354c73540179d5bb66573ef3c2f",
      "3abfeacf4958442ab7964f6c5527a044",
      "8b9129dd6bd5482b9fc1f71bf8b5b090",
      "e2d1f38dd77042859ddb21e70185dc53",
      "5b69afad9bc843e6bbc8c555bfe003c1",
      "79cc0d7a0de142128bd3c2c485be2cf4",
      "69efaf72859845dba04474001e3ac448",
      "ed5adddd136f4f98bbb37c4f06cd5734",
      "89fda4296dc34b30a9a440fbccd4c4ce",
      "0aee3d69e7c1423eabff4c55927b6f4a",
      "01587186361d4afbadb036795b179c94",
      "16a102d92f8642bb8b0747dae1e3e502",
      "5f03614545f140c3b1fa5bc03d6eecd4",
      "329f78bbb600467cbf1448826f4e5b37",
      "1e7117c583be4f1c9c32aace86a597ac",
      "4134fdd4a3514d0282ba8f4fe5e7b0f4",
      "2f81165f175c4d96aaf02ca47faa0004",
      "119de211718445cd97c1c173f2c62051",
      "fbfea7d681a0496da7a380a3c54de8a6",
      "163576e6e43b464e919a6b49627db143",
      "00cf290a8bd0498381f299a22f90596c",
      "4e67766af19742d291c920953e7ef07e",
      "a8c0374487204f0280520c776cd0375e",
      "9d81ed97615e4f10a5665b503448acb7",
      "0b2328f6714644158968a91bbb878207",
      "6bb2555d6ea5456184e8712c83f840e0",
      "9d17ba2f72bc48c18d46085a4d4774c1",
      "777bb298a10e47f9b8fefe320c0b8aea"
     ]
    },
    "executionInfo": {
     "elapsed": 3316,
     "status": "ok",
     "timestamp": 1695506806367,
     "user": {
      "displayName": "Ruben Manrique",
      "userId": "08867017342124303328"
     },
     "user_tz": 300
    },
    "id": "geographic-tongue",
    "outputId": "28cc154a-3755-4520-dc61-01f73e1dac21"
   },
   "outputs": [
    {
     "name": "stderr",
     "output_type": "stream",
     "text": [
      "Downloading https://raw.githubusercontent.com/stanfordnlp/stanza-resources/main/resources_1.10.0.json: 433kB [00:00, 25.8MB/s]                    \n",
      "2025-08-20 20:17:27 INFO: Downloaded file to /home/erich/stanza_resources/resources.json\n",
      "2025-08-20 20:17:27 WARNING: Language es package default expects mwt, which has been added\n",
      "2025-08-20 20:17:27 INFO: Downloading these customized packages for language: es (Spanish)...\n",
      "=================================\n",
      "| Processor | Package           |\n",
      "---------------------------------\n",
      "| tokenize  | combined          |\n",
      "| mwt       | combined          |\n",
      "| lemma     | combined_nocharlm |\n",
      "=================================\n",
      "\n",
      "Downloading https://huggingface.co/stanfordnlp/stanza-es/resolve/v1.10.0/models/tokenize/combined.pt: 100%|██████████| 664k/664k [00:00<00:00, 1.66MB/s]\n",
      "2025-08-20 20:17:28 INFO: Downloaded file to /home/erich/stanza_resources/es/tokenize/combined.pt\n",
      "Downloading https://huggingface.co/stanfordnlp/stanza-es/resolve/v1.10.0/models/mwt/combined.pt: 100%|██████████| 634k/634k [00:00<00:00, 2.77MB/s]\n",
      "2025-08-20 20:17:29 INFO: Downloaded file to /home/erich/stanza_resources/es/mwt/combined.pt\n",
      "Downloading https://huggingface.co/stanfordnlp/stanza-es/resolve/v1.10.0/models/lemma/combined_nocharlm.pt: 100%|██████████| 6.87M/6.87M [00:03<00:00, 2.13MB/s]\n",
      "2025-08-20 20:17:33 INFO: Downloaded file to /home/erich/stanza_resources/es/lemma/combined_nocharlm.pt\n",
      "2025-08-20 20:17:33 INFO: Finished downloading models and saved to /home/erich/stanza_resources\n"
     ]
    }
   ],
   "source": [
    "# Descargar los procesadores de texto a usar, en este caso el tokenizador y el lematizador, específicando el lenguaje de español.\n",
    "stanza.download('es', processors='tokenize,lemma')"
   ]
  },
  {
   "cell_type": "markdown",
   "id": "filiOHV2hgqi",
   "metadata": {
    "id": "filiOHV2hgqi"
   },
   "source": [
    "La lista de todos los modelos y lenguajes disponibles puede verla [aquí](https://stanfordnlp.github.io/stanza/models#downloading-and-using-models)."
   ]
  },
  {
   "cell_type": "markdown",
   "id": "4y9tTdfUhy-h",
   "metadata": {
    "id": "4y9tTdfUhy-h"
   },
   "source": [
    "La clase [Pipeline](https://stanfordnlp.github.io/stanza/pipeline.html#pipeline) nos permite encadenar precesamientos de texto de manera secuencial."
   ]
  },
  {
   "cell_type": "markdown",
   "id": "Q2FNCE6GkJuR",
   "metadata": {
    "id": "Q2FNCE6GkJuR"
   },
   "source": [
    "El Pipeline devuelve un objeto tipo [documento](https://stanfordnlp.github.io/stanza/data_objects#document) que contienen todas las etiquetas del documento."
   ]
  },
  {
   "cell_type": "markdown",
   "id": "H-2_DZGTJP6T",
   "metadata": {
    "id": "H-2_DZGTJP6T"
   },
   "source": [
    "## Tokenización\n",
    "\n",
    "Creamos dos pipelines, una para el procesamiento de textos en inglés y otra en español. Mediante estas pipelines tenemos acceso a las etiquetas y tokenización generada para el texto."
   ]
  },
  {
   "cell_type": "code",
   "execution_count": 28,
   "id": "DqcmiA0JJU6h",
   "metadata": {
    "colab": {
     "base_uri": "https://localhost:8080/",
     "height": 724,
     "referenced_widgets": [
      "8fea018369574e76afdc208ddf35d70e",
      "534e63e7ad154ca69c9fe5b993cd063e",
      "db14ab3109294ffd88f39094e54477a8",
      "c7f49af44c834ebf85933262a265bc34",
      "28e9c95ddb9a4eeabce73da6b4b6a34b",
      "f6f8686407bf4f429fc3f7ee27e3815a",
      "3e18750bcc8745bd86736e09980b1711",
      "c8e2ba26fc6a43f58258a2727db62c7f",
      "6d2492f97d6a4a4285e1aa1f582524fa",
      "540d40c3b2cc47dfabba0c73eaf5e92f",
      "188ece411cc340c79cb9340e55aa9cbc",
      "e3699d1abc6a49ea9a859a85583f9740",
      "38429b8ce496404fa6c5027fd5e42410",
      "98411f923ac242cdb9b7e64e914207c2",
      "9c917a3618e540608f164f3985cc2def",
      "240f9bb09b4244bcb8a8b9460f563d5a",
      "d7610fc163eb4f72b41e824a91e3bf20",
      "4ceeec9f7a3543f7b9b691f861f873d8",
      "74113d4bfc4240119b79457cd326c000",
      "19c43163d2bd4a73abbdab407930fdb4",
      "7169f5e2aa9049198812d569e2e1e911",
      "e0ca51a7e0924a109fdea3e5841e803a",
      "080b2d6fde184cecb0141e04bfa33965",
      "5e427a66a08b4ab8b5ec2f2b8595cb7d",
      "b8f69450aabe40c08a7cd2c8e766fe99",
      "266729b61af244198a2818126645f11c",
      "063417680e4a47b997a52863126d6117",
      "ea62d25ade24403597502600088d1172",
      "e426dff25d1a4820aac49f81763fa23c",
      "d52869ab4d554adb9ae70d0319cf0c74",
      "ad61ea2614d54100a6a5496ef0a2c101",
      "bbf9fd67a31a45beb34ab79bfb6e4d1a",
      "1f80fad952854d208aa9b7c8a07fdf3c",
      "2f152116f8e247f0b3889b0109ffaf85",
      "fd4874ed27c14aa8aecc37e8a6240e91",
      "a9446c52a0bf42d5b0c4b5605796f800",
      "b447db10c53245e8a845278fba14d1db",
      "544112bcb842457589b1f163c613355c",
      "789c764986f44517bf20a9ab17f7b471",
      "47820c1053a74c48997bff9a5bf72b7f",
      "6fd512e8bb004593839f69cd7ba1699e",
      "d9c5e759e49046b2b749bb337d57d988",
      "a4ac63956b2c4fe2b5e83ab67d40a415",
      "6cce60be970a4bb6be42032ba5e721d1"
     ]
    },
    "executionInfo": {
     "elapsed": 3630,
     "status": "ok",
     "timestamp": 1695506809989,
     "user": {
      "displayName": "Ruben Manrique",
      "userId": "08867017342124303328"
     },
     "user_tz": 300
    },
    "id": "DqcmiA0JJU6h",
    "outputId": "2904b6ce-346e-4b77-a698-10225f8712dc"
   },
   "outputs": [
    {
     "name": "stderr",
     "output_type": "stream",
     "text": [
      "2025-08-20 20:17:33 INFO: Checking for updates to resources.json in case models have been updated.  Note: this behavior can be turned off with download_method=None or download_method=DownloadMethod.REUSE_RESOURCES\n",
      "Downloading https://raw.githubusercontent.com/stanfordnlp/stanza-resources/main/resources_1.10.0.json: 433kB [00:00, 12.2MB/s]                    \n",
      "2025-08-20 20:17:33 INFO: Downloaded file to /home/erich/stanza_resources/resources.json\n",
      "2025-08-20 20:17:33 WARNING: Language en package default expects mwt, which has been added\n",
      "Downloading https://huggingface.co/stanfordnlp/stanza-en/resolve/v1.10.0/models/tokenize/combined.pt: 100%|██████████| 651k/651k [00:02<00:00, 268kB/s]\n",
      "Downloading https://huggingface.co/stanfordnlp/stanza-en/resolve/v1.10.0/models/mwt/combined.pt: 100%|██████████| 509k/509k [00:00<00:00, 557kB/s]\n",
      "Downloading https://huggingface.co/stanfordnlp/stanza-en/resolve/v1.10.0/models/lemma/combined_nocharlm.pt: 100%|██████████| 4.27M/4.27M [00:03<00:00, 1.30MB/s]\n",
      "2025-08-20 20:17:43 INFO: Loading these models for language: en (English):\n",
      "=================================\n",
      "| Processor | Package           |\n",
      "---------------------------------\n",
      "| tokenize  | combined          |\n",
      "| mwt       | combined          |\n",
      "| lemma     | combined_nocharlm |\n",
      "=================================\n",
      "\n",
      "2025-08-20 20:17:43 INFO: Using device: cuda\n",
      "2025-08-20 20:17:43 INFO: Loading: tokenize\n",
      "2025-08-20 20:17:44 INFO: Loading: mwt\n",
      "2025-08-20 20:17:44 INFO: Loading: lemma\n",
      "2025-08-20 20:17:44 INFO: Done loading processors!\n",
      "2025-08-20 20:17:44 INFO: Checking for updates to resources.json in case models have been updated.  Note: this behavior can be turned off with download_method=None or download_method=DownloadMethod.REUSE_RESOURCES\n",
      "Downloading https://raw.githubusercontent.com/stanfordnlp/stanza-resources/main/resources_1.10.0.json: 433kB [00:00, 13.2MB/s]                    \n",
      "2025-08-20 20:17:45 INFO: Downloaded file to /home/erich/stanza_resources/resources.json\n",
      "2025-08-20 20:17:45 WARNING: Language es package default expects mwt, which has been added\n",
      "2025-08-20 20:17:45 INFO: Loading these models for language: es (Spanish):\n",
      "=================================\n",
      "| Processor | Package           |\n",
      "---------------------------------\n",
      "| tokenize  | combined          |\n",
      "| mwt       | combined          |\n",
      "| lemma     | combined_nocharlm |\n",
      "=================================\n",
      "\n",
      "2025-08-20 20:17:45 INFO: Using device: cuda\n",
      "2025-08-20 20:17:45 INFO: Loading: tokenize\n",
      "2025-08-20 20:17:45 INFO: Loading: mwt\n",
      "2025-08-20 20:17:45 INFO: Loading: lemma\n",
      "2025-08-20 20:17:46 INFO: Done loading processors!\n"
     ]
    }
   ],
   "source": [
    "nlp_en = stanza.Pipeline('en', processors='tokenize,lemma') # No es necesario especificar los pasos de procesamiento que se quieren aplicar.\n",
    "nlp_es = stanza.Pipeline('es', processors='tokenize,lemma')"
   ]
  },
  {
   "cell_type": "code",
   "execution_count": 29,
   "id": "LUGZc-KQK2k_",
   "metadata": {
    "colab": {
     "base_uri": "https://localhost:8080/"
    },
    "executionInfo": {
     "elapsed": 652,
     "status": "ok",
     "timestamp": 1695506810638,
     "user": {
      "displayName": "Ruben Manrique",
      "userId": "08867017342124303328"
     },
     "user_tz": 300
    },
    "id": "LUGZc-KQK2k_",
    "outputId": "d7737313-42fe-454e-9805-8d2097b750f9"
   },
   "outputs": [
    {
     "name": "stdout",
     "output_type": "stream",
     "text": [
      "Human machine interface for lab abc computer applications.\n",
      "['Human', 'machine', 'interface', 'for', 'lab', 'abc', 'computer', 'applications', '.']\n",
      "A survey of user opinion of computer system response time.\n",
      "['A', 'survey', 'of', 'user', 'opinion', 'of', 'computer', 'system', 'response', 'time', '.']\n",
      "The EPS user interface management system.\n",
      "['The', 'EPS', 'user', 'interface', 'management', 'system', '.']\n",
      "System and human system engineering testing of EPS.\n",
      "['System', 'and', 'human', 'system', 'engineering', 'testing', 'of', 'EPS', '.']\n",
      "Relation of user perceived response time to error measurement.\n",
      "['Relation', 'of', 'user', 'perceived', 'response', 'time', 'to', 'error', 'measurement', '.']\n",
      "The generation of random binary unordered trees.\n",
      "['The', 'generation', 'of', 'random', 'binary', 'unordered', 'trees', '.']\n",
      "The intersection graph of paths in trees.\n",
      "['The', 'intersection', 'graph', 'of', 'paths', 'in', 'trees', '.']\n",
      "Graph minors IV Widths of trees and well quasi ordering.\n",
      "['Graph', 'minors', 'IV', 'Widths', 'of', 'trees', 'and', 'well', 'quasi', 'ordering', '.']\n",
      "Graph minors A survey\n",
      "['Graph', 'minors', 'A', 'survey']\n"
     ]
    }
   ],
   "source": [
    "doc_en = nlp_en('. '.join(text_corpus_en)) # Se unen el listado de frases con un punto y un espacio para simular un parrafo.\n",
    "for sentence in doc_en.sentences: # Tokenización por oraciones\n",
    "  print(sentence.text)\n",
    "  print([word.text for word in sentence.words]) # Tokenización por palabras"
   ]
  },
  {
   "cell_type": "code",
   "execution_count": 30,
   "id": "Hj5aYSJtMews",
   "metadata": {
    "colab": {
     "base_uri": "https://localhost:8080/"
    },
    "executionInfo": {
     "elapsed": 313,
     "status": "ok",
     "timestamp": 1695506810944,
     "user": {
      "displayName": "Ruben Manrique",
      "userId": "08867017342124303328"
     },
     "user_tz": 300
    },
    "id": "Hj5aYSJtMews",
    "outputId": "bcbabacc-b8d5-45ba-a2f9-c619bf70dcf0"
   },
   "outputs": [
    {
     "name": "stdout",
     "output_type": "stream",
     "text": [
      "Colombia, oficialmente República de Colombia, es un país soberano situado en la región noroccidental de América del Sur.\n",
      "['Colombia', ',', 'oficialmente', 'República', 'de', 'Colombia', ',', 'es', 'un', 'país', 'soberano', 'situado', 'en', 'la', 'región', 'noroccidental', 'de', 'América', 'de', 'el', 'Sur', '.']\n",
      "Es la única nación de América del Sur que tiene costas en el océano Pacífico y acceso al Atlántico a través del mar Caribe.\n",
      "['Es', 'la', 'única', 'nación', 'de', 'América', 'de', 'el', 'Sur', 'que', 'tiene', 'costas', 'en', 'el', 'océano', 'Pacífico', 'y', 'acceso', 'a', 'el', 'Atlántico', 'a', 'través', 'de', 'el', 'mar', 'Caribe', '.']\n",
      "Es el vigesimoctavo país más poblado del mundo, con una población de 51 millones de habitantes.\n",
      "['Es', 'el', 'vigesimoctavo', 'país', 'más', 'poblado', 'de', 'el', 'mundo', ',', 'con', 'una', 'población', 'de', '51', 'millones', 'de', 'habitantes', '.']\n",
      "La presencia humana en Colombia se remonta a más de 10.000 años.\n",
      "['La', 'presencia', 'humana', 'en', 'Colombia', 'se', 'remonta', 'a', 'más', 'de', '10.000', 'años', '.']\n",
      "Colombia tiene una economía diversificada y posee un importante componente de servicios.\n",
      "['Colombia', 'tiene', 'una', 'economía', 'diversificada', 'y', 'posee', 'un', 'importante', 'componente', 'de', 'servicios', '.']\n",
      "Es la segunda nación más biodiversa del mundo, contando con 54871 especies registradas.\n",
      "['Es', 'la', 'segunda', 'nación', 'más', 'biodiversa', 'de', 'el', 'mundo', ',', 'contando', 'con', '54871', 'especies', 'registradas', '.']\n",
      "La denominación de Colombia proviene del apellido del explorador genovés del siglo XV Cristóbal Colón (en italiano: Cristoforo Colombo, en latín Christophorus Columbus).\n",
      "['La', 'denominación', 'de', 'Colombia', 'proviene', 'de', 'el', 'apellido', 'de', 'el', 'explorador', 'genovés', 'de', 'el', 'siglo', 'XV', 'Cristóbal', 'Colón', '(', 'en', 'italiano', ':', 'Cristoforo', 'Colombo', ',', 'en', 'latín', 'Christophorus', 'Columbus', ')', '.']\n",
      "El estudio de los primeros pobladores del territorio que hoy comprende la Nación se ha dividido en tres etapas de la época precolombina\n",
      "['El', 'estudio', 'de', 'los', 'primeros', 'pobladores', 'de', 'el', 'territorio', 'que', 'hoy', 'comprende', 'la', 'Nación', 'se', 'ha', 'dividido', 'en', 'tres', 'etapas', 'de', 'la', 'época', 'precolombina']\n"
     ]
    }
   ],
   "source": [
    "doc_es = nlp_es('. '.join(text_corpus_es)) # Se unen el listado de frases con un punto y un espacio para simular un parrafo.\n",
    "for sentence in doc_es.sentences: # Tokenización por oraciones\n",
    "  print(sentence.text)\n",
    "  print([word.text for word in sentence.words]) # Tokenización por palabras"
   ]
  },
  {
   "cell_type": "markdown",
   "id": "4O9Umyk-lqdq",
   "metadata": {
    "id": "4O9Umyk-lqdq"
   },
   "source": [
    "## Lematización\n",
    "\n",
    "Del objeto [Word](https://stanfordnlp.github.io/stanza/data_objects.html#word) se puede obtener el lema de la palabra mediante el atributo **lema**, junto con otra serie de etiquetas."
   ]
  },
  {
   "cell_type": "code",
   "execution_count": 31,
   "id": "aOn9yY_4N9X7",
   "metadata": {
    "colab": {
     "base_uri": "https://localhost:8080/"
    },
    "executionInfo": {
     "elapsed": 221,
     "status": "ok",
     "timestamp": 1695506822338,
     "user": {
      "displayName": "Ruben Manrique",
      "userId": "08867017342124303328"
     },
     "user_tz": 300
    },
    "id": "aOn9yY_4N9X7",
    "outputId": "c7074922-9208-4e6f-c23b-0d1a22fa1507"
   },
   "outputs": [
    {
     "name": "stdout",
     "output_type": "stream",
     "text": [
      "['human', 'machine', 'interface', 'for', 'lab', 'abc', 'computer', 'application', '.']\n",
      "['a', 'survey', 'of', 'user', 'opinion', 'of', 'computer', 'system', 'response', 'time', '.']\n",
      "['the', 'eps', 'user', 'interface', 'management', 'system', '.']\n",
      "['system', 'and', 'human', 'system', 'engineering', 'testing', 'of', 'eps', '.']\n",
      "['relation', 'of', 'user', 'perceive', 'response', 'time', 'to', 'error', 'measurement', '.']\n",
      "['the', 'generation', 'of', 'random', 'binary', 'unordered', 'tree', '.']\n",
      "['the', 'intersection', 'graph', 'of', 'path', 'in', 'tree', '.']\n",
      "['graph', 'minor', 'iv', 'width', 'of', 'tree', 'and', 'well', 'quasi', 'order', '.']\n",
      "['graph', 'minor', 'a', 'survey']\n"
     ]
    }
   ],
   "source": [
    "for sentence in doc_en.sentences:\n",
    "  print([word.lemma for word in sentence.words])"
   ]
  },
  {
   "cell_type": "code",
   "execution_count": 32,
   "id": "coated-cabinet",
   "metadata": {
    "colab": {
     "base_uri": "https://localhost:8080/"
    },
    "executionInfo": {
     "elapsed": 231,
     "status": "ok",
     "timestamp": 1695506825530,
     "user": {
      "displayName": "Ruben Manrique",
      "userId": "08867017342124303328"
     },
     "user_tz": 300
    },
    "id": "coated-cabinet",
    "outputId": "a4b57bb5-f94d-44ad-d4aa-37f628280ba8"
   },
   "outputs": [
    {
     "name": "stdout",
     "output_type": "stream",
     "text": [
      "['Colombia', ',', 'oficialmente', 'república', 'de', 'Colombia', ',', 'ser', 'uno', 'país', 'soberano', 'situar', 'en', 'el', 'región', 'noroccidental', 'de', 'américa', 'de', 'el', 'sur', '.']\n",
      "['ser', 'el', 'único', 'nación', 'de', 'américa', 'de', 'el', 'sur', 'que', 'tener', 'costa', 'en', 'el', 'océano', 'pacífico', 'y', 'acceso', 'a', 'el', 'Atlántico', 'a', 'través', 'de', 'el', 'mar', 'caribe', '.']\n",
      "['ser', 'el', 'vigesimoctavo', 'país', 'más', 'poblado', 'de', 'el', 'mundo', ',', 'con', 'uno', 'población', 'de', '51', 'millón', 'de', 'habitante', '.']\n",
      "['el', 'presencia', 'humano', 'en', 'Colombia', 'él', 'remontar', 'a', 'más', 'de', '10000', 'año', '.']\n",
      "['Colombia', 'tener', 'uno', 'economía', 'diversificado', 'y', 'poseer', 'uno', 'importante', 'componente', 'de', 'servicio', '.']\n",
      "['ser', 'el', 'segundo', 'nación', 'más', 'biodiversa', 'de', 'el', 'mundo', ',', 'contar', 'con', '54871', 'especie', 'registrar', '.']\n",
      "['el', 'denominación', 'de', 'Colombia', 'provenir', 'de', 'el', 'apellido', 'de', 'el', 'explorador', 'genovés', 'de', 'el', 'siglo', 'xv', 'cristóbal', 'colón', '(', 'en', 'italiano', ':', 'cristoforo', 'colombo', ',', 'en', 'latín', 'christophorus', 'columbus', ')', '.']\n",
      "['el', 'estudio', 'de', 'el', 'primero', 'poblador', 'de', 'el', 'territorio', 'que', 'hoy', 'comprender', 'el', 'nación', 'él', 'haber', 'dividir', 'en', 'tres', 'etapa', 'de', 'el', 'época', 'precolombina']\n"
     ]
    }
   ],
   "source": [
    "for sentence in doc_es.sentences:\n",
    "  print([word.lemma for word in sentence.words])"
   ]
  },
  {
   "cell_type": "markdown",
   "id": "assumed-direction",
   "metadata": {
    "id": "assumed-direction"
   },
   "source": [
    "# Spacy\n",
    "\n",
    "**spaCy** es una librería robusta de PLN, con las siguientes principales características:\n",
    "\n",
    "* Soporte para más de 73 idiomas.\n",
    "* 84 pipelines entrenados para 25 idiomas.\n",
    "* Aprendizaje multi-tarea con modelos preentrenados como BERT.\n",
    "* Vectores de palabras preentrenados.\n",
    "* Velocidad de vanguardia.\n",
    "* Sistema de entrenamiento listo para producción.\n",
    "* Tokenización motivada lingüísticamente.\n",
    "* Componentes para reconocimiento de entidades nombradas, etiquetado de partes de la oración, análisis de dependencias, segmentación de oraciones, clasificación de texto, lematización, análisis morfológico, vinculación de entidades y más.\n",
    "\n",
    "Consulte más información en la [página oficial](https://spacy.io/)."
   ]
  },
  {
   "cell_type": "code",
   "execution_count": 35,
   "id": "QMKTr6fWl_46",
   "metadata": {
    "executionInfo": {
     "elapsed": 5853,
     "status": "ok",
     "timestamp": 1695506837542,
     "user": {
      "displayName": "Ruben Manrique",
      "userId": "08867017342124303328"
     },
     "user_tz": 300
    },
    "id": "QMKTr6fWl_46"
   },
   "outputs": [],
   "source": [
    "import spacy"
   ]
  },
  {
   "cell_type": "markdown",
   "id": "Nkpc02DMo_SC",
   "metadata": {
    "id": "Nkpc02DMo_SC"
   },
   "source": [
    "Los pipelines previamente entrenados por spaCy pueden descargarse como paquetes de Python.\n",
    "\n",
    "Para más información sobre los distintos modos de descarga de los pipelines y ver los modelos disponibles, consulte el siguiente [enlace](https://spacy.io/usage/models)."
   ]
  },
  {
   "cell_type": "code",
   "execution_count": 36,
   "id": "CtcJ6upkwkYa",
   "metadata": {
    "colab": {
     "base_uri": "https://localhost:8080/"
    },
    "executionInfo": {
     "elapsed": 30867,
     "status": "ok",
     "timestamp": 1695506868406,
     "user": {
      "displayName": "Ruben Manrique",
      "userId": "08867017342124303328"
     },
     "user_tz": 300
    },
    "id": "CtcJ6upkwkYa",
    "outputId": "09de357a-9cc6-4c6d-8aa2-8421d7f32dbe"
   },
   "outputs": [
    {
     "name": "stdout",
     "output_type": "stream",
     "text": [
      "Now using node v22.17.0 (npm v10.9.2)\n",
      "Collecting es-core-news-sm==3.8.0\n",
      "  Downloading https://github.com/explosion/spacy-models/releases/download/es_core_news_sm-3.8.0/es_core_news_sm-3.8.0-py3-none-any.whl (12.9 MB)\n",
      "\u001b[2K     \u001b[90m━━━━━━━━━━━━━━━━━━━━━━━━━━━━━━━━━━━━━━━━\u001b[0m \u001b[32m12.9/12.9 MB\u001b[0m \u001b[31m9.1 MB/s\u001b[0m  \u001b[33m0:00:01\u001b[0mm0:00:01\u001b[0m00:01\u001b[0m\n",
      "\u001b[?25hInstalling collected packages: es-core-news-sm\n",
      "Successfully installed es-core-news-sm-3.8.0\n",
      "\u001b[38;5;2m✔ Download and installation successful\u001b[0m\n",
      "You can now load the package via spacy.load('es_core_news_sm')\n",
      "Now using node v22.17.0 (npm v10.9.2)\n",
      "Collecting en-core-web-sm==3.8.0\n",
      "  Downloading https://github.com/explosion/spacy-models/releases/download/en_core_web_sm-3.8.0/en_core_web_sm-3.8.0-py3-none-any.whl (12.8 MB)\n",
      "\u001b[2K     \u001b[90m━━━━━━━━━━━━━━━━━━━━━━━━━━━━━━━━━━━━━━━━\u001b[0m \u001b[32m12.8/12.8 MB\u001b[0m \u001b[31m11.5 MB/s\u001b[0m  \u001b[33m0:00:01\u001b[0m eta \u001b[36m0:00:01\u001b[0m\n",
      "\u001b[?25hInstalling collected packages: en-core-web-sm\n",
      "Successfully installed en-core-web-sm-3.8.0\n",
      "\u001b[38;5;2m✔ Download and installation successful\u001b[0m\n",
      "You can now load the package via spacy.load('en_core_web_sm')\n"
     ]
    }
   ],
   "source": [
    "!python -m spacy download es_core_news_sm\n",
    "!python -m spacy download en_core_web_sm"
   ]
  },
  {
   "cell_type": "code",
   "execution_count": 37,
   "id": "treated-bubble",
   "metadata": {
    "executionInfo": {
     "elapsed": 3983,
     "status": "ok",
     "timestamp": 1695506872375,
     "user": {
      "displayName": "Ruben Manrique",
      "userId": "08867017342124303328"
     },
     "user_tz": 300
    },
    "id": "treated-bubble"
   },
   "outputs": [],
   "source": [
    "# Cargue los pipelines descargados\n",
    "nlp_spacy_es = spacy.load(\"es_core_news_sm\")\n",
    "nlp_spacy_en = spacy.load('en_core_web_sm')\n"
   ]
  },
  {
   "cell_type": "markdown",
   "id": "xOx2u00MS3ML",
   "metadata": {
    "id": "xOx2u00MS3ML"
   },
   "source": [
    "Los pipelines entrenados procesan el texto primero tokenizandolo, y luego normalmente aplican una secuencia de procesamiento que consiste en taggeo, lematización, parseo, e identificación de entidades.\n",
    "\n",
    "![Secuencia de procesamiento de texto de los pipelines](https://spacy.io/images/pipeline.svg)\n",
    "\n",
    "Se puede acceder a las etiquetas del texto mediante los atributos de los tokens."
   ]
  },
  {
   "cell_type": "markdown",
   "id": "AKZGWERjQI8Z",
   "metadata": {
    "id": "AKZGWERjQI8Z"
   },
   "source": [
    "## Tokenización\n",
    "\n",
    "Al pasar texto al pipeline cargado, obtenemos una secuencia de [Tokens](https://spacy.io/api/token) que nos dan acceso a diferentes etiquetas sobre el texto.\n",
    "\n",
    "Por medio del atributo text del objeto token, obtenemos la tokenización por palabras del texto."
   ]
  },
  {
   "cell_type": "code",
   "execution_count": 38,
   "id": "HURojG97TuKd",
   "metadata": {
    "colab": {
     "base_uri": "https://localhost:8080/"
    },
    "executionInfo": {
     "elapsed": 6,
     "status": "ok",
     "timestamp": 1695506872376,
     "user": {
      "displayName": "Ruben Manrique",
      "userId": "08867017342124303328"
     },
     "user_tz": 300
    },
    "id": "HURojG97TuKd",
    "outputId": "d6480937-3e1a-4e53-8f36-01a34155276f"
   },
   "outputs": [
    {
     "data": {
      "text/plain": [
       "['Human',\n",
       " 'machine',\n",
       " 'interface',\n",
       " 'for',\n",
       " 'lab',\n",
       " 'abc',\n",
       " 'computer',\n",
       " 'applications',\n",
       " '.',\n",
       " 'A']"
      ]
     },
     "execution_count": 38,
     "metadata": {},
     "output_type": "execute_result"
    }
   ],
   "source": [
    "doc_en = nlp_spacy_en('. '.join(text_corpus_en)) # Se unen el listado de frases con un punto y un espacio para simular un parrafo.\n",
    "\n",
    "words = []\n",
    "for token in doc_en:\n",
    "  words.append(token.text)\n",
    "\n",
    "words[:10]"
   ]
  },
  {
   "cell_type": "code",
   "execution_count": 39,
   "id": "kybVpyNPVFi9",
   "metadata": {
    "colab": {
     "base_uri": "https://localhost:8080/"
    },
    "executionInfo": {
     "elapsed": 3,
     "status": "ok",
     "timestamp": 1695506875253,
     "user": {
      "displayName": "Ruben Manrique",
      "userId": "08867017342124303328"
     },
     "user_tz": 300
    },
    "id": "kybVpyNPVFi9",
    "outputId": "e6d52739-8715-4824-a7c1-0a64046cf90d"
   },
   "outputs": [
    {
     "data": {
      "text/plain": [
       "['Colombia',\n",
       " ',',\n",
       " 'oficialmente',\n",
       " 'República',\n",
       " 'de',\n",
       " 'Colombia',\n",
       " ',',\n",
       " 'es',\n",
       " 'un',\n",
       " 'país']"
      ]
     },
     "execution_count": 39,
     "metadata": {},
     "output_type": "execute_result"
    }
   ],
   "source": [
    "doc_es = nlp_spacy_es('. '.join(text_corpus_es)) # Se unen el listado de frases con un punto y un espacio para simular un parrafo.\n",
    "\n",
    "words = []\n",
    "for token in doc_es:\n",
    "  words.append(token.text)\n",
    "\n",
    "words[:10]"
   ]
  },
  {
   "cell_type": "markdown",
   "id": "bhXN1XPxVO6t",
   "metadata": {
    "id": "bhXN1XPxVO6t"
   },
   "source": [
    "Para lograr una tokenización por oración, podemos acceder al atributo **sent** de cada token para obtener la oración a la cual pertenece el token."
   ]
  },
  {
   "cell_type": "code",
   "execution_count": 40,
   "id": "wFyqgcF9QNPh",
   "metadata": {
    "colab": {
     "base_uri": "https://localhost:8080/"
    },
    "executionInfo": {
     "elapsed": 199,
     "status": "ok",
     "timestamp": 1695506883415,
     "user": {
      "displayName": "Ruben Manrique",
      "userId": "08867017342124303328"
     },
     "user_tz": 300
    },
    "id": "wFyqgcF9QNPh",
    "outputId": "f8669352-5c36-4392-c969-c1acf416edc7"
   },
   "outputs": [
    {
     "data": {
      "text/plain": [
       "{Human machine interface for lab abc computer applications.,\n",
       " A survey of user opinion of computer system response time.,\n",
       " The EPS user interface management system.,\n",
       " System and human system engineering testing of EPS.,\n",
       " Relation of user perceived response time to error measurement.,\n",
       " The generation of random binary unordered trees.,\n",
       " The intersection graph of paths in trees.,\n",
       " Graph minors IV Widths of trees and well quasi ordering.,\n",
       " Graph minors A survey}"
      ]
     },
     "execution_count": 40,
     "metadata": {},
     "output_type": "execute_result"
    }
   ],
   "source": [
    "doc_en = nlp_spacy_en('. '.join(text_corpus_en)) # Se unen el listado de frases con un punto y un espacio para simular un parrafo.\n",
    "\n",
    "sentences = []\n",
    "for token in doc_en:\n",
    "  # Por cada token obten la oración a la que pertenece y se agrega al listado de oraciones\n",
    "  sentences.append(token.sent)\n",
    "# Se eliminan las repeticiones de las mismas oraciones\n",
    "set(sentences)"
   ]
  },
  {
   "cell_type": "code",
   "execution_count": 41,
   "id": "JbuwYfGHVl-5",
   "metadata": {
    "colab": {
     "base_uri": "https://localhost:8080/"
    },
    "executionInfo": {
     "elapsed": 299,
     "status": "ok",
     "timestamp": 1695506890018,
     "user": {
      "displayName": "Ruben Manrique",
      "userId": "08867017342124303328"
     },
     "user_tz": 300
    },
    "id": "JbuwYfGHVl-5",
    "outputId": "4412346f-7eab-4486-926f-f5fde314e18c"
   },
   "outputs": [
    {
     "data": {
      "text/plain": [
       "{Colombia, oficialmente República de Colombia, es un país soberano situado en la región noroccidental de América del Sur.,\n",
       " Es la única nación de América del Sur que tiene costas en el océano Pacífico y acceso al Atlántico a través del mar Caribe.,\n",
       " Es el vigesimoctavo país más poblado del mundo, con una población de 51 millones de habitantes.,\n",
       " La presencia humana en Colombia se remonta a más de 10.000 años.,\n",
       " Colombia tiene una economía diversificada y posee un importante componente de servicios.,\n",
       " Es la segunda nación más biodiversa del mundo, contando con 54871 especies registradas.,\n",
       " La denominación de Colombia proviene del apellido del explorador genovés del siglo XV Cristóbal Colón (en italiano: Cristoforo Colombo, en latín Christophorus Columbus).,\n",
       " El estudio de los primeros pobladores del territorio que hoy comprende la Nación se ha dividido en tres etapas de la época precolombina}"
      ]
     },
     "execution_count": 41,
     "metadata": {},
     "output_type": "execute_result"
    }
   ],
   "source": [
    "doc_es = nlp_spacy_es('. '.join(text_corpus_es)) # Se unen el listado de frases con un punto y un espacio para simular un parrafo.\n",
    "\n",
    "sentences = []\n",
    "for token in doc_es:\n",
    "  # Por cada token obten la oración a la que pertenece y se agrega al listado de oraciones\n",
    "  sentences.append(token.sent)\n",
    "# Se eliminan las repeticiones de las mismas oraciones\n",
    "set(sentences)"
   ]
  },
  {
   "cell_type": "markdown",
   "id": "KP4t7d3pWNkC",
   "metadata": {
    "id": "KP4t7d3pWNkC"
   },
   "source": [
    "## Eliminación de palabras de parada\n",
    "\n",
    "Cada Token posee un atributo llamado is_stop que nos indica si el token hace parte de las palabras de parada definidas para el lenguaje."
   ]
  },
  {
   "cell_type": "code",
   "execution_count": 42,
   "id": "IilO23mqWo_h",
   "metadata": {
    "colab": {
     "base_uri": "https://localhost:8080/"
    },
    "executionInfo": {
     "elapsed": 415,
     "status": "ok",
     "timestamp": 1695506894719,
     "user": {
      "displayName": "Ruben Manrique",
      "userId": "08867017342124303328"
     },
     "user_tz": 300
    },
    "id": "IilO23mqWo_h",
    "outputId": "77a4b9c9-6a3c-44c2-e9e8-a40a289d2dfd"
   },
   "outputs": [
    {
     "data": {
      "text/plain": [
       "['Human',\n",
       " 'machine',\n",
       " 'interface',\n",
       " 'lab',\n",
       " 'abc',\n",
       " 'computer',\n",
       " 'applications',\n",
       " '.',\n",
       " 'survey',\n",
       " 'user']"
      ]
     },
     "execution_count": 42,
     "metadata": {},
     "output_type": "execute_result"
    }
   ],
   "source": [
    "[token.text for token in doc_en if not token.is_stop][:10] # Solo se muestran las primeras 10 palabras del texto"
   ]
  },
  {
   "cell_type": "code",
   "execution_count": 43,
   "id": "aBgGLiRiXM7N",
   "metadata": {
    "colab": {
     "base_uri": "https://localhost:8080/"
    },
    "executionInfo": {
     "elapsed": 211,
     "status": "ok",
     "timestamp": 1695506898955,
     "user": {
      "displayName": "Ruben Manrique",
      "userId": "08867017342124303328"
     },
     "user_tz": 300
    },
    "id": "aBgGLiRiXM7N",
    "outputId": "42d42f11-29ed-42a5-ca98-7e2f7ca85063"
   },
   "outputs": [
    {
     "data": {
      "text/plain": [
       "['Colombia',\n",
       " ',',\n",
       " 'oficialmente',\n",
       " 'República',\n",
       " 'Colombia',\n",
       " ',',\n",
       " 'país',\n",
       " 'soberano',\n",
       " 'situado',\n",
       " 'región']"
      ]
     },
     "execution_count": 43,
     "metadata": {},
     "output_type": "execute_result"
    }
   ],
   "source": [
    "[token.text for token in doc_es if not token.is_stop][:10] # Solo se muestran las primeras 10 palabras del texto"
   ]
  },
  {
   "cell_type": "markdown",
   "id": "eOfXG9FBXQ4Q",
   "metadata": {
    "id": "eOfXG9FBXQ4Q"
   },
   "source": [
    "Adicionalmente, se pueden eliminar los tokens que perteneces a signos de puntuación."
   ]
  },
  {
   "cell_type": "code",
   "execution_count": 44,
   "id": "JHzosd6YXXeV",
   "metadata": {
    "colab": {
     "base_uri": "https://localhost:8080/"
    },
    "executionInfo": {
     "elapsed": 313,
     "status": "ok",
     "timestamp": 1695506900948,
     "user": {
      "displayName": "Ruben Manrique",
      "userId": "08867017342124303328"
     },
     "user_tz": 300
    },
    "id": "JHzosd6YXXeV",
    "outputId": "6d1c52b9-7160-43e0-beab-ae0bad578da9"
   },
   "outputs": [
    {
     "data": {
      "text/plain": [
       "['Human',\n",
       " 'machine',\n",
       " 'interface',\n",
       " 'lab',\n",
       " 'abc',\n",
       " 'computer',\n",
       " 'applications',\n",
       " 'survey',\n",
       " 'user',\n",
       " 'opinion']"
      ]
     },
     "execution_count": 44,
     "metadata": {},
     "output_type": "execute_result"
    }
   ],
   "source": [
    "[token.text for token in doc_en if not token.is_stop and not token.is_punct][:10] # Solo se muestran las primeras 10 palabras del texto"
   ]
  },
  {
   "cell_type": "code",
   "execution_count": 45,
   "id": "BPQmZjNRXfSS",
   "metadata": {
    "colab": {
     "base_uri": "https://localhost:8080/"
    },
    "executionInfo": {
     "elapsed": 5,
     "status": "ok",
     "timestamp": 1695506901757,
     "user": {
      "displayName": "Ruben Manrique",
      "userId": "08867017342124303328"
     },
     "user_tz": 300
    },
    "id": "BPQmZjNRXfSS",
    "outputId": "7761d4cb-a342-48ef-d1c0-7961b0cc1b5a"
   },
   "outputs": [
    {
     "data": {
      "text/plain": [
       "['Colombia',\n",
       " 'oficialmente',\n",
       " 'República',\n",
       " 'Colombia',\n",
       " 'país',\n",
       " 'soberano',\n",
       " 'situado',\n",
       " 'región',\n",
       " 'noroccidental',\n",
       " 'América']"
      ]
     },
     "execution_count": 45,
     "metadata": {},
     "output_type": "execute_result"
    }
   ],
   "source": [
    "[token.text for token in doc_es if not token.is_stop and not token.is_punct][:10] # Solo se muestran las primeras 10 palabras del texto"
   ]
  },
  {
   "cell_type": "markdown",
   "id": "7ZKBeLXVXyOi",
   "metadata": {
    "id": "7ZKBeLXVXyOi"
   },
   "source": [
    "## Lematización\n",
    "\n",
    "Para acceder al lema de cada palabra podemos usar el atributo **lemma_** de cada token."
   ]
  },
  {
   "cell_type": "code",
   "execution_count": 46,
   "id": "gross-saying",
   "metadata": {
    "colab": {
     "base_uri": "https://localhost:8080/"
    },
    "executionInfo": {
     "elapsed": 203,
     "status": "ok",
     "timestamp": 1695506904322,
     "user": {
      "displayName": "Ruben Manrique",
      "userId": "08867017342124303328"
     },
     "user_tz": 300
    },
    "id": "gross-saying",
    "outputId": "62ee0728-6c53-4d52-886e-ece24171266d"
   },
   "outputs": [
    {
     "data": {
      "text/plain": [
       "['human',\n",
       " 'machine',\n",
       " 'interface',\n",
       " 'lab',\n",
       " 'abc',\n",
       " 'computer',\n",
       " 'application',\n",
       " 'survey',\n",
       " 'user',\n",
       " 'opinion']"
      ]
     },
     "execution_count": 46,
     "metadata": {},
     "output_type": "execute_result"
    }
   ],
   "source": [
    "[token.lemma_ for token in doc_en if not token.is_stop and not token.is_punct][:10] # Solo se muestran las primeras 10 palabras del texto\n"
   ]
  },
  {
   "cell_type": "code",
   "execution_count": 47,
   "id": "expensive-devon",
   "metadata": {
    "colab": {
     "base_uri": "https://localhost:8080/"
    },
    "executionInfo": {
     "elapsed": 312,
     "status": "ok",
     "timestamp": 1695506906384,
     "user": {
      "displayName": "Ruben Manrique",
      "userId": "08867017342124303328"
     },
     "user_tz": 300
    },
    "id": "expensive-devon",
    "outputId": "5e08e7f4-4aa0-4af3-b6d8-6ab6eda591d9"
   },
   "outputs": [
    {
     "data": {
      "text/plain": [
       "['Colombia',\n",
       " 'oficialmente',\n",
       " 'República',\n",
       " 'Colombia',\n",
       " 'país',\n",
       " 'soberano',\n",
       " 'situado',\n",
       " 'región',\n",
       " 'noroccidental',\n",
       " 'América']"
      ]
     },
     "execution_count": 47,
     "metadata": {},
     "output_type": "execute_result"
    }
   ],
   "source": [
    "[token.lemma_ for token in doc_es if not token.is_stop and not token.is_punct][:10] # Solo se muestran las primeras 10 palabras del texto"
   ]
  },
  {
   "cell_type": "markdown",
   "id": "EAEIiKDgxs-k",
   "metadata": {
    "id": "EAEIiKDgxs-k"
   },
   "source": [
    "# Pueden crear sus propias funciones personalizadas al problema\n",
    "\n",
    "Para problemas específicos se puede cambiar o extender la funcionalidad de las librerías vistas, o también se puede crear una secuencia de procesamiento desde cero según las necesidades que se tengan."
   ]
  },
  {
   "cell_type": "code",
   "execution_count": 50,
   "id": "baking-intersection",
   "metadata": {
    "executionInfo": {
     "elapsed": 209,
     "status": "ok",
     "timestamp": 1695506914413,
     "user": {
      "displayName": "Ruben Manrique",
      "userId": "08867017342124303328"
     },
     "user_tz": 300
    },
    "id": "baking-intersection"
   },
   "outputs": [],
   "source": [
    "'''\n",
    "* processing_text: Toma un texto de entrada y devuelve un texto procesado\n",
    "* @param texto str\n",
    "* @return processed_feature str\n",
    "'''\n",
    "import re\n",
    "def processing_text(texto):\n",
    "    # Paso 1: Remover con un expresión regular carateres especiales (no palabras).\n",
    "    processed_feature = re.sub(r'\\W', ' ', str(texto))\n",
    "    # Paso 2: Remover ocurrencias de caracteres individuales\n",
    "    processed_feature= re.sub(r'\\s+[a-zA-Z]\\s+', ' ', processed_feature)\n",
    "    processed_feature = re.sub(r'\\^[a-zA-Z]\\s+', ' ', processed_feature)\n",
    "    # Paso 3: Remover números (Ocurrencias muy esporádicas en nuestro dataset)\n",
    "    processed_feature = re.sub(r'[0-9]+', ' ', processed_feature)\n",
    "    # Paso 4: Simplificar espacios concecutivos a un único espacio entre palabras\n",
    "    processed_feature = re.sub(' +', ' ', processed_feature)\n",
    "    # Paso 5: Pasar todo el texto a minúsculas\n",
    "    processed_feature = processed_feature.lower()\n",
    "    # Paso 6: Aplicar stemming. Es una forma de enviar las palabras a una raiz común simplificando de esta manera el vocabulario.\n",
    "    #         por ejemplo las palabras (absurdo, absurdos) que estan en el review 2895 seran llevados a la raiz común \"absurd\"\n",
    "    #         y de esta forma se evita tener dos palabras diferentes con el mismo significado en nuestro vocabulario.\n",
    "    processed_feature = \" \".join([stemmer_es.stem(i) for i in processed_feature.split()])\n",
    "\n",
    "\n",
    "    return processed_feature"
   ]
  },
  {
   "cell_type": "code",
   "execution_count": 51,
   "id": "7KOpY5ORyTGR",
   "metadata": {
    "colab": {
     "base_uri": "https://localhost:8080/"
    },
    "executionInfo": {
     "elapsed": 3,
     "status": "ok",
     "timestamp": 1695506916616,
     "user": {
      "displayName": "Ruben Manrique",
      "userId": "08867017342124303328"
     },
     "user_tz": 300
    },
    "id": "7KOpY5ORyTGR",
    "outputId": "cc4d6f04-b70d-437b-dbe3-94be1cd7f796"
   },
   "outputs": [
    {
     "name": "stdout",
     "output_type": "stream",
     "text": [
      "Sin procesar:\n",
      "Colombia, oficialmente República de Colombia, es un país soberano situado en la región noroccidental de América del Sur\n",
      "---------------------------------\n",
      "Procesado:\n",
      "colombi oficial republ de colombi es un pais soberan situ en la region noroccidental de amer del sur\n"
     ]
    }
   ],
   "source": [
    "print(\"Sin procesar:\")\n",
    "print(text_corpus_es[0])\n",
    "print(\"---------------------------------\")\n",
    "print(\"Procesado:\")\n",
    "print(processing_text(text_corpus_es[0]))"
   ]
  },
  {
   "cell_type": "markdown",
   "id": "BB9-bo_P8_AF",
   "metadata": {
    "id": "BB9-bo_P8_AF"
   },
   "source": [
    "# Conclusiones\n",
    "\n",
    "Hay una amplia oferta de opciones que nos permiten aplicar técnicas de procesamiento de texto. Debemos escoger la librería que mejor se adecúe a la situación particular a la que nos enfrentemos, entiendiendo que cada una de ellas tienen ventajas y desventajas frente a la eficiencia de los algoritmos implementados, facilidad de uso, configuración y extensión de las funciones y métodos que proveen, entre otros."
   ]
  }
 ],
 "metadata": {
  "colab": {
   "collapsed_sections": [
    "greek-colonial",
    "forty-fairy",
    "prepared-classroom"
   ],
   "provenance": [],
   "toc_visible": true
  },
  "kernelspec": {
   "display_name": ".venv",
   "language": "python",
   "name": "python3"
  },
  "language_info": {
   "codemirror_mode": {
    "name": "ipython",
    "version": 3
   },
   "file_extension": ".py",
   "mimetype": "text/x-python",
   "name": "python",
   "nbconvert_exporter": "python",
   "pygments_lexer": "ipython3",
   "version": "3.10.12"
  },
  "widgets": {
   "application/vnd.jupyter.widget-state+json": {
    "00cf290a8bd0498381f299a22f90596c": {
     "model_module": "@jupyter-widgets/controls",
     "model_module_version": "1.5.0",
     "model_name": "HTMLModel",
     "state": {
      "_dom_classes": [],
      "_model_module": "@jupyter-widgets/controls",
      "_model_module_version": "1.5.0",
      "_model_name": "HTMLModel",
      "_view_count": null,
      "_view_module": "@jupyter-widgets/controls",
      "_view_module_version": "1.5.0",
      "_view_name": "HTMLView",
      "description": "",
      "description_tooltip": null,
      "layout": "IPY_MODEL_9d17ba2f72bc48c18d46085a4d4774c1",
      "placeholder": "​",
      "style": "IPY_MODEL_777bb298a10e47f9b8fefe320c0b8aea",
      "value": " 4.61M/4.61M [00:00&lt;00:00, 2.53MB/s]"
     }
    },
    "00dd5a1bd13c4e44975e797e5cc14137": {
     "model_module": "@jupyter-widgets/controls",
     "model_module_version": "1.5.0",
     "model_name": "HTMLModel",
     "state": {
      "_dom_classes": [],
      "_model_module": "@jupyter-widgets/controls",
      "_model_module_version": "1.5.0",
      "_model_name": "HTMLModel",
      "_view_count": null,
      "_view_module": "@jupyter-widgets/controls",
      "_view_module_version": "1.5.0",
      "_view_name": "HTMLView",
      "description": "",
      "description_tooltip": null,
      "layout": "IPY_MODEL_86cea9da41974e31af9d59905cc8f85a",
      "placeholder": "​",
      "style": "IPY_MODEL_363509da3e5445a6a7a8fe5f3258aad0",
      "value": "Downloading https://raw.githubusercontent.com/stanfordnlp/stanza-resources/main/resources_1.5.1.json: "
     }
    },
    "01587186361d4afbadb036795b179c94": {
     "model_module": "@jupyter-widgets/base",
     "model_module_version": "1.2.0",
     "model_name": "LayoutModel",
     "state": {
      "_model_module": "@jupyter-widgets/base",
      "_model_module_version": "1.2.0",
      "_model_name": "LayoutModel",
      "_view_count": null,
      "_view_module": "@jupyter-widgets/base",
      "_view_module_version": "1.2.0",
      "_view_name": "LayoutView",
      "align_content": null,
      "align_items": null,
      "align_self": null,
      "border": null,
      "bottom": null,
      "display": null,
      "flex": null,
      "flex_flow": null,
      "grid_area": null,
      "grid_auto_columns": null,
      "grid_auto_flow": null,
      "grid_auto_rows": null,
      "grid_column": null,
      "grid_gap": null,
      "grid_row": null,
      "grid_template_areas": null,
      "grid_template_columns": null,
      "grid_template_rows": null,
      "height": null,
      "justify_content": null,
      "justify_items": null,
      "left": null,
      "margin": null,
      "max_height": null,
      "max_width": null,
      "min_height": null,
      "min_width": null,
      "object_fit": null,
      "object_position": null,
      "order": null,
      "overflow": null,
      "overflow_x": null,
      "overflow_y": null,
      "padding": null,
      "right": null,
      "top": null,
      "visibility": null,
      "width": null
     }
    },
    "063417680e4a47b997a52863126d6117": {
     "model_module": "@jupyter-widgets/base",
     "model_module_version": "1.2.0",
     "model_name": "LayoutModel",
     "state": {
      "_model_module": "@jupyter-widgets/base",
      "_model_module_version": "1.2.0",
      "_model_name": "LayoutModel",
      "_view_count": null,
      "_view_module": "@jupyter-widgets/base",
      "_view_module_version": "1.2.0",
      "_view_name": "LayoutView",
      "align_content": null,
      "align_items": null,
      "align_self": null,
      "border": null,
      "bottom": null,
      "display": null,
      "flex": null,
      "flex_flow": null,
      "grid_area": null,
      "grid_auto_columns": null,
      "grid_auto_flow": null,
      "grid_auto_rows": null,
      "grid_column": null,
      "grid_gap": null,
      "grid_row": null,
      "grid_template_areas": null,
      "grid_template_columns": null,
      "grid_template_rows": null,
      "height": null,
      "justify_content": null,
      "justify_items": null,
      "left": null,
      "margin": null,
      "max_height": null,
      "max_width": null,
      "min_height": null,
      "min_width": null,
      "object_fit": null,
      "object_position": null,
      "order": null,
      "overflow": null,
      "overflow_x": null,
      "overflow_y": null,
      "padding": null,
      "right": null,
      "top": null,
      "visibility": null,
      "width": null
     }
    },
    "080b2d6fde184cecb0141e04bfa33965": {
     "model_module": "@jupyter-widgets/controls",
     "model_module_version": "1.5.0",
     "model_name": "HBoxModel",
     "state": {
      "_dom_classes": [],
      "_model_module": "@jupyter-widgets/controls",
      "_model_module_version": "1.5.0",
      "_model_name": "HBoxModel",
      "_view_count": null,
      "_view_module": "@jupyter-widgets/controls",
      "_view_module_version": "1.5.0",
      "_view_name": "HBoxView",
      "box_style": "",
      "children": [
       "IPY_MODEL_5e427a66a08b4ab8b5ec2f2b8595cb7d",
       "IPY_MODEL_b8f69450aabe40c08a7cd2c8e766fe99",
       "IPY_MODEL_266729b61af244198a2818126645f11c"
      ],
      "layout": "IPY_MODEL_063417680e4a47b997a52863126d6117"
     }
    },
    "0aee3d69e7c1423eabff4c55927b6f4a": {
     "model_module": "@jupyter-widgets/controls",
     "model_module_version": "1.5.0",
     "model_name": "HTMLModel",
     "state": {
      "_dom_classes": [],
      "_model_module": "@jupyter-widgets/controls",
      "_model_module_version": "1.5.0",
      "_model_name": "HTMLModel",
      "_view_count": null,
      "_view_module": "@jupyter-widgets/controls",
      "_view_module_version": "1.5.0",
      "_view_name": "HTMLView",
      "description": "",
      "description_tooltip": null,
      "layout": "IPY_MODEL_4134fdd4a3514d0282ba8f4fe5e7b0f4",
      "placeholder": "​",
      "style": "IPY_MODEL_2f81165f175c4d96aaf02ca47faa0004",
      "value": " 601k/601k [00:00&lt;00:00, 2.52MB/s]"
     }
    },
    "0b2328f6714644158968a91bbb878207": {
     "model_module": "@jupyter-widgets/base",
     "model_module_version": "1.2.0",
     "model_name": "LayoutModel",
     "state": {
      "_model_module": "@jupyter-widgets/base",
      "_model_module_version": "1.2.0",
      "_model_name": "LayoutModel",
      "_view_count": null,
      "_view_module": "@jupyter-widgets/base",
      "_view_module_version": "1.2.0",
      "_view_name": "LayoutView",
      "align_content": null,
      "align_items": null,
      "align_self": null,
      "border": null,
      "bottom": null,
      "display": null,
      "flex": null,
      "flex_flow": null,
      "grid_area": null,
      "grid_auto_columns": null,
      "grid_auto_flow": null,
      "grid_auto_rows": null,
      "grid_column": null,
      "grid_gap": null,
      "grid_row": null,
      "grid_template_areas": null,
      "grid_template_columns": null,
      "grid_template_rows": null,
      "height": null,
      "justify_content": null,
      "justify_items": null,
      "left": null,
      "margin": null,
      "max_height": null,
      "max_width": null,
      "min_height": null,
      "min_width": null,
      "object_fit": null,
      "object_position": null,
      "order": null,
      "overflow": null,
      "overflow_x": null,
      "overflow_y": null,
      "padding": null,
      "right": null,
      "top": null,
      "visibility": null,
      "width": null
     }
    },
    "0debc7a8384a46e0be3e786804425c6d": {
     "model_module": "@jupyter-widgets/controls",
     "model_module_version": "1.5.0",
     "model_name": "HBoxModel",
     "state": {
      "_dom_classes": [],
      "_model_module": "@jupyter-widgets/controls",
      "_model_module_version": "1.5.0",
      "_model_name": "HBoxModel",
      "_view_count": null,
      "_view_module": "@jupyter-widgets/controls",
      "_view_module_version": "1.5.0",
      "_view_name": "HBoxView",
      "box_style": "",
      "children": [
       "IPY_MODEL_b637d4c55f2048a98a4e3d4fb7f59e37",
       "IPY_MODEL_ac56b9054df44483b413ff629f6ac93e",
       "IPY_MODEL_fed3f1a360034eb6ad2abf80bd159b86"
      ],
      "layout": "IPY_MODEL_aa12e97a8caa4fa0a493a097c3603219"
     }
    },
    "119de211718445cd97c1c173f2c62051": {
     "model_module": "@jupyter-widgets/controls",
     "model_module_version": "1.5.0",
     "model_name": "HBoxModel",
     "state": {
      "_dom_classes": [],
      "_model_module": "@jupyter-widgets/controls",
      "_model_module_version": "1.5.0",
      "_model_name": "HBoxModel",
      "_view_count": null,
      "_view_module": "@jupyter-widgets/controls",
      "_view_module_version": "1.5.0",
      "_view_name": "HBoxView",
      "box_style": "",
      "children": [
       "IPY_MODEL_fbfea7d681a0496da7a380a3c54de8a6",
       "IPY_MODEL_163576e6e43b464e919a6b49627db143",
       "IPY_MODEL_00cf290a8bd0498381f299a22f90596c"
      ],
      "layout": "IPY_MODEL_4e67766af19742d291c920953e7ef07e"
     }
    },
    "163576e6e43b464e919a6b49627db143": {
     "model_module": "@jupyter-widgets/controls",
     "model_module_version": "1.5.0",
     "model_name": "FloatProgressModel",
     "state": {
      "_dom_classes": [],
      "_model_module": "@jupyter-widgets/controls",
      "_model_module_version": "1.5.0",
      "_model_name": "FloatProgressModel",
      "_view_count": null,
      "_view_module": "@jupyter-widgets/controls",
      "_view_module_version": "1.5.0",
      "_view_name": "ProgressView",
      "bar_style": "success",
      "description": "",
      "description_tooltip": null,
      "layout": "IPY_MODEL_0b2328f6714644158968a91bbb878207",
      "max": 4610084,
      "min": 0,
      "orientation": "horizontal",
      "style": "IPY_MODEL_6bb2555d6ea5456184e8712c83f840e0",
      "value": 4610084
     }
    },
    "16a102d92f8642bb8b0747dae1e3e502": {
     "model_module": "@jupyter-widgets/base",
     "model_module_version": "1.2.0",
     "model_name": "LayoutModel",
     "state": {
      "_model_module": "@jupyter-widgets/base",
      "_model_module_version": "1.2.0",
      "_model_name": "LayoutModel",
      "_view_count": null,
      "_view_module": "@jupyter-widgets/base",
      "_view_module_version": "1.2.0",
      "_view_name": "LayoutView",
      "align_content": null,
      "align_items": null,
      "align_self": null,
      "border": null,
      "bottom": null,
      "display": null,
      "flex": null,
      "flex_flow": null,
      "grid_area": null,
      "grid_auto_columns": null,
      "grid_auto_flow": null,
      "grid_auto_rows": null,
      "grid_column": null,
      "grid_gap": null,
      "grid_row": null,
      "grid_template_areas": null,
      "grid_template_columns": null,
      "grid_template_rows": null,
      "height": null,
      "justify_content": null,
      "justify_items": null,
      "left": null,
      "margin": null,
      "max_height": null,
      "max_width": null,
      "min_height": null,
      "min_width": null,
      "object_fit": null,
      "object_position": null,
      "order": null,
      "overflow": null,
      "overflow_x": null,
      "overflow_y": null,
      "padding": null,
      "right": null,
      "top": null,
      "visibility": null,
      "width": null
     }
    },
    "188ece411cc340c79cb9340e55aa9cbc": {
     "model_module": "@jupyter-widgets/controls",
     "model_module_version": "1.5.0",
     "model_name": "DescriptionStyleModel",
     "state": {
      "_model_module": "@jupyter-widgets/controls",
      "_model_module_version": "1.5.0",
      "_model_name": "DescriptionStyleModel",
      "_view_count": null,
      "_view_module": "@jupyter-widgets/base",
      "_view_module_version": "1.2.0",
      "_view_name": "StyleView",
      "description_width": ""
     }
    },
    "19c43163d2bd4a73abbdab407930fdb4": {
     "model_module": "@jupyter-widgets/controls",
     "model_module_version": "1.5.0",
     "model_name": "ProgressStyleModel",
     "state": {
      "_model_module": "@jupyter-widgets/controls",
      "_model_module_version": "1.5.0",
      "_model_name": "ProgressStyleModel",
      "_view_count": null,
      "_view_module": "@jupyter-widgets/base",
      "_view_module_version": "1.2.0",
      "_view_name": "StyleView",
      "bar_color": null,
      "description_width": ""
     }
    },
    "1e7117c583be4f1c9c32aace86a597ac": {
     "model_module": "@jupyter-widgets/controls",
     "model_module_version": "1.5.0",
     "model_name": "ProgressStyleModel",
     "state": {
      "_model_module": "@jupyter-widgets/controls",
      "_model_module_version": "1.5.0",
      "_model_name": "ProgressStyleModel",
      "_view_count": null,
      "_view_module": "@jupyter-widgets/base",
      "_view_module_version": "1.2.0",
      "_view_name": "StyleView",
      "bar_color": null,
      "description_width": ""
     }
    },
    "1f80fad952854d208aa9b7c8a07fdf3c": {
     "model_module": "@jupyter-widgets/controls",
     "model_module_version": "1.5.0",
     "model_name": "DescriptionStyleModel",
     "state": {
      "_model_module": "@jupyter-widgets/controls",
      "_model_module_version": "1.5.0",
      "_model_name": "DescriptionStyleModel",
      "_view_count": null,
      "_view_module": "@jupyter-widgets/base",
      "_view_module_version": "1.2.0",
      "_view_name": "StyleView",
      "description_width": ""
     }
    },
    "240f9bb09b4244bcb8a8b9460f563d5a": {
     "model_module": "@jupyter-widgets/base",
     "model_module_version": "1.2.0",
     "model_name": "LayoutModel",
     "state": {
      "_model_module": "@jupyter-widgets/base",
      "_model_module_version": "1.2.0",
      "_model_name": "LayoutModel",
      "_view_count": null,
      "_view_module": "@jupyter-widgets/base",
      "_view_module_version": "1.2.0",
      "_view_name": "LayoutView",
      "align_content": null,
      "align_items": null,
      "align_self": null,
      "border": null,
      "bottom": null,
      "display": null,
      "flex": null,
      "flex_flow": null,
      "grid_area": null,
      "grid_auto_columns": null,
      "grid_auto_flow": null,
      "grid_auto_rows": null,
      "grid_column": null,
      "grid_gap": null,
      "grid_row": null,
      "grid_template_areas": null,
      "grid_template_columns": null,
      "grid_template_rows": null,
      "height": null,
      "justify_content": null,
      "justify_items": null,
      "left": null,
      "margin": null,
      "max_height": null,
      "max_width": null,
      "min_height": null,
      "min_width": null,
      "object_fit": null,
      "object_position": null,
      "order": null,
      "overflow": null,
      "overflow_x": null,
      "overflow_y": null,
      "padding": null,
      "right": null,
      "top": null,
      "visibility": null,
      "width": null
     }
    },
    "266729b61af244198a2818126645f11c": {
     "model_module": "@jupyter-widgets/controls",
     "model_module_version": "1.5.0",
     "model_name": "HTMLModel",
     "state": {
      "_dom_classes": [],
      "_model_module": "@jupyter-widgets/controls",
      "_model_module_version": "1.5.0",
      "_model_name": "HTMLModel",
      "_view_count": null,
      "_view_module": "@jupyter-widgets/controls",
      "_view_module_version": "1.5.0",
      "_view_name": "HTMLView",
      "description": "",
      "description_tooltip": null,
      "layout": "IPY_MODEL_bbf9fd67a31a45beb34ab79bfb6e4d1a",
      "placeholder": "​",
      "style": "IPY_MODEL_1f80fad952854d208aa9b7c8a07fdf3c",
      "value": " 4.24M/4.24M [00:00&lt;00:00, 13.6MB/s]"
     }
    },
    "28e9c95ddb9a4eeabce73da6b4b6a34b": {
     "model_module": "@jupyter-widgets/base",
     "model_module_version": "1.2.0",
     "model_name": "LayoutModel",
     "state": {
      "_model_module": "@jupyter-widgets/base",
      "_model_module_version": "1.2.0",
      "_model_name": "LayoutModel",
      "_view_count": null,
      "_view_module": "@jupyter-widgets/base",
      "_view_module_version": "1.2.0",
      "_view_name": "LayoutView",
      "align_content": null,
      "align_items": null,
      "align_self": null,
      "border": null,
      "bottom": null,
      "display": null,
      "flex": null,
      "flex_flow": null,
      "grid_area": null,
      "grid_auto_columns": null,
      "grid_auto_flow": null,
      "grid_auto_rows": null,
      "grid_column": null,
      "grid_gap": null,
      "grid_row": null,
      "grid_template_areas": null,
      "grid_template_columns": null,
      "grid_template_rows": null,
      "height": null,
      "justify_content": null,
      "justify_items": null,
      "left": null,
      "margin": null,
      "max_height": null,
      "max_width": null,
      "min_height": null,
      "min_width": null,
      "object_fit": null,
      "object_position": null,
      "order": null,
      "overflow": null,
      "overflow_x": null,
      "overflow_y": null,
      "padding": null,
      "right": null,
      "top": null,
      "visibility": null,
      "width": null
     }
    },
    "2d103866bc1d440981c038f3feb243a1": {
     "model_module": "@jupyter-widgets/controls",
     "model_module_version": "1.5.0",
     "model_name": "DescriptionStyleModel",
     "state": {
      "_model_module": "@jupyter-widgets/controls",
      "_model_module_version": "1.5.0",
      "_model_name": "DescriptionStyleModel",
      "_view_count": null,
      "_view_module": "@jupyter-widgets/base",
      "_view_module_version": "1.2.0",
      "_view_name": "StyleView",
      "description_width": ""
     }
    },
    "2f152116f8e247f0b3889b0109ffaf85": {
     "model_module": "@jupyter-widgets/controls",
     "model_module_version": "1.5.0",
     "model_name": "HBoxModel",
     "state": {
      "_dom_classes": [],
      "_model_module": "@jupyter-widgets/controls",
      "_model_module_version": "1.5.0",
      "_model_name": "HBoxModel",
      "_view_count": null,
      "_view_module": "@jupyter-widgets/controls",
      "_view_module_version": "1.5.0",
      "_view_name": "HBoxView",
      "box_style": "",
      "children": [
       "IPY_MODEL_fd4874ed27c14aa8aecc37e8a6240e91",
       "IPY_MODEL_a9446c52a0bf42d5b0c4b5605796f800",
       "IPY_MODEL_b447db10c53245e8a845278fba14d1db"
      ],
      "layout": "IPY_MODEL_544112bcb842457589b1f163c613355c"
     }
    },
    "2f81165f175c4d96aaf02ca47faa0004": {
     "model_module": "@jupyter-widgets/controls",
     "model_module_version": "1.5.0",
     "model_name": "DescriptionStyleModel",
     "state": {
      "_model_module": "@jupyter-widgets/controls",
      "_model_module_version": "1.5.0",
      "_model_name": "DescriptionStyleModel",
      "_view_count": null,
      "_view_module": "@jupyter-widgets/base",
      "_view_module_version": "1.2.0",
      "_view_name": "StyleView",
      "description_width": ""
     }
    },
    "329f78bbb600467cbf1448826f4e5b37": {
     "model_module": "@jupyter-widgets/base",
     "model_module_version": "1.2.0",
     "model_name": "LayoutModel",
     "state": {
      "_model_module": "@jupyter-widgets/base",
      "_model_module_version": "1.2.0",
      "_model_name": "LayoutModel",
      "_view_count": null,
      "_view_module": "@jupyter-widgets/base",
      "_view_module_version": "1.2.0",
      "_view_name": "LayoutView",
      "align_content": null,
      "align_items": null,
      "align_self": null,
      "border": null,
      "bottom": null,
      "display": null,
      "flex": null,
      "flex_flow": null,
      "grid_area": null,
      "grid_auto_columns": null,
      "grid_auto_flow": null,
      "grid_auto_rows": null,
      "grid_column": null,
      "grid_gap": null,
      "grid_row": null,
      "grid_template_areas": null,
      "grid_template_columns": null,
      "grid_template_rows": null,
      "height": null,
      "justify_content": null,
      "justify_items": null,
      "left": null,
      "margin": null,
      "max_height": null,
      "max_width": null,
      "min_height": null,
      "min_width": null,
      "object_fit": null,
      "object_position": null,
      "order": null,
      "overflow": null,
      "overflow_x": null,
      "overflow_y": null,
      "padding": null,
      "right": null,
      "top": null,
      "visibility": null,
      "width": null
     }
    },
    "363509da3e5445a6a7a8fe5f3258aad0": {
     "model_module": "@jupyter-widgets/controls",
     "model_module_version": "1.5.0",
     "model_name": "DescriptionStyleModel",
     "state": {
      "_model_module": "@jupyter-widgets/controls",
      "_model_module_version": "1.5.0",
      "_model_name": "DescriptionStyleModel",
      "_view_count": null,
      "_view_module": "@jupyter-widgets/base",
      "_view_module_version": "1.2.0",
      "_view_name": "StyleView",
      "description_width": ""
     }
    },
    "38429b8ce496404fa6c5027fd5e42410": {
     "model_module": "@jupyter-widgets/controls",
     "model_module_version": "1.5.0",
     "model_name": "HTMLModel",
     "state": {
      "_dom_classes": [],
      "_model_module": "@jupyter-widgets/controls",
      "_model_module_version": "1.5.0",
      "_model_name": "HTMLModel",
      "_view_count": null,
      "_view_module": "@jupyter-widgets/controls",
      "_view_module_version": "1.5.0",
      "_view_name": "HTMLView",
      "description": "",
      "description_tooltip": null,
      "layout": "IPY_MODEL_d7610fc163eb4f72b41e824a91e3bf20",
      "placeholder": "​",
      "style": "IPY_MODEL_4ceeec9f7a3543f7b9b691f861f873d8",
      "value": "Downloading https://huggingface.co/stanfordnlp/stanza-en/resolve/v1.5.1/models/tokenize/combined.pt: 100%"
     }
    },
    "3abfeacf4958442ab7964f6c5527a044": {
     "model_module": "@jupyter-widgets/controls",
     "model_module_version": "1.5.0",
     "model_name": "DescriptionStyleModel",
     "state": {
      "_model_module": "@jupyter-widgets/controls",
      "_model_module_version": "1.5.0",
      "_model_name": "DescriptionStyleModel",
      "_view_count": null,
      "_view_module": "@jupyter-widgets/base",
      "_view_module_version": "1.2.0",
      "_view_name": "StyleView",
      "description_width": ""
     }
    },
    "3e18750bcc8745bd86736e09980b1711": {
     "model_module": "@jupyter-widgets/controls",
     "model_module_version": "1.5.0",
     "model_name": "DescriptionStyleModel",
     "state": {
      "_model_module": "@jupyter-widgets/controls",
      "_model_module_version": "1.5.0",
      "_model_name": "DescriptionStyleModel",
      "_view_count": null,
      "_view_module": "@jupyter-widgets/base",
      "_view_module_version": "1.2.0",
      "_view_name": "StyleView",
      "description_width": ""
     }
    },
    "4134fdd4a3514d0282ba8f4fe5e7b0f4": {
     "model_module": "@jupyter-widgets/base",
     "model_module_version": "1.2.0",
     "model_name": "LayoutModel",
     "state": {
      "_model_module": "@jupyter-widgets/base",
      "_model_module_version": "1.2.0",
      "_model_name": "LayoutModel",
      "_view_count": null,
      "_view_module": "@jupyter-widgets/base",
      "_view_module_version": "1.2.0",
      "_view_name": "LayoutView",
      "align_content": null,
      "align_items": null,
      "align_self": null,
      "border": null,
      "bottom": null,
      "display": null,
      "flex": null,
      "flex_flow": null,
      "grid_area": null,
      "grid_auto_columns": null,
      "grid_auto_flow": null,
      "grid_auto_rows": null,
      "grid_column": null,
      "grid_gap": null,
      "grid_row": null,
      "grid_template_areas": null,
      "grid_template_columns": null,
      "grid_template_rows": null,
      "height": null,
      "justify_content": null,
      "justify_items": null,
      "left": null,
      "margin": null,
      "max_height": null,
      "max_width": null,
      "min_height": null,
      "min_width": null,
      "object_fit": null,
      "object_position": null,
      "order": null,
      "overflow": null,
      "overflow_x": null,
      "overflow_y": null,
      "padding": null,
      "right": null,
      "top": null,
      "visibility": null,
      "width": null
     }
    },
    "47820c1053a74c48997bff9a5bf72b7f": {
     "model_module": "@jupyter-widgets/controls",
     "model_module_version": "1.5.0",
     "model_name": "DescriptionStyleModel",
     "state": {
      "_model_module": "@jupyter-widgets/controls",
      "_model_module_version": "1.5.0",
      "_model_name": "DescriptionStyleModel",
      "_view_count": null,
      "_view_module": "@jupyter-widgets/base",
      "_view_module_version": "1.2.0",
      "_view_name": "StyleView",
      "description_width": ""
     }
    },
    "4ceeec9f7a3543f7b9b691f861f873d8": {
     "model_module": "@jupyter-widgets/controls",
     "model_module_version": "1.5.0",
     "model_name": "DescriptionStyleModel",
     "state": {
      "_model_module": "@jupyter-widgets/controls",
      "_model_module_version": "1.5.0",
      "_model_name": "DescriptionStyleModel",
      "_view_count": null,
      "_view_module": "@jupyter-widgets/base",
      "_view_module_version": "1.2.0",
      "_view_name": "StyleView",
      "description_width": ""
     }
    },
    "4e67766af19742d291c920953e7ef07e": {
     "model_module": "@jupyter-widgets/base",
     "model_module_version": "1.2.0",
     "model_name": "LayoutModel",
     "state": {
      "_model_module": "@jupyter-widgets/base",
      "_model_module_version": "1.2.0",
      "_model_name": "LayoutModel",
      "_view_count": null,
      "_view_module": "@jupyter-widgets/base",
      "_view_module_version": "1.2.0",
      "_view_name": "LayoutView",
      "align_content": null,
      "align_items": null,
      "align_self": null,
      "border": null,
      "bottom": null,
      "display": null,
      "flex": null,
      "flex_flow": null,
      "grid_area": null,
      "grid_auto_columns": null,
      "grid_auto_flow": null,
      "grid_auto_rows": null,
      "grid_column": null,
      "grid_gap": null,
      "grid_row": null,
      "grid_template_areas": null,
      "grid_template_columns": null,
      "grid_template_rows": null,
      "height": null,
      "justify_content": null,
      "justify_items": null,
      "left": null,
      "margin": null,
      "max_height": null,
      "max_width": null,
      "min_height": null,
      "min_width": null,
      "object_fit": null,
      "object_position": null,
      "order": null,
      "overflow": null,
      "overflow_x": null,
      "overflow_y": null,
      "padding": null,
      "right": null,
      "top": null,
      "visibility": null,
      "width": null
     }
    },
    "534e63e7ad154ca69c9fe5b993cd063e": {
     "model_module": "@jupyter-widgets/controls",
     "model_module_version": "1.5.0",
     "model_name": "HTMLModel",
     "state": {
      "_dom_classes": [],
      "_model_module": "@jupyter-widgets/controls",
      "_model_module_version": "1.5.0",
      "_model_name": "HTMLModel",
      "_view_count": null,
      "_view_module": "@jupyter-widgets/controls",
      "_view_module_version": "1.5.0",
      "_view_name": "HTMLView",
      "description": "",
      "description_tooltip": null,
      "layout": "IPY_MODEL_f6f8686407bf4f429fc3f7ee27e3815a",
      "placeholder": "​",
      "style": "IPY_MODEL_3e18750bcc8745bd86736e09980b1711",
      "value": "Downloading https://raw.githubusercontent.com/stanfordnlp/stanza-resources/main/resources_1.5.1.json: "
     }
    },
    "540d40c3b2cc47dfabba0c73eaf5e92f": {
     "model_module": "@jupyter-widgets/base",
     "model_module_version": "1.2.0",
     "model_name": "LayoutModel",
     "state": {
      "_model_module": "@jupyter-widgets/base",
      "_model_module_version": "1.2.0",
      "_model_name": "LayoutModel",
      "_view_count": null,
      "_view_module": "@jupyter-widgets/base",
      "_view_module_version": "1.2.0",
      "_view_name": "LayoutView",
      "align_content": null,
      "align_items": null,
      "align_self": null,
      "border": null,
      "bottom": null,
      "display": null,
      "flex": null,
      "flex_flow": null,
      "grid_area": null,
      "grid_auto_columns": null,
      "grid_auto_flow": null,
      "grid_auto_rows": null,
      "grid_column": null,
      "grid_gap": null,
      "grid_row": null,
      "grid_template_areas": null,
      "grid_template_columns": null,
      "grid_template_rows": null,
      "height": null,
      "justify_content": null,
      "justify_items": null,
      "left": null,
      "margin": null,
      "max_height": null,
      "max_width": null,
      "min_height": null,
      "min_width": null,
      "object_fit": null,
      "object_position": null,
      "order": null,
      "overflow": null,
      "overflow_x": null,
      "overflow_y": null,
      "padding": null,
      "right": null,
      "top": null,
      "visibility": null,
      "width": null
     }
    },
    "544112bcb842457589b1f163c613355c": {
     "model_module": "@jupyter-widgets/base",
     "model_module_version": "1.2.0",
     "model_name": "LayoutModel",
     "state": {
      "_model_module": "@jupyter-widgets/base",
      "_model_module_version": "1.2.0",
      "_model_name": "LayoutModel",
      "_view_count": null,
      "_view_module": "@jupyter-widgets/base",
      "_view_module_version": "1.2.0",
      "_view_name": "LayoutView",
      "align_content": null,
      "align_items": null,
      "align_self": null,
      "border": null,
      "bottom": null,
      "display": null,
      "flex": null,
      "flex_flow": null,
      "grid_area": null,
      "grid_auto_columns": null,
      "grid_auto_flow": null,
      "grid_auto_rows": null,
      "grid_column": null,
      "grid_gap": null,
      "grid_row": null,
      "grid_template_areas": null,
      "grid_template_columns": null,
      "grid_template_rows": null,
      "height": null,
      "justify_content": null,
      "justify_items": null,
      "left": null,
      "margin": null,
      "max_height": null,
      "max_width": null,
      "min_height": null,
      "min_width": null,
      "object_fit": null,
      "object_position": null,
      "order": null,
      "overflow": null,
      "overflow_x": null,
      "overflow_y": null,
      "padding": null,
      "right": null,
      "top": null,
      "visibility": null,
      "width": null
     }
    },
    "59149354c73540179d5bb66573ef3c2f": {
     "model_module": "@jupyter-widgets/base",
     "model_module_version": "1.2.0",
     "model_name": "LayoutModel",
     "state": {
      "_model_module": "@jupyter-widgets/base",
      "_model_module_version": "1.2.0",
      "_model_name": "LayoutModel",
      "_view_count": null,
      "_view_module": "@jupyter-widgets/base",
      "_view_module_version": "1.2.0",
      "_view_name": "LayoutView",
      "align_content": null,
      "align_items": null,
      "align_self": null,
      "border": null,
      "bottom": null,
      "display": null,
      "flex": null,
      "flex_flow": null,
      "grid_area": null,
      "grid_auto_columns": null,
      "grid_auto_flow": null,
      "grid_auto_rows": null,
      "grid_column": null,
      "grid_gap": null,
      "grid_row": null,
      "grid_template_areas": null,
      "grid_template_columns": null,
      "grid_template_rows": null,
      "height": null,
      "justify_content": null,
      "justify_items": null,
      "left": null,
      "margin": null,
      "max_height": null,
      "max_width": null,
      "min_height": null,
      "min_width": null,
      "object_fit": null,
      "object_position": null,
      "order": null,
      "overflow": null,
      "overflow_x": null,
      "overflow_y": null,
      "padding": null,
      "right": null,
      "top": null,
      "visibility": null,
      "width": null
     }
    },
    "5b69afad9bc843e6bbc8c555bfe003c1": {
     "model_module": "@jupyter-widgets/base",
     "model_module_version": "1.2.0",
     "model_name": "LayoutModel",
     "state": {
      "_model_module": "@jupyter-widgets/base",
      "_model_module_version": "1.2.0",
      "_model_name": "LayoutModel",
      "_view_count": null,
      "_view_module": "@jupyter-widgets/base",
      "_view_module_version": "1.2.0",
      "_view_name": "LayoutView",
      "align_content": null,
      "align_items": null,
      "align_self": null,
      "border": null,
      "bottom": null,
      "display": null,
      "flex": null,
      "flex_flow": null,
      "grid_area": null,
      "grid_auto_columns": null,
      "grid_auto_flow": null,
      "grid_auto_rows": null,
      "grid_column": null,
      "grid_gap": null,
      "grid_row": null,
      "grid_template_areas": null,
      "grid_template_columns": null,
      "grid_template_rows": null,
      "height": null,
      "justify_content": null,
      "justify_items": null,
      "left": null,
      "margin": null,
      "max_height": null,
      "max_width": null,
      "min_height": null,
      "min_width": null,
      "object_fit": null,
      "object_position": null,
      "order": null,
      "overflow": null,
      "overflow_x": null,
      "overflow_y": null,
      "padding": null,
      "right": null,
      "top": null,
      "visibility": null,
      "width": null
     }
    },
    "5e427a66a08b4ab8b5ec2f2b8595cb7d": {
     "model_module": "@jupyter-widgets/controls",
     "model_module_version": "1.5.0",
     "model_name": "HTMLModel",
     "state": {
      "_dom_classes": [],
      "_model_module": "@jupyter-widgets/controls",
      "_model_module_version": "1.5.0",
      "_model_name": "HTMLModel",
      "_view_count": null,
      "_view_module": "@jupyter-widgets/controls",
      "_view_module_version": "1.5.0",
      "_view_name": "HTMLView",
      "description": "",
      "description_tooltip": null,
      "layout": "IPY_MODEL_ea62d25ade24403597502600088d1172",
      "placeholder": "​",
      "style": "IPY_MODEL_e426dff25d1a4820aac49f81763fa23c",
      "value": "Downloading https://huggingface.co/stanfordnlp/stanza-en/resolve/v1.5.1/models/lemma/combined_nocharlm.pt: 100%"
     }
    },
    "5f03614545f140c3b1fa5bc03d6eecd4": {
     "model_module": "@jupyter-widgets/controls",
     "model_module_version": "1.5.0",
     "model_name": "DescriptionStyleModel",
     "state": {
      "_model_module": "@jupyter-widgets/controls",
      "_model_module_version": "1.5.0",
      "_model_name": "DescriptionStyleModel",
      "_view_count": null,
      "_view_module": "@jupyter-widgets/base",
      "_view_module_version": "1.2.0",
      "_view_name": "StyleView",
      "description_width": ""
     }
    },
    "69efaf72859845dba04474001e3ac448": {
     "model_module": "@jupyter-widgets/controls",
     "model_module_version": "1.5.0",
     "model_name": "HBoxModel",
     "state": {
      "_dom_classes": [],
      "_model_module": "@jupyter-widgets/controls",
      "_model_module_version": "1.5.0",
      "_model_name": "HBoxModel",
      "_view_count": null,
      "_view_module": "@jupyter-widgets/controls",
      "_view_module_version": "1.5.0",
      "_view_name": "HBoxView",
      "box_style": "",
      "children": [
       "IPY_MODEL_ed5adddd136f4f98bbb37c4f06cd5734",
       "IPY_MODEL_89fda4296dc34b30a9a440fbccd4c4ce",
       "IPY_MODEL_0aee3d69e7c1423eabff4c55927b6f4a"
      ],
      "layout": "IPY_MODEL_01587186361d4afbadb036795b179c94"
     }
    },
    "6bb2555d6ea5456184e8712c83f840e0": {
     "model_module": "@jupyter-widgets/controls",
     "model_module_version": "1.5.0",
     "model_name": "ProgressStyleModel",
     "state": {
      "_model_module": "@jupyter-widgets/controls",
      "_model_module_version": "1.5.0",
      "_model_name": "ProgressStyleModel",
      "_view_count": null,
      "_view_module": "@jupyter-widgets/base",
      "_view_module_version": "1.2.0",
      "_view_name": "StyleView",
      "bar_color": null,
      "description_width": ""
     }
    },
    "6cce60be970a4bb6be42032ba5e721d1": {
     "model_module": "@jupyter-widgets/controls",
     "model_module_version": "1.5.0",
     "model_name": "DescriptionStyleModel",
     "state": {
      "_model_module": "@jupyter-widgets/controls",
      "_model_module_version": "1.5.0",
      "_model_name": "DescriptionStyleModel",
      "_view_count": null,
      "_view_module": "@jupyter-widgets/base",
      "_view_module_version": "1.2.0",
      "_view_name": "StyleView",
      "description_width": ""
     }
    },
    "6d2492f97d6a4a4285e1aa1f582524fa": {
     "model_module": "@jupyter-widgets/controls",
     "model_module_version": "1.5.0",
     "model_name": "ProgressStyleModel",
     "state": {
      "_model_module": "@jupyter-widgets/controls",
      "_model_module_version": "1.5.0",
      "_model_name": "ProgressStyleModel",
      "_view_count": null,
      "_view_module": "@jupyter-widgets/base",
      "_view_module_version": "1.2.0",
      "_view_name": "StyleView",
      "bar_color": null,
      "description_width": ""
     }
    },
    "6fd512e8bb004593839f69cd7ba1699e": {
     "model_module": "@jupyter-widgets/base",
     "model_module_version": "1.2.0",
     "model_name": "LayoutModel",
     "state": {
      "_model_module": "@jupyter-widgets/base",
      "_model_module_version": "1.2.0",
      "_model_name": "LayoutModel",
      "_view_count": null,
      "_view_module": "@jupyter-widgets/base",
      "_view_module_version": "1.2.0",
      "_view_name": "LayoutView",
      "align_content": null,
      "align_items": null,
      "align_self": null,
      "border": null,
      "bottom": null,
      "display": null,
      "flex": null,
      "flex_flow": null,
      "grid_area": null,
      "grid_auto_columns": null,
      "grid_auto_flow": null,
      "grid_auto_rows": null,
      "grid_column": null,
      "grid_gap": null,
      "grid_row": null,
      "grid_template_areas": null,
      "grid_template_columns": null,
      "grid_template_rows": null,
      "height": null,
      "justify_content": null,
      "justify_items": null,
      "left": null,
      "margin": null,
      "max_height": null,
      "max_width": null,
      "min_height": null,
      "min_width": null,
      "object_fit": null,
      "object_position": null,
      "order": null,
      "overflow": null,
      "overflow_x": null,
      "overflow_y": null,
      "padding": null,
      "right": null,
      "top": null,
      "visibility": null,
      "width": null
     }
    },
    "7169f5e2aa9049198812d569e2e1e911": {
     "model_module": "@jupyter-widgets/base",
     "model_module_version": "1.2.0",
     "model_name": "LayoutModel",
     "state": {
      "_model_module": "@jupyter-widgets/base",
      "_model_module_version": "1.2.0",
      "_model_name": "LayoutModel",
      "_view_count": null,
      "_view_module": "@jupyter-widgets/base",
      "_view_module_version": "1.2.0",
      "_view_name": "LayoutView",
      "align_content": null,
      "align_items": null,
      "align_self": null,
      "border": null,
      "bottom": null,
      "display": null,
      "flex": null,
      "flex_flow": null,
      "grid_area": null,
      "grid_auto_columns": null,
      "grid_auto_flow": null,
      "grid_auto_rows": null,
      "grid_column": null,
      "grid_gap": null,
      "grid_row": null,
      "grid_template_areas": null,
      "grid_template_columns": null,
      "grid_template_rows": null,
      "height": null,
      "justify_content": null,
      "justify_items": null,
      "left": null,
      "margin": null,
      "max_height": null,
      "max_width": null,
      "min_height": null,
      "min_width": null,
      "object_fit": null,
      "object_position": null,
      "order": null,
      "overflow": null,
      "overflow_x": null,
      "overflow_y": null,
      "padding": null,
      "right": null,
      "top": null,
      "visibility": null,
      "width": null
     }
    },
    "74113d4bfc4240119b79457cd326c000": {
     "model_module": "@jupyter-widgets/base",
     "model_module_version": "1.2.0",
     "model_name": "LayoutModel",
     "state": {
      "_model_module": "@jupyter-widgets/base",
      "_model_module_version": "1.2.0",
      "_model_name": "LayoutModel",
      "_view_count": null,
      "_view_module": "@jupyter-widgets/base",
      "_view_module_version": "1.2.0",
      "_view_name": "LayoutView",
      "align_content": null,
      "align_items": null,
      "align_self": null,
      "border": null,
      "bottom": null,
      "display": null,
      "flex": null,
      "flex_flow": null,
      "grid_area": null,
      "grid_auto_columns": null,
      "grid_auto_flow": null,
      "grid_auto_rows": null,
      "grid_column": null,
      "grid_gap": null,
      "grid_row": null,
      "grid_template_areas": null,
      "grid_template_columns": null,
      "grid_template_rows": null,
      "height": null,
      "justify_content": null,
      "justify_items": null,
      "left": null,
      "margin": null,
      "max_height": null,
      "max_width": null,
      "min_height": null,
      "min_width": null,
      "object_fit": null,
      "object_position": null,
      "order": null,
      "overflow": null,
      "overflow_x": null,
      "overflow_y": null,
      "padding": null,
      "right": null,
      "top": null,
      "visibility": null,
      "width": null
     }
    },
    "777bb298a10e47f9b8fefe320c0b8aea": {
     "model_module": "@jupyter-widgets/controls",
     "model_module_version": "1.5.0",
     "model_name": "DescriptionStyleModel",
     "state": {
      "_model_module": "@jupyter-widgets/controls",
      "_model_module_version": "1.5.0",
      "_model_name": "DescriptionStyleModel",
      "_view_count": null,
      "_view_module": "@jupyter-widgets/base",
      "_view_module_version": "1.2.0",
      "_view_name": "StyleView",
      "description_width": ""
     }
    },
    "789c764986f44517bf20a9ab17f7b471": {
     "model_module": "@jupyter-widgets/base",
     "model_module_version": "1.2.0",
     "model_name": "LayoutModel",
     "state": {
      "_model_module": "@jupyter-widgets/base",
      "_model_module_version": "1.2.0",
      "_model_name": "LayoutModel",
      "_view_count": null,
      "_view_module": "@jupyter-widgets/base",
      "_view_module_version": "1.2.0",
      "_view_name": "LayoutView",
      "align_content": null,
      "align_items": null,
      "align_self": null,
      "border": null,
      "bottom": null,
      "display": null,
      "flex": null,
      "flex_flow": null,
      "grid_area": null,
      "grid_auto_columns": null,
      "grid_auto_flow": null,
      "grid_auto_rows": null,
      "grid_column": null,
      "grid_gap": null,
      "grid_row": null,
      "grid_template_areas": null,
      "grid_template_columns": null,
      "grid_template_rows": null,
      "height": null,
      "justify_content": null,
      "justify_items": null,
      "left": null,
      "margin": null,
      "max_height": null,
      "max_width": null,
      "min_height": null,
      "min_width": null,
      "object_fit": null,
      "object_position": null,
      "order": null,
      "overflow": null,
      "overflow_x": null,
      "overflow_y": null,
      "padding": null,
      "right": null,
      "top": null,
      "visibility": null,
      "width": null
     }
    },
    "79cc0d7a0de142128bd3c2c485be2cf4": {
     "model_module": "@jupyter-widgets/controls",
     "model_module_version": "1.5.0",
     "model_name": "DescriptionStyleModel",
     "state": {
      "_model_module": "@jupyter-widgets/controls",
      "_model_module_version": "1.5.0",
      "_model_name": "DescriptionStyleModel",
      "_view_count": null,
      "_view_module": "@jupyter-widgets/base",
      "_view_module_version": "1.2.0",
      "_view_name": "StyleView",
      "description_width": ""
     }
    },
    "7ef374cdbb76462b85c36ad3f430fef7": {
     "model_module": "@jupyter-widgets/base",
     "model_module_version": "1.2.0",
     "model_name": "LayoutModel",
     "state": {
      "_model_module": "@jupyter-widgets/base",
      "_model_module_version": "1.2.0",
      "_model_name": "LayoutModel",
      "_view_count": null,
      "_view_module": "@jupyter-widgets/base",
      "_view_module_version": "1.2.0",
      "_view_name": "LayoutView",
      "align_content": null,
      "align_items": null,
      "align_self": null,
      "border": null,
      "bottom": null,
      "display": null,
      "flex": null,
      "flex_flow": null,
      "grid_area": null,
      "grid_auto_columns": null,
      "grid_auto_flow": null,
      "grid_auto_rows": null,
      "grid_column": null,
      "grid_gap": null,
      "grid_row": null,
      "grid_template_areas": null,
      "grid_template_columns": null,
      "grid_template_rows": null,
      "height": null,
      "justify_content": null,
      "justify_items": null,
      "left": null,
      "margin": null,
      "max_height": null,
      "max_width": null,
      "min_height": null,
      "min_width": null,
      "object_fit": null,
      "object_position": null,
      "order": null,
      "overflow": null,
      "overflow_x": null,
      "overflow_y": null,
      "padding": null,
      "right": null,
      "top": null,
      "visibility": null,
      "width": null
     }
    },
    "80c5fd80565c4f23a077b5a9cf8c5662": {
     "model_module": "@jupyter-widgets/base",
     "model_module_version": "1.2.0",
     "model_name": "LayoutModel",
     "state": {
      "_model_module": "@jupyter-widgets/base",
      "_model_module_version": "1.2.0",
      "_model_name": "LayoutModel",
      "_view_count": null,
      "_view_module": "@jupyter-widgets/base",
      "_view_module_version": "1.2.0",
      "_view_name": "LayoutView",
      "align_content": null,
      "align_items": null,
      "align_self": null,
      "border": null,
      "bottom": null,
      "display": null,
      "flex": null,
      "flex_flow": null,
      "grid_area": null,
      "grid_auto_columns": null,
      "grid_auto_flow": null,
      "grid_auto_rows": null,
      "grid_column": null,
      "grid_gap": null,
      "grid_row": null,
      "grid_template_areas": null,
      "grid_template_columns": null,
      "grid_template_rows": null,
      "height": null,
      "justify_content": null,
      "justify_items": null,
      "left": null,
      "margin": null,
      "max_height": null,
      "max_width": null,
      "min_height": null,
      "min_width": null,
      "object_fit": null,
      "object_position": null,
      "order": null,
      "overflow": null,
      "overflow_x": null,
      "overflow_y": null,
      "padding": null,
      "right": null,
      "top": null,
      "visibility": null,
      "width": null
     }
    },
    "830a20b012214f5a9b637ae3081e1bd3": {
     "model_module": "@jupyter-widgets/controls",
     "model_module_version": "1.5.0",
     "model_name": "ProgressStyleModel",
     "state": {
      "_model_module": "@jupyter-widgets/controls",
      "_model_module_version": "1.5.0",
      "_model_name": "ProgressStyleModel",
      "_view_count": null,
      "_view_module": "@jupyter-widgets/base",
      "_view_module_version": "1.2.0",
      "_view_name": "StyleView",
      "bar_color": null,
      "description_width": ""
     }
    },
    "86cea9da41974e31af9d59905cc8f85a": {
     "model_module": "@jupyter-widgets/base",
     "model_module_version": "1.2.0",
     "model_name": "LayoutModel",
     "state": {
      "_model_module": "@jupyter-widgets/base",
      "_model_module_version": "1.2.0",
      "_model_name": "LayoutModel",
      "_view_count": null,
      "_view_module": "@jupyter-widgets/base",
      "_view_module_version": "1.2.0",
      "_view_name": "LayoutView",
      "align_content": null,
      "align_items": null,
      "align_self": null,
      "border": null,
      "bottom": null,
      "display": null,
      "flex": null,
      "flex_flow": null,
      "grid_area": null,
      "grid_auto_columns": null,
      "grid_auto_flow": null,
      "grid_auto_rows": null,
      "grid_column": null,
      "grid_gap": null,
      "grid_row": null,
      "grid_template_areas": null,
      "grid_template_columns": null,
      "grid_template_rows": null,
      "height": null,
      "justify_content": null,
      "justify_items": null,
      "left": null,
      "margin": null,
      "max_height": null,
      "max_width": null,
      "min_height": null,
      "min_width": null,
      "object_fit": null,
      "object_position": null,
      "order": null,
      "overflow": null,
      "overflow_x": null,
      "overflow_y": null,
      "padding": null,
      "right": null,
      "top": null,
      "visibility": null,
      "width": null
     }
    },
    "89fda4296dc34b30a9a440fbccd4c4ce": {
     "model_module": "@jupyter-widgets/controls",
     "model_module_version": "1.5.0",
     "model_name": "FloatProgressModel",
     "state": {
      "_dom_classes": [],
      "_model_module": "@jupyter-widgets/controls",
      "_model_module_version": "1.5.0",
      "_model_name": "FloatProgressModel",
      "_view_count": null,
      "_view_module": "@jupyter-widgets/controls",
      "_view_module_version": "1.5.0",
      "_view_name": "ProgressView",
      "bar_style": "success",
      "description": "",
      "description_tooltip": null,
      "layout": "IPY_MODEL_329f78bbb600467cbf1448826f4e5b37",
      "max": 601420,
      "min": 0,
      "orientation": "horizontal",
      "style": "IPY_MODEL_1e7117c583be4f1c9c32aace86a597ac",
      "value": 601420
     }
    },
    "8b9129dd6bd5482b9fc1f71bf8b5b090": {
     "model_module": "@jupyter-widgets/base",
     "model_module_version": "1.2.0",
     "model_name": "LayoutModel",
     "state": {
      "_model_module": "@jupyter-widgets/base",
      "_model_module_version": "1.2.0",
      "_model_name": "LayoutModel",
      "_view_count": null,
      "_view_module": "@jupyter-widgets/base",
      "_view_module_version": "1.2.0",
      "_view_name": "LayoutView",
      "align_content": null,
      "align_items": null,
      "align_self": null,
      "border": null,
      "bottom": null,
      "display": null,
      "flex": null,
      "flex_flow": null,
      "grid_area": null,
      "grid_auto_columns": null,
      "grid_auto_flow": null,
      "grid_auto_rows": null,
      "grid_column": null,
      "grid_gap": null,
      "grid_row": null,
      "grid_template_areas": null,
      "grid_template_columns": null,
      "grid_template_rows": null,
      "height": null,
      "justify_content": null,
      "justify_items": null,
      "left": null,
      "margin": null,
      "max_height": null,
      "max_width": null,
      "min_height": null,
      "min_width": null,
      "object_fit": null,
      "object_position": null,
      "order": null,
      "overflow": null,
      "overflow_x": null,
      "overflow_y": null,
      "padding": null,
      "right": null,
      "top": null,
      "visibility": null,
      "width": null
     }
    },
    "8fea018369574e76afdc208ddf35d70e": {
     "model_module": "@jupyter-widgets/controls",
     "model_module_version": "1.5.0",
     "model_name": "HBoxModel",
     "state": {
      "_dom_classes": [],
      "_model_module": "@jupyter-widgets/controls",
      "_model_module_version": "1.5.0",
      "_model_name": "HBoxModel",
      "_view_count": null,
      "_view_module": "@jupyter-widgets/controls",
      "_view_module_version": "1.5.0",
      "_view_name": "HBoxView",
      "box_style": "",
      "children": [
       "IPY_MODEL_534e63e7ad154ca69c9fe5b993cd063e",
       "IPY_MODEL_db14ab3109294ffd88f39094e54477a8",
       "IPY_MODEL_c7f49af44c834ebf85933262a265bc34"
      ],
      "layout": "IPY_MODEL_28e9c95ddb9a4eeabce73da6b4b6a34b"
     }
    },
    "98411f923ac242cdb9b7e64e914207c2": {
     "model_module": "@jupyter-widgets/controls",
     "model_module_version": "1.5.0",
     "model_name": "FloatProgressModel",
     "state": {
      "_dom_classes": [],
      "_model_module": "@jupyter-widgets/controls",
      "_model_module_version": "1.5.0",
      "_model_name": "FloatProgressModel",
      "_view_count": null,
      "_view_module": "@jupyter-widgets/controls",
      "_view_module_version": "1.5.0",
      "_view_name": "ProgressView",
      "bar_style": "success",
      "description": "",
      "description_tooltip": null,
      "layout": "IPY_MODEL_74113d4bfc4240119b79457cd326c000",
      "max": 649279,
      "min": 0,
      "orientation": "horizontal",
      "style": "IPY_MODEL_19c43163d2bd4a73abbdab407930fdb4",
      "value": 649279
     }
    },
    "9c917a3618e540608f164f3985cc2def": {
     "model_module": "@jupyter-widgets/controls",
     "model_module_version": "1.5.0",
     "model_name": "HTMLModel",
     "state": {
      "_dom_classes": [],
      "_model_module": "@jupyter-widgets/controls",
      "_model_module_version": "1.5.0",
      "_model_name": "HTMLModel",
      "_view_count": null,
      "_view_module": "@jupyter-widgets/controls",
      "_view_module_version": "1.5.0",
      "_view_name": "HTMLView",
      "description": "",
      "description_tooltip": null,
      "layout": "IPY_MODEL_7169f5e2aa9049198812d569e2e1e911",
      "placeholder": "​",
      "style": "IPY_MODEL_e0ca51a7e0924a109fdea3e5841e803a",
      "value": " 649k/649k [00:00&lt;00:00, 2.23MB/s]"
     }
    },
    "9d17ba2f72bc48c18d46085a4d4774c1": {
     "model_module": "@jupyter-widgets/base",
     "model_module_version": "1.2.0",
     "model_name": "LayoutModel",
     "state": {
      "_model_module": "@jupyter-widgets/base",
      "_model_module_version": "1.2.0",
      "_model_name": "LayoutModel",
      "_view_count": null,
      "_view_module": "@jupyter-widgets/base",
      "_view_module_version": "1.2.0",
      "_view_name": "LayoutView",
      "align_content": null,
      "align_items": null,
      "align_self": null,
      "border": null,
      "bottom": null,
      "display": null,
      "flex": null,
      "flex_flow": null,
      "grid_area": null,
      "grid_auto_columns": null,
      "grid_auto_flow": null,
      "grid_auto_rows": null,
      "grid_column": null,
      "grid_gap": null,
      "grid_row": null,
      "grid_template_areas": null,
      "grid_template_columns": null,
      "grid_template_rows": null,
      "height": null,
      "justify_content": null,
      "justify_items": null,
      "left": null,
      "margin": null,
      "max_height": null,
      "max_width": null,
      "min_height": null,
      "min_width": null,
      "object_fit": null,
      "object_position": null,
      "order": null,
      "overflow": null,
      "overflow_x": null,
      "overflow_y": null,
      "padding": null,
      "right": null,
      "top": null,
      "visibility": null,
      "width": null
     }
    },
    "9d81ed97615e4f10a5665b503448acb7": {
     "model_module": "@jupyter-widgets/controls",
     "model_module_version": "1.5.0",
     "model_name": "DescriptionStyleModel",
     "state": {
      "_model_module": "@jupyter-widgets/controls",
      "_model_module_version": "1.5.0",
      "_model_name": "DescriptionStyleModel",
      "_view_count": null,
      "_view_module": "@jupyter-widgets/base",
      "_view_module_version": "1.2.0",
      "_view_name": "StyleView",
      "description_width": ""
     }
    },
    "a42a782898b04603ba916545396d80e1": {
     "model_module": "@jupyter-widgets/controls",
     "model_module_version": "1.5.0",
     "model_name": "HTMLModel",
     "state": {
      "_dom_classes": [],
      "_model_module": "@jupyter-widgets/controls",
      "_model_module_version": "1.5.0",
      "_model_name": "HTMLModel",
      "_view_count": null,
      "_view_module": "@jupyter-widgets/controls",
      "_view_module_version": "1.5.0",
      "_view_name": "HTMLView",
      "description": "",
      "description_tooltip": null,
      "layout": "IPY_MODEL_7ef374cdbb76462b85c36ad3f430fef7",
      "placeholder": "​",
      "style": "IPY_MODEL_2d103866bc1d440981c038f3feb243a1",
      "value": " 361k/? [00:00&lt;00:00, 5.48MB/s]"
     }
    },
    "a4ac63956b2c4fe2b5e83ab67d40a415": {
     "model_module": "@jupyter-widgets/base",
     "model_module_version": "1.2.0",
     "model_name": "LayoutModel",
     "state": {
      "_model_module": "@jupyter-widgets/base",
      "_model_module_version": "1.2.0",
      "_model_name": "LayoutModel",
      "_view_count": null,
      "_view_module": "@jupyter-widgets/base",
      "_view_module_version": "1.2.0",
      "_view_name": "LayoutView",
      "align_content": null,
      "align_items": null,
      "align_self": null,
      "border": null,
      "bottom": null,
      "display": null,
      "flex": null,
      "flex_flow": null,
      "grid_area": null,
      "grid_auto_columns": null,
      "grid_auto_flow": null,
      "grid_auto_rows": null,
      "grid_column": null,
      "grid_gap": null,
      "grid_row": null,
      "grid_template_areas": null,
      "grid_template_columns": null,
      "grid_template_rows": null,
      "height": null,
      "justify_content": null,
      "justify_items": null,
      "left": null,
      "margin": null,
      "max_height": null,
      "max_width": null,
      "min_height": null,
      "min_width": null,
      "object_fit": null,
      "object_position": null,
      "order": null,
      "overflow": null,
      "overflow_x": null,
      "overflow_y": null,
      "padding": null,
      "right": null,
      "top": null,
      "visibility": null,
      "width": null
     }
    },
    "a8c0374487204f0280520c776cd0375e": {
     "model_module": "@jupyter-widgets/base",
     "model_module_version": "1.2.0",
     "model_name": "LayoutModel",
     "state": {
      "_model_module": "@jupyter-widgets/base",
      "_model_module_version": "1.2.0",
      "_model_name": "LayoutModel",
      "_view_count": null,
      "_view_module": "@jupyter-widgets/base",
      "_view_module_version": "1.2.0",
      "_view_name": "LayoutView",
      "align_content": null,
      "align_items": null,
      "align_self": null,
      "border": null,
      "bottom": null,
      "display": null,
      "flex": null,
      "flex_flow": null,
      "grid_area": null,
      "grid_auto_columns": null,
      "grid_auto_flow": null,
      "grid_auto_rows": null,
      "grid_column": null,
      "grid_gap": null,
      "grid_row": null,
      "grid_template_areas": null,
      "grid_template_columns": null,
      "grid_template_rows": null,
      "height": null,
      "justify_content": null,
      "justify_items": null,
      "left": null,
      "margin": null,
      "max_height": null,
      "max_width": null,
      "min_height": null,
      "min_width": null,
      "object_fit": null,
      "object_position": null,
      "order": null,
      "overflow": null,
      "overflow_x": null,
      "overflow_y": null,
      "padding": null,
      "right": null,
      "top": null,
      "visibility": null,
      "width": null
     }
    },
    "a9446c52a0bf42d5b0c4b5605796f800": {
     "model_module": "@jupyter-widgets/controls",
     "model_module_version": "1.5.0",
     "model_name": "FloatProgressModel",
     "state": {
      "_dom_classes": [],
      "_model_module": "@jupyter-widgets/controls",
      "_model_module_version": "1.5.0",
      "_model_name": "FloatProgressModel",
      "_view_count": null,
      "_view_module": "@jupyter-widgets/controls",
      "_view_module_version": "1.5.0",
      "_view_name": "ProgressView",
      "bar_style": "success",
      "description": "",
      "description_tooltip": null,
      "layout": "IPY_MODEL_6fd512e8bb004593839f69cd7ba1699e",
      "max": 45143,
      "min": 0,
      "orientation": "horizontal",
      "style": "IPY_MODEL_d9c5e759e49046b2b749bb337d57d988",
      "value": 45143
     }
    },
    "aa12e97a8caa4fa0a493a097c3603219": {
     "model_module": "@jupyter-widgets/base",
     "model_module_version": "1.2.0",
     "model_name": "LayoutModel",
     "state": {
      "_model_module": "@jupyter-widgets/base",
      "_model_module_version": "1.2.0",
      "_model_name": "LayoutModel",
      "_view_count": null,
      "_view_module": "@jupyter-widgets/base",
      "_view_module_version": "1.2.0",
      "_view_name": "LayoutView",
      "align_content": null,
      "align_items": null,
      "align_self": null,
      "border": null,
      "bottom": null,
      "display": null,
      "flex": null,
      "flex_flow": null,
      "grid_area": null,
      "grid_auto_columns": null,
      "grid_auto_flow": null,
      "grid_auto_rows": null,
      "grid_column": null,
      "grid_gap": null,
      "grid_row": null,
      "grid_template_areas": null,
      "grid_template_columns": null,
      "grid_template_rows": null,
      "height": null,
      "justify_content": null,
      "justify_items": null,
      "left": null,
      "margin": null,
      "max_height": null,
      "max_width": null,
      "min_height": null,
      "min_width": null,
      "object_fit": null,
      "object_position": null,
      "order": null,
      "overflow": null,
      "overflow_x": null,
      "overflow_y": null,
      "padding": null,
      "right": null,
      "top": null,
      "visibility": null,
      "width": null
     }
    },
    "ac56b9054df44483b413ff629f6ac93e": {
     "model_module": "@jupyter-widgets/controls",
     "model_module_version": "1.5.0",
     "model_name": "FloatProgressModel",
     "state": {
      "_dom_classes": [],
      "_model_module": "@jupyter-widgets/controls",
      "_model_module_version": "1.5.0",
      "_model_name": "FloatProgressModel",
      "_view_count": null,
      "_view_module": "@jupyter-widgets/controls",
      "_view_module_version": "1.5.0",
      "_view_name": "ProgressView",
      "bar_style": "success",
      "description": "",
      "description_tooltip": null,
      "layout": "IPY_MODEL_8b9129dd6bd5482b9fc1f71bf8b5b090",
      "max": 635818,
      "min": 0,
      "orientation": "horizontal",
      "style": "IPY_MODEL_e2d1f38dd77042859ddb21e70185dc53",
      "value": 635818
     }
    },
    "ad61ea2614d54100a6a5496ef0a2c101": {
     "model_module": "@jupyter-widgets/controls",
     "model_module_version": "1.5.0",
     "model_name": "ProgressStyleModel",
     "state": {
      "_model_module": "@jupyter-widgets/controls",
      "_model_module_version": "1.5.0",
      "_model_name": "ProgressStyleModel",
      "_view_count": null,
      "_view_module": "@jupyter-widgets/base",
      "_view_module_version": "1.2.0",
      "_view_name": "StyleView",
      "bar_color": null,
      "description_width": ""
     }
    },
    "b447db10c53245e8a845278fba14d1db": {
     "model_module": "@jupyter-widgets/controls",
     "model_module_version": "1.5.0",
     "model_name": "HTMLModel",
     "state": {
      "_dom_classes": [],
      "_model_module": "@jupyter-widgets/controls",
      "_model_module_version": "1.5.0",
      "_model_name": "HTMLModel",
      "_view_count": null,
      "_view_module": "@jupyter-widgets/controls",
      "_view_module_version": "1.5.0",
      "_view_name": "HTMLView",
      "description": "",
      "description_tooltip": null,
      "layout": "IPY_MODEL_a4ac63956b2c4fe2b5e83ab67d40a415",
      "placeholder": "​",
      "style": "IPY_MODEL_6cce60be970a4bb6be42032ba5e721d1",
      "value": " 361k/? [00:00&lt;00:00, 3.68MB/s]"
     }
    },
    "b637d4c55f2048a98a4e3d4fb7f59e37": {
     "model_module": "@jupyter-widgets/controls",
     "model_module_version": "1.5.0",
     "model_name": "HTMLModel",
     "state": {
      "_dom_classes": [],
      "_model_module": "@jupyter-widgets/controls",
      "_model_module_version": "1.5.0",
      "_model_name": "HTMLModel",
      "_view_count": null,
      "_view_module": "@jupyter-widgets/controls",
      "_view_module_version": "1.5.0",
      "_view_name": "HTMLView",
      "description": "",
      "description_tooltip": null,
      "layout": "IPY_MODEL_59149354c73540179d5bb66573ef3c2f",
      "placeholder": "​",
      "style": "IPY_MODEL_3abfeacf4958442ab7964f6c5527a044",
      "value": "Downloading https://huggingface.co/stanfordnlp/stanza-es/resolve/v1.5.1/models/tokenize/ancora.pt: 100%"
     }
    },
    "b8f69450aabe40c08a7cd2c8e766fe99": {
     "model_module": "@jupyter-widgets/controls",
     "model_module_version": "1.5.0",
     "model_name": "FloatProgressModel",
     "state": {
      "_dom_classes": [],
      "_model_module": "@jupyter-widgets/controls",
      "_model_module_version": "1.5.0",
      "_model_name": "FloatProgressModel",
      "_view_count": null,
      "_view_module": "@jupyter-widgets/controls",
      "_view_module_version": "1.5.0",
      "_view_name": "ProgressView",
      "bar_style": "success",
      "description": "",
      "description_tooltip": null,
      "layout": "IPY_MODEL_d52869ab4d554adb9ae70d0319cf0c74",
      "max": 4239337,
      "min": 0,
      "orientation": "horizontal",
      "style": "IPY_MODEL_ad61ea2614d54100a6a5496ef0a2c101",
      "value": 4239337
     }
    },
    "bbf9fd67a31a45beb34ab79bfb6e4d1a": {
     "model_module": "@jupyter-widgets/base",
     "model_module_version": "1.2.0",
     "model_name": "LayoutModel",
     "state": {
      "_model_module": "@jupyter-widgets/base",
      "_model_module_version": "1.2.0",
      "_model_name": "LayoutModel",
      "_view_count": null,
      "_view_module": "@jupyter-widgets/base",
      "_view_module_version": "1.2.0",
      "_view_name": "LayoutView",
      "align_content": null,
      "align_items": null,
      "align_self": null,
      "border": null,
      "bottom": null,
      "display": null,
      "flex": null,
      "flex_flow": null,
      "grid_area": null,
      "grid_auto_columns": null,
      "grid_auto_flow": null,
      "grid_auto_rows": null,
      "grid_column": null,
      "grid_gap": null,
      "grid_row": null,
      "grid_template_areas": null,
      "grid_template_columns": null,
      "grid_template_rows": null,
      "height": null,
      "justify_content": null,
      "justify_items": null,
      "left": null,
      "margin": null,
      "max_height": null,
      "max_width": null,
      "min_height": null,
      "min_width": null,
      "object_fit": null,
      "object_position": null,
      "order": null,
      "overflow": null,
      "overflow_x": null,
      "overflow_y": null,
      "padding": null,
      "right": null,
      "top": null,
      "visibility": null,
      "width": null
     }
    },
    "bfd4a83d688d4485a4d6ab5ecad1226f": {
     "model_module": "@jupyter-widgets/base",
     "model_module_version": "1.2.0",
     "model_name": "LayoutModel",
     "state": {
      "_model_module": "@jupyter-widgets/base",
      "_model_module_version": "1.2.0",
      "_model_name": "LayoutModel",
      "_view_count": null,
      "_view_module": "@jupyter-widgets/base",
      "_view_module_version": "1.2.0",
      "_view_name": "LayoutView",
      "align_content": null,
      "align_items": null,
      "align_self": null,
      "border": null,
      "bottom": null,
      "display": null,
      "flex": null,
      "flex_flow": null,
      "grid_area": null,
      "grid_auto_columns": null,
      "grid_auto_flow": null,
      "grid_auto_rows": null,
      "grid_column": null,
      "grid_gap": null,
      "grid_row": null,
      "grid_template_areas": null,
      "grid_template_columns": null,
      "grid_template_rows": null,
      "height": null,
      "justify_content": null,
      "justify_items": null,
      "left": null,
      "margin": null,
      "max_height": null,
      "max_width": null,
      "min_height": null,
      "min_width": null,
      "object_fit": null,
      "object_position": null,
      "order": null,
      "overflow": null,
      "overflow_x": null,
      "overflow_y": null,
      "padding": null,
      "right": null,
      "top": null,
      "visibility": null,
      "width": null
     }
    },
    "c7f49af44c834ebf85933262a265bc34": {
     "model_module": "@jupyter-widgets/controls",
     "model_module_version": "1.5.0",
     "model_name": "HTMLModel",
     "state": {
      "_dom_classes": [],
      "_model_module": "@jupyter-widgets/controls",
      "_model_module_version": "1.5.0",
      "_model_name": "HTMLModel",
      "_view_count": null,
      "_view_module": "@jupyter-widgets/controls",
      "_view_module_version": "1.5.0",
      "_view_name": "HTMLView",
      "description": "",
      "description_tooltip": null,
      "layout": "IPY_MODEL_540d40c3b2cc47dfabba0c73eaf5e92f",
      "placeholder": "​",
      "style": "IPY_MODEL_188ece411cc340c79cb9340e55aa9cbc",
      "value": " 361k/? [00:00&lt;00:00, 6.78MB/s]"
     }
    },
    "c8e2ba26fc6a43f58258a2727db62c7f": {
     "model_module": "@jupyter-widgets/base",
     "model_module_version": "1.2.0",
     "model_name": "LayoutModel",
     "state": {
      "_model_module": "@jupyter-widgets/base",
      "_model_module_version": "1.2.0",
      "_model_name": "LayoutModel",
      "_view_count": null,
      "_view_module": "@jupyter-widgets/base",
      "_view_module_version": "1.2.0",
      "_view_name": "LayoutView",
      "align_content": null,
      "align_items": null,
      "align_self": null,
      "border": null,
      "bottom": null,
      "display": null,
      "flex": null,
      "flex_flow": null,
      "grid_area": null,
      "grid_auto_columns": null,
      "grid_auto_flow": null,
      "grid_auto_rows": null,
      "grid_column": null,
      "grid_gap": null,
      "grid_row": null,
      "grid_template_areas": null,
      "grid_template_columns": null,
      "grid_template_rows": null,
      "height": null,
      "justify_content": null,
      "justify_items": null,
      "left": null,
      "margin": null,
      "max_height": null,
      "max_width": null,
      "min_height": null,
      "min_width": null,
      "object_fit": null,
      "object_position": null,
      "order": null,
      "overflow": null,
      "overflow_x": null,
      "overflow_y": null,
      "padding": null,
      "right": null,
      "top": null,
      "visibility": null,
      "width": null
     }
    },
    "d52869ab4d554adb9ae70d0319cf0c74": {
     "model_module": "@jupyter-widgets/base",
     "model_module_version": "1.2.0",
     "model_name": "LayoutModel",
     "state": {
      "_model_module": "@jupyter-widgets/base",
      "_model_module_version": "1.2.0",
      "_model_name": "LayoutModel",
      "_view_count": null,
      "_view_module": "@jupyter-widgets/base",
      "_view_module_version": "1.2.0",
      "_view_name": "LayoutView",
      "align_content": null,
      "align_items": null,
      "align_self": null,
      "border": null,
      "bottom": null,
      "display": null,
      "flex": null,
      "flex_flow": null,
      "grid_area": null,
      "grid_auto_columns": null,
      "grid_auto_flow": null,
      "grid_auto_rows": null,
      "grid_column": null,
      "grid_gap": null,
      "grid_row": null,
      "grid_template_areas": null,
      "grid_template_columns": null,
      "grid_template_rows": null,
      "height": null,
      "justify_content": null,
      "justify_items": null,
      "left": null,
      "margin": null,
      "max_height": null,
      "max_width": null,
      "min_height": null,
      "min_width": null,
      "object_fit": null,
      "object_position": null,
      "order": null,
      "overflow": null,
      "overflow_x": null,
      "overflow_y": null,
      "padding": null,
      "right": null,
      "top": null,
      "visibility": null,
      "width": null
     }
    },
    "d7610fc163eb4f72b41e824a91e3bf20": {
     "model_module": "@jupyter-widgets/base",
     "model_module_version": "1.2.0",
     "model_name": "LayoutModel",
     "state": {
      "_model_module": "@jupyter-widgets/base",
      "_model_module_version": "1.2.0",
      "_model_name": "LayoutModel",
      "_view_count": null,
      "_view_module": "@jupyter-widgets/base",
      "_view_module_version": "1.2.0",
      "_view_name": "LayoutView",
      "align_content": null,
      "align_items": null,
      "align_self": null,
      "border": null,
      "bottom": null,
      "display": null,
      "flex": null,
      "flex_flow": null,
      "grid_area": null,
      "grid_auto_columns": null,
      "grid_auto_flow": null,
      "grid_auto_rows": null,
      "grid_column": null,
      "grid_gap": null,
      "grid_row": null,
      "grid_template_areas": null,
      "grid_template_columns": null,
      "grid_template_rows": null,
      "height": null,
      "justify_content": null,
      "justify_items": null,
      "left": null,
      "margin": null,
      "max_height": null,
      "max_width": null,
      "min_height": null,
      "min_width": null,
      "object_fit": null,
      "object_position": null,
      "order": null,
      "overflow": null,
      "overflow_x": null,
      "overflow_y": null,
      "padding": null,
      "right": null,
      "top": null,
      "visibility": null,
      "width": null
     }
    },
    "d9c5e759e49046b2b749bb337d57d988": {
     "model_module": "@jupyter-widgets/controls",
     "model_module_version": "1.5.0",
     "model_name": "ProgressStyleModel",
     "state": {
      "_model_module": "@jupyter-widgets/controls",
      "_model_module_version": "1.5.0",
      "_model_name": "ProgressStyleModel",
      "_view_count": null,
      "_view_module": "@jupyter-widgets/base",
      "_view_module_version": "1.2.0",
      "_view_name": "StyleView",
      "bar_color": null,
      "description_width": ""
     }
    },
    "db14ab3109294ffd88f39094e54477a8": {
     "model_module": "@jupyter-widgets/controls",
     "model_module_version": "1.5.0",
     "model_name": "FloatProgressModel",
     "state": {
      "_dom_classes": [],
      "_model_module": "@jupyter-widgets/controls",
      "_model_module_version": "1.5.0",
      "_model_name": "FloatProgressModel",
      "_view_count": null,
      "_view_module": "@jupyter-widgets/controls",
      "_view_module_version": "1.5.0",
      "_view_name": "ProgressView",
      "bar_style": "success",
      "description": "",
      "description_tooltip": null,
      "layout": "IPY_MODEL_c8e2ba26fc6a43f58258a2727db62c7f",
      "max": 45143,
      "min": 0,
      "orientation": "horizontal",
      "style": "IPY_MODEL_6d2492f97d6a4a4285e1aa1f582524fa",
      "value": 45143
     }
    },
    "dcd5601658eb4e34bd140dc644fad96d": {
     "model_module": "@jupyter-widgets/controls",
     "model_module_version": "1.5.0",
     "model_name": "FloatProgressModel",
     "state": {
      "_dom_classes": [],
      "_model_module": "@jupyter-widgets/controls",
      "_model_module_version": "1.5.0",
      "_model_name": "FloatProgressModel",
      "_view_count": null,
      "_view_module": "@jupyter-widgets/controls",
      "_view_module_version": "1.5.0",
      "_view_name": "ProgressView",
      "bar_style": "success",
      "description": "",
      "description_tooltip": null,
      "layout": "IPY_MODEL_bfd4a83d688d4485a4d6ab5ecad1226f",
      "max": 45143,
      "min": 0,
      "orientation": "horizontal",
      "style": "IPY_MODEL_830a20b012214f5a9b637ae3081e1bd3",
      "value": 45143
     }
    },
    "e0ca51a7e0924a109fdea3e5841e803a": {
     "model_module": "@jupyter-widgets/controls",
     "model_module_version": "1.5.0",
     "model_name": "DescriptionStyleModel",
     "state": {
      "_model_module": "@jupyter-widgets/controls",
      "_model_module_version": "1.5.0",
      "_model_name": "DescriptionStyleModel",
      "_view_count": null,
      "_view_module": "@jupyter-widgets/base",
      "_view_module_version": "1.2.0",
      "_view_name": "StyleView",
      "description_width": ""
     }
    },
    "e2d1f38dd77042859ddb21e70185dc53": {
     "model_module": "@jupyter-widgets/controls",
     "model_module_version": "1.5.0",
     "model_name": "ProgressStyleModel",
     "state": {
      "_model_module": "@jupyter-widgets/controls",
      "_model_module_version": "1.5.0",
      "_model_name": "ProgressStyleModel",
      "_view_count": null,
      "_view_module": "@jupyter-widgets/base",
      "_view_module_version": "1.2.0",
      "_view_name": "StyleView",
      "bar_color": null,
      "description_width": ""
     }
    },
    "e3699d1abc6a49ea9a859a85583f9740": {
     "model_module": "@jupyter-widgets/controls",
     "model_module_version": "1.5.0",
     "model_name": "HBoxModel",
     "state": {
      "_dom_classes": [],
      "_model_module": "@jupyter-widgets/controls",
      "_model_module_version": "1.5.0",
      "_model_name": "HBoxModel",
      "_view_count": null,
      "_view_module": "@jupyter-widgets/controls",
      "_view_module_version": "1.5.0",
      "_view_name": "HBoxView",
      "box_style": "",
      "children": [
       "IPY_MODEL_38429b8ce496404fa6c5027fd5e42410",
       "IPY_MODEL_98411f923ac242cdb9b7e64e914207c2",
       "IPY_MODEL_9c917a3618e540608f164f3985cc2def"
      ],
      "layout": "IPY_MODEL_240f9bb09b4244bcb8a8b9460f563d5a"
     }
    },
    "e426dff25d1a4820aac49f81763fa23c": {
     "model_module": "@jupyter-widgets/controls",
     "model_module_version": "1.5.0",
     "model_name": "DescriptionStyleModel",
     "state": {
      "_model_module": "@jupyter-widgets/controls",
      "_model_module_version": "1.5.0",
      "_model_name": "DescriptionStyleModel",
      "_view_count": null,
      "_view_module": "@jupyter-widgets/base",
      "_view_module_version": "1.2.0",
      "_view_name": "StyleView",
      "description_width": ""
     }
    },
    "e6e60958c9a34c5f84f2a29544064a03": {
     "model_module": "@jupyter-widgets/controls",
     "model_module_version": "1.5.0",
     "model_name": "HBoxModel",
     "state": {
      "_dom_classes": [],
      "_model_module": "@jupyter-widgets/controls",
      "_model_module_version": "1.5.0",
      "_model_name": "HBoxModel",
      "_view_count": null,
      "_view_module": "@jupyter-widgets/controls",
      "_view_module_version": "1.5.0",
      "_view_name": "HBoxView",
      "box_style": "",
      "children": [
       "IPY_MODEL_00dd5a1bd13c4e44975e797e5cc14137",
       "IPY_MODEL_dcd5601658eb4e34bd140dc644fad96d",
       "IPY_MODEL_a42a782898b04603ba916545396d80e1"
      ],
      "layout": "IPY_MODEL_80c5fd80565c4f23a077b5a9cf8c5662"
     }
    },
    "ea62d25ade24403597502600088d1172": {
     "model_module": "@jupyter-widgets/base",
     "model_module_version": "1.2.0",
     "model_name": "LayoutModel",
     "state": {
      "_model_module": "@jupyter-widgets/base",
      "_model_module_version": "1.2.0",
      "_model_name": "LayoutModel",
      "_view_count": null,
      "_view_module": "@jupyter-widgets/base",
      "_view_module_version": "1.2.0",
      "_view_name": "LayoutView",
      "align_content": null,
      "align_items": null,
      "align_self": null,
      "border": null,
      "bottom": null,
      "display": null,
      "flex": null,
      "flex_flow": null,
      "grid_area": null,
      "grid_auto_columns": null,
      "grid_auto_flow": null,
      "grid_auto_rows": null,
      "grid_column": null,
      "grid_gap": null,
      "grid_row": null,
      "grid_template_areas": null,
      "grid_template_columns": null,
      "grid_template_rows": null,
      "height": null,
      "justify_content": null,
      "justify_items": null,
      "left": null,
      "margin": null,
      "max_height": null,
      "max_width": null,
      "min_height": null,
      "min_width": null,
      "object_fit": null,
      "object_position": null,
      "order": null,
      "overflow": null,
      "overflow_x": null,
      "overflow_y": null,
      "padding": null,
      "right": null,
      "top": null,
      "visibility": null,
      "width": null
     }
    },
    "ed5adddd136f4f98bbb37c4f06cd5734": {
     "model_module": "@jupyter-widgets/controls",
     "model_module_version": "1.5.0",
     "model_name": "HTMLModel",
     "state": {
      "_dom_classes": [],
      "_model_module": "@jupyter-widgets/controls",
      "_model_module_version": "1.5.0",
      "_model_name": "HTMLModel",
      "_view_count": null,
      "_view_module": "@jupyter-widgets/controls",
      "_view_module_version": "1.5.0",
      "_view_name": "HTMLView",
      "description": "",
      "description_tooltip": null,
      "layout": "IPY_MODEL_16a102d92f8642bb8b0747dae1e3e502",
      "placeholder": "​",
      "style": "IPY_MODEL_5f03614545f140c3b1fa5bc03d6eecd4",
      "value": "Downloading https://huggingface.co/stanfordnlp/stanza-es/resolve/v1.5.1/models/mwt/ancora.pt: 100%"
     }
    },
    "f6f8686407bf4f429fc3f7ee27e3815a": {
     "model_module": "@jupyter-widgets/base",
     "model_module_version": "1.2.0",
     "model_name": "LayoutModel",
     "state": {
      "_model_module": "@jupyter-widgets/base",
      "_model_module_version": "1.2.0",
      "_model_name": "LayoutModel",
      "_view_count": null,
      "_view_module": "@jupyter-widgets/base",
      "_view_module_version": "1.2.0",
      "_view_name": "LayoutView",
      "align_content": null,
      "align_items": null,
      "align_self": null,
      "border": null,
      "bottom": null,
      "display": null,
      "flex": null,
      "flex_flow": null,
      "grid_area": null,
      "grid_auto_columns": null,
      "grid_auto_flow": null,
      "grid_auto_rows": null,
      "grid_column": null,
      "grid_gap": null,
      "grid_row": null,
      "grid_template_areas": null,
      "grid_template_columns": null,
      "grid_template_rows": null,
      "height": null,
      "justify_content": null,
      "justify_items": null,
      "left": null,
      "margin": null,
      "max_height": null,
      "max_width": null,
      "min_height": null,
      "min_width": null,
      "object_fit": null,
      "object_position": null,
      "order": null,
      "overflow": null,
      "overflow_x": null,
      "overflow_y": null,
      "padding": null,
      "right": null,
      "top": null,
      "visibility": null,
      "width": null
     }
    },
    "fbfea7d681a0496da7a380a3c54de8a6": {
     "model_module": "@jupyter-widgets/controls",
     "model_module_version": "1.5.0",
     "model_name": "HTMLModel",
     "state": {
      "_dom_classes": [],
      "_model_module": "@jupyter-widgets/controls",
      "_model_module_version": "1.5.0",
      "_model_name": "HTMLModel",
      "_view_count": null,
      "_view_module": "@jupyter-widgets/controls",
      "_view_module_version": "1.5.0",
      "_view_name": "HTMLView",
      "description": "",
      "description_tooltip": null,
      "layout": "IPY_MODEL_a8c0374487204f0280520c776cd0375e",
      "placeholder": "​",
      "style": "IPY_MODEL_9d81ed97615e4f10a5665b503448acb7",
      "value": "Downloading https://huggingface.co/stanfordnlp/stanza-es/resolve/v1.5.1/models/lemma/ancora_nocharlm.pt: 100%"
     }
    },
    "fd4874ed27c14aa8aecc37e8a6240e91": {
     "model_module": "@jupyter-widgets/controls",
     "model_module_version": "1.5.0",
     "model_name": "HTMLModel",
     "state": {
      "_dom_classes": [],
      "_model_module": "@jupyter-widgets/controls",
      "_model_module_version": "1.5.0",
      "_model_name": "HTMLModel",
      "_view_count": null,
      "_view_module": "@jupyter-widgets/controls",
      "_view_module_version": "1.5.0",
      "_view_name": "HTMLView",
      "description": "",
      "description_tooltip": null,
      "layout": "IPY_MODEL_789c764986f44517bf20a9ab17f7b471",
      "placeholder": "​",
      "style": "IPY_MODEL_47820c1053a74c48997bff9a5bf72b7f",
      "value": "Downloading https://raw.githubusercontent.com/stanfordnlp/stanza-resources/main/resources_1.5.1.json: "
     }
    },
    "fed3f1a360034eb6ad2abf80bd159b86": {
     "model_module": "@jupyter-widgets/controls",
     "model_module_version": "1.5.0",
     "model_name": "HTMLModel",
     "state": {
      "_dom_classes": [],
      "_model_module": "@jupyter-widgets/controls",
      "_model_module_version": "1.5.0",
      "_model_name": "HTMLModel",
      "_view_count": null,
      "_view_module": "@jupyter-widgets/controls",
      "_view_module_version": "1.5.0",
      "_view_name": "HTMLView",
      "description": "",
      "description_tooltip": null,
      "layout": "IPY_MODEL_5b69afad9bc843e6bbc8c555bfe003c1",
      "placeholder": "​",
      "style": "IPY_MODEL_79cc0d7a0de142128bd3c2c485be2cf4",
      "value": " 636k/636k [00:00&lt;00:00, 2.38MB/s]"
     }
    }
   }
  }
 },
 "nbformat": 4,
 "nbformat_minor": 5
}
